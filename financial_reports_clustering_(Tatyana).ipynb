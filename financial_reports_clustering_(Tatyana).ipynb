{
  "nbformat": 4,
  "nbformat_minor": 0,
  "metadata": {
    "colab": {
      "provenance": []
    },
    "kernelspec": {
      "name": "python3",
      "display_name": "Python 3"
    },
    "language_info": {
      "name": "python"
    }
  },
  "cells": [
    {
      "cell_type": "code",
      "source": [
        "import warnings\n",
        "import numpy as np\n",
        "from matplotlib import pyplot as plt\n",
        "import pandas as pd\n",
        "from sklearn.decomposition import PCA\n",
        "from sklearn.cluster import KMeans\n",
        "from sklearn import metrics\n",
        "from sklearn.cluster import DBSCAN\n",
        "warnings.filterwarnings(\"ignore\")\n",
        "pd.options.display.max_colwidth = 1000\n",
        "pd.options.display.max_rows = 2000\n",
        "plt.style.use('seaborn-v0_8-whitegrid')"
      ],
      "metadata": {
        "id": "ZmANOAx0Ahd0"
      },
      "execution_count": null,
      "outputs": []
    },
    {
      "cell_type": "markdown",
      "source": [
        "### Functions for clustering"
      ],
      "metadata": {
        "id": "sagf1M1gGryr"
      }
    },
    {
      "cell_type": "code",
      "execution_count": null,
      "metadata": {
        "id": "gz8HxV7s-PO4"
      },
      "outputs": [],
      "source": [
        "def plot_clusters(X, y):\n",
        "    if y is not None:\n",
        "        for cluster_label in np.unique(y):\n",
        "            plt.scatter(X[y == cluster_label, 0],\n",
        "                        X[y == cluster_label, 1],\n",
        "                        X[y == cluster_label, 2],\n",
        "                        label=str(cluster_label))\n",
        "    else:\n",
        "        plt.scatter(X[:, 0], X[:, 1], label='samples')\n",
        "\n",
        "    plt.xlabel('X1', size=12)\n",
        "    plt.ylabel('X2', size=12)\n",
        "    plt.title('Clustering result')\n",
        "    plt.xticks(size=12)\n",
        "    plt.yticks(size=12)\n",
        "    plt.savefig('clustering_result.png')\n",
        "    plt.show()"
      ]
    },
    {
      "cell_type": "code",
      "source": [
        "def calculate_metric(X, y_pred, k_means, n_clusters):\n",
        "    sum_of_distances = 0\n",
        "    for obj in range(X.shape[0]):\n",
        "        distance = np.sum(np.square(X[obj, :] - k_means.cluster_centers_[y_pred[obj]]))\n",
        "        sum_of_distances += distance\n",
        "    return sum_of_distances / X.shape[0]\n"
      ],
      "metadata": {
        "id": "y0V2Vxr8Am_o"
      },
      "execution_count": null,
      "outputs": []
    },
    {
      "cell_type": "code",
      "source": [
        "economic_reports_dataset = pd.read_csv('final_wiki_annual_financial_statements_dataset.csv')"
      ],
      "metadata": {
        "id": "apA1bYT6A3J9"
      },
      "execution_count": null,
      "outputs": []
    },
    {
      "cell_type": "markdown",
      "source": [
        "### Tickers' filtering according to Wiki data"
      ],
      "metadata": {
        "id": "DiiJ25a6GgcT"
      }
    },
    {
      "cell_type": "code",
      "source": [
        "wiki_reports_dataset = pd.read_csv('NASDAQ_133_wiki_range.csv')"
      ],
      "metadata": {
        "id": "46pMrmjGJHk4"
      },
      "execution_count": null,
      "outputs": []
    },
    {
      "cell_type": "code",
      "source": [
        "# @title\n",
        "relevant_tickers = []\n",
        "for ticker in economic_reports_dataset['Ticker'].tolist():\n",
        "  if ticker in wiki_reports_dataset['name'].tolist():\n",
        "    relevant_tickers.append(ticker)"
      ],
      "metadata": {
        "id": "PRq0lCeIJoUj"
      },
      "execution_count": null,
      "outputs": []
    },
    {
      "cell_type": "code",
      "source": [
        "# @title\n",
        "len(relevant_tickers)"
      ],
      "metadata": {
        "colab": {
          "base_uri": "https://localhost:8080/"
        },
        "id": "pvmAWDQIMgw0",
        "outputId": "692670c6-4706-4ff4-ebe5-5289d9fb69b9"
      },
      "execution_count": null,
      "outputs": [
        {
          "output_type": "execute_result",
          "data": {
            "text/plain": [
              "61"
            ]
          },
          "metadata": {},
          "execution_count": 329
        }
      ]
    },
    {
      "cell_type": "code",
      "source": [
        "# @title\n",
        "final_relevant_wiki_tickers = pd.DataFrame({'Ticker': relevant_tickers})"
      ],
      "metadata": {
        "id": "-QQXe7l_BTO4"
      },
      "execution_count": null,
      "outputs": []
    },
    {
      "cell_type": "code",
      "source": [
        "final_relevant_wiki_tickers"
      ],
      "metadata": {
        "colab": {
          "base_uri": "https://localhost:8080/"
        },
        "id": "ocuyXhyKBlTb",
        "outputId": "1854ff38-41fb-4a52-a80b-e2eaaabe8d98"
      },
      "execution_count": null,
      "outputs": [
        {
          "output_type": "execute_result",
          "data": {
            "text/plain": [
              "   Ticker\n",
              "0    AAPL\n",
              "1    ADBE\n",
              "2    ADSK\n",
              "3    ADTN\n",
              "4    AKAM\n",
              "5    ALNY\n",
              "6    AMGN\n",
              "7    AMZN\n",
              "8    ANSS\n",
              "9    ATVI\n",
              "10   BIIB\n",
              "11   BJRI\n",
              "12   BSET\n",
              "13   CDNS\n",
              "14  CHSCP\n",
              "15   CONN\n",
              "16   COST\n",
              "17   CSCO\n",
              "18   EXPD\n",
              "19   EXPE\n",
              "20   FTNT\n",
              "21   GILD\n",
              "22  GOOGL\n",
              "23   GRMN\n",
              "24   INTC\n",
              "25   INTU\n",
              "26   IRDM\n",
              "27   JBHT\n",
              "28   JBLU\n",
              "29   LRCX\n",
              "30   LULU\n",
              "31   LXRX\n",
              "32    MAT\n",
              "33   MDLZ\n",
              "34   MSFT\n",
              "35   MSTR\n",
              "36   MTEX\n",
              "37     MU\n",
              "38   MYGN\n",
              "39   NATI\n",
              "40   NDAQ\n",
              "41   NFLX\n",
              "42   NTAP\n",
              "43   NVDA\n",
              "44   OLED\n",
              "45   REGN\n",
              "46   SAVE\n",
              "47   SCHN\n",
              "48   SGEN\n",
              "49   SNPS\n",
              "50   SRCL\n",
              "51   SSNC\n",
              "52    STX\n",
              "53   SWKS\n",
              "54   TRIP\n",
              "55    TXN\n",
              "56    VIA\n",
              "57   VRSK\n",
              "58    WDC\n",
              "59   WYNN\n",
              "60   ZEUS"
            ],
            "text/html": [
              "\n",
              "  <div id=\"df-8d045e5b-c091-46d4-9178-6dcdfa2b08d9\" class=\"colab-df-container\">\n",
              "    <div>\n",
              "<style scoped>\n",
              "    .dataframe tbody tr th:only-of-type {\n",
              "        vertical-align: middle;\n",
              "    }\n",
              "\n",
              "    .dataframe tbody tr th {\n",
              "        vertical-align: top;\n",
              "    }\n",
              "\n",
              "    .dataframe thead th {\n",
              "        text-align: right;\n",
              "    }\n",
              "</style>\n",
              "<table border=\"1\" class=\"dataframe\">\n",
              "  <thead>\n",
              "    <tr style=\"text-align: right;\">\n",
              "      <th></th>\n",
              "      <th>Ticker</th>\n",
              "    </tr>\n",
              "  </thead>\n",
              "  <tbody>\n",
              "    <tr>\n",
              "      <th>0</th>\n",
              "      <td>AAPL</td>\n",
              "    </tr>\n",
              "    <tr>\n",
              "      <th>1</th>\n",
              "      <td>ADBE</td>\n",
              "    </tr>\n",
              "    <tr>\n",
              "      <th>2</th>\n",
              "      <td>ADSK</td>\n",
              "    </tr>\n",
              "    <tr>\n",
              "      <th>3</th>\n",
              "      <td>ADTN</td>\n",
              "    </tr>\n",
              "    <tr>\n",
              "      <th>4</th>\n",
              "      <td>AKAM</td>\n",
              "    </tr>\n",
              "    <tr>\n",
              "      <th>5</th>\n",
              "      <td>ALNY</td>\n",
              "    </tr>\n",
              "    <tr>\n",
              "      <th>6</th>\n",
              "      <td>AMGN</td>\n",
              "    </tr>\n",
              "    <tr>\n",
              "      <th>7</th>\n",
              "      <td>AMZN</td>\n",
              "    </tr>\n",
              "    <tr>\n",
              "      <th>8</th>\n",
              "      <td>ANSS</td>\n",
              "    </tr>\n",
              "    <tr>\n",
              "      <th>9</th>\n",
              "      <td>ATVI</td>\n",
              "    </tr>\n",
              "    <tr>\n",
              "      <th>10</th>\n",
              "      <td>BIIB</td>\n",
              "    </tr>\n",
              "    <tr>\n",
              "      <th>11</th>\n",
              "      <td>BJRI</td>\n",
              "    </tr>\n",
              "    <tr>\n",
              "      <th>12</th>\n",
              "      <td>BSET</td>\n",
              "    </tr>\n",
              "    <tr>\n",
              "      <th>13</th>\n",
              "      <td>CDNS</td>\n",
              "    </tr>\n",
              "    <tr>\n",
              "      <th>14</th>\n",
              "      <td>CHSCP</td>\n",
              "    </tr>\n",
              "    <tr>\n",
              "      <th>15</th>\n",
              "      <td>CONN</td>\n",
              "    </tr>\n",
              "    <tr>\n",
              "      <th>16</th>\n",
              "      <td>COST</td>\n",
              "    </tr>\n",
              "    <tr>\n",
              "      <th>17</th>\n",
              "      <td>CSCO</td>\n",
              "    </tr>\n",
              "    <tr>\n",
              "      <th>18</th>\n",
              "      <td>EXPD</td>\n",
              "    </tr>\n",
              "    <tr>\n",
              "      <th>19</th>\n",
              "      <td>EXPE</td>\n",
              "    </tr>\n",
              "    <tr>\n",
              "      <th>20</th>\n",
              "      <td>FTNT</td>\n",
              "    </tr>\n",
              "    <tr>\n",
              "      <th>21</th>\n",
              "      <td>GILD</td>\n",
              "    </tr>\n",
              "    <tr>\n",
              "      <th>22</th>\n",
              "      <td>GOOGL</td>\n",
              "    </tr>\n",
              "    <tr>\n",
              "      <th>23</th>\n",
              "      <td>GRMN</td>\n",
              "    </tr>\n",
              "    <tr>\n",
              "      <th>24</th>\n",
              "      <td>INTC</td>\n",
              "    </tr>\n",
              "    <tr>\n",
              "      <th>25</th>\n",
              "      <td>INTU</td>\n",
              "    </tr>\n",
              "    <tr>\n",
              "      <th>26</th>\n",
              "      <td>IRDM</td>\n",
              "    </tr>\n",
              "    <tr>\n",
              "      <th>27</th>\n",
              "      <td>JBHT</td>\n",
              "    </tr>\n",
              "    <tr>\n",
              "      <th>28</th>\n",
              "      <td>JBLU</td>\n",
              "    </tr>\n",
              "    <tr>\n",
              "      <th>29</th>\n",
              "      <td>LRCX</td>\n",
              "    </tr>\n",
              "    <tr>\n",
              "      <th>30</th>\n",
              "      <td>LULU</td>\n",
              "    </tr>\n",
              "    <tr>\n",
              "      <th>31</th>\n",
              "      <td>LXRX</td>\n",
              "    </tr>\n",
              "    <tr>\n",
              "      <th>32</th>\n",
              "      <td>MAT</td>\n",
              "    </tr>\n",
              "    <tr>\n",
              "      <th>33</th>\n",
              "      <td>MDLZ</td>\n",
              "    </tr>\n",
              "    <tr>\n",
              "      <th>34</th>\n",
              "      <td>MSFT</td>\n",
              "    </tr>\n",
              "    <tr>\n",
              "      <th>35</th>\n",
              "      <td>MSTR</td>\n",
              "    </tr>\n",
              "    <tr>\n",
              "      <th>36</th>\n",
              "      <td>MTEX</td>\n",
              "    </tr>\n",
              "    <tr>\n",
              "      <th>37</th>\n",
              "      <td>MU</td>\n",
              "    </tr>\n",
              "    <tr>\n",
              "      <th>38</th>\n",
              "      <td>MYGN</td>\n",
              "    </tr>\n",
              "    <tr>\n",
              "      <th>39</th>\n",
              "      <td>NATI</td>\n",
              "    </tr>\n",
              "    <tr>\n",
              "      <th>40</th>\n",
              "      <td>NDAQ</td>\n",
              "    </tr>\n",
              "    <tr>\n",
              "      <th>41</th>\n",
              "      <td>NFLX</td>\n",
              "    </tr>\n",
              "    <tr>\n",
              "      <th>42</th>\n",
              "      <td>NTAP</td>\n",
              "    </tr>\n",
              "    <tr>\n",
              "      <th>43</th>\n",
              "      <td>NVDA</td>\n",
              "    </tr>\n",
              "    <tr>\n",
              "      <th>44</th>\n",
              "      <td>OLED</td>\n",
              "    </tr>\n",
              "    <tr>\n",
              "      <th>45</th>\n",
              "      <td>REGN</td>\n",
              "    </tr>\n",
              "    <tr>\n",
              "      <th>46</th>\n",
              "      <td>SAVE</td>\n",
              "    </tr>\n",
              "    <tr>\n",
              "      <th>47</th>\n",
              "      <td>SCHN</td>\n",
              "    </tr>\n",
              "    <tr>\n",
              "      <th>48</th>\n",
              "      <td>SGEN</td>\n",
              "    </tr>\n",
              "    <tr>\n",
              "      <th>49</th>\n",
              "      <td>SNPS</td>\n",
              "    </tr>\n",
              "    <tr>\n",
              "      <th>50</th>\n",
              "      <td>SRCL</td>\n",
              "    </tr>\n",
              "    <tr>\n",
              "      <th>51</th>\n",
              "      <td>SSNC</td>\n",
              "    </tr>\n",
              "    <tr>\n",
              "      <th>52</th>\n",
              "      <td>STX</td>\n",
              "    </tr>\n",
              "    <tr>\n",
              "      <th>53</th>\n",
              "      <td>SWKS</td>\n",
              "    </tr>\n",
              "    <tr>\n",
              "      <th>54</th>\n",
              "      <td>TRIP</td>\n",
              "    </tr>\n",
              "    <tr>\n",
              "      <th>55</th>\n",
              "      <td>TXN</td>\n",
              "    </tr>\n",
              "    <tr>\n",
              "      <th>56</th>\n",
              "      <td>VIA</td>\n",
              "    </tr>\n",
              "    <tr>\n",
              "      <th>57</th>\n",
              "      <td>VRSK</td>\n",
              "    </tr>\n",
              "    <tr>\n",
              "      <th>58</th>\n",
              "      <td>WDC</td>\n",
              "    </tr>\n",
              "    <tr>\n",
              "      <th>59</th>\n",
              "      <td>WYNN</td>\n",
              "    </tr>\n",
              "    <tr>\n",
              "      <th>60</th>\n",
              "      <td>ZEUS</td>\n",
              "    </tr>\n",
              "  </tbody>\n",
              "</table>\n",
              "</div>\n",
              "    <div class=\"colab-df-buttons\">\n",
              "\n",
              "  <div class=\"colab-df-container\">\n",
              "    <button class=\"colab-df-convert\" onclick=\"convertToInteractive('df-8d045e5b-c091-46d4-9178-6dcdfa2b08d9')\"\n",
              "            title=\"Convert this dataframe to an interactive table.\"\n",
              "            style=\"display:none;\">\n",
              "\n",
              "  <svg xmlns=\"http://www.w3.org/2000/svg\" height=\"24px\" viewBox=\"0 -960 960 960\">\n",
              "    <path d=\"M120-120v-720h720v720H120Zm60-500h600v-160H180v160Zm220 220h160v-160H400v160Zm0 220h160v-160H400v160ZM180-400h160v-160H180v160Zm440 0h160v-160H620v160ZM180-180h160v-160H180v160Zm440 0h160v-160H620v160Z\"/>\n",
              "  </svg>\n",
              "    </button>\n",
              "\n",
              "  <style>\n",
              "    .colab-df-container {\n",
              "      display:flex;\n",
              "      gap: 12px;\n",
              "    }\n",
              "\n",
              "    .colab-df-convert {\n",
              "      background-color: #E8F0FE;\n",
              "      border: none;\n",
              "      border-radius: 50%;\n",
              "      cursor: pointer;\n",
              "      display: none;\n",
              "      fill: #1967D2;\n",
              "      height: 32px;\n",
              "      padding: 0 0 0 0;\n",
              "      width: 32px;\n",
              "    }\n",
              "\n",
              "    .colab-df-convert:hover {\n",
              "      background-color: #E2EBFA;\n",
              "      box-shadow: 0px 1px 2px rgba(60, 64, 67, 0.3), 0px 1px 3px 1px rgba(60, 64, 67, 0.15);\n",
              "      fill: #174EA6;\n",
              "    }\n",
              "\n",
              "    .colab-df-buttons div {\n",
              "      margin-bottom: 4px;\n",
              "    }\n",
              "\n",
              "    [theme=dark] .colab-df-convert {\n",
              "      background-color: #3B4455;\n",
              "      fill: #D2E3FC;\n",
              "    }\n",
              "\n",
              "    [theme=dark] .colab-df-convert:hover {\n",
              "      background-color: #434B5C;\n",
              "      box-shadow: 0px 1px 3px 1px rgba(0, 0, 0, 0.15);\n",
              "      filter: drop-shadow(0px 1px 2px rgba(0, 0, 0, 0.3));\n",
              "      fill: #FFFFFF;\n",
              "    }\n",
              "  </style>\n",
              "\n",
              "    <script>\n",
              "      const buttonEl =\n",
              "        document.querySelector('#df-8d045e5b-c091-46d4-9178-6dcdfa2b08d9 button.colab-df-convert');\n",
              "      buttonEl.style.display =\n",
              "        google.colab.kernel.accessAllowed ? 'block' : 'none';\n",
              "\n",
              "      async function convertToInteractive(key) {\n",
              "        const element = document.querySelector('#df-8d045e5b-c091-46d4-9178-6dcdfa2b08d9');\n",
              "        const dataTable =\n",
              "          await google.colab.kernel.invokeFunction('convertToInteractive',\n",
              "                                                    [key], {});\n",
              "        if (!dataTable) return;\n",
              "\n",
              "        const docLinkHtml = 'Like what you see? Visit the ' +\n",
              "          '<a target=\"_blank\" href=https://colab.research.google.com/notebooks/data_table.ipynb>data table notebook</a>'\n",
              "          + ' to learn more about interactive tables.';\n",
              "        element.innerHTML = '';\n",
              "        dataTable['output_type'] = 'display_data';\n",
              "        await google.colab.output.renderOutput(dataTable, element);\n",
              "        const docLink = document.createElement('div');\n",
              "        docLink.innerHTML = docLinkHtml;\n",
              "        element.appendChild(docLink);\n",
              "      }\n",
              "    </script>\n",
              "  </div>\n",
              "\n",
              "\n",
              "<div id=\"df-a1c04c71-cc72-436b-a6b3-20b5bc46c885\">\n",
              "  <button class=\"colab-df-quickchart\" onclick=\"quickchart('df-a1c04c71-cc72-436b-a6b3-20b5bc46c885')\"\n",
              "            title=\"Suggest charts.\"\n",
              "            style=\"display:none;\">\n",
              "\n",
              "<svg xmlns=\"http://www.w3.org/2000/svg\" height=\"24px\"viewBox=\"0 0 24 24\"\n",
              "     width=\"24px\">\n",
              "    <g>\n",
              "        <path d=\"M19 3H5c-1.1 0-2 .9-2 2v14c0 1.1.9 2 2 2h14c1.1 0 2-.9 2-2V5c0-1.1-.9-2-2-2zM9 17H7v-7h2v7zm4 0h-2V7h2v10zm4 0h-2v-4h2v4z\"/>\n",
              "    </g>\n",
              "</svg>\n",
              "  </button>\n",
              "\n",
              "<style>\n",
              "  .colab-df-quickchart {\n",
              "      --bg-color: #E8F0FE;\n",
              "      --fill-color: #1967D2;\n",
              "      --hover-bg-color: #E2EBFA;\n",
              "      --hover-fill-color: #174EA6;\n",
              "      --disabled-fill-color: #AAA;\n",
              "      --disabled-bg-color: #DDD;\n",
              "  }\n",
              "\n",
              "  [theme=dark] .colab-df-quickchart {\n",
              "      --bg-color: #3B4455;\n",
              "      --fill-color: #D2E3FC;\n",
              "      --hover-bg-color: #434B5C;\n",
              "      --hover-fill-color: #FFFFFF;\n",
              "      --disabled-bg-color: #3B4455;\n",
              "      --disabled-fill-color: #666;\n",
              "  }\n",
              "\n",
              "  .colab-df-quickchart {\n",
              "    background-color: var(--bg-color);\n",
              "    border: none;\n",
              "    border-radius: 50%;\n",
              "    cursor: pointer;\n",
              "    display: none;\n",
              "    fill: var(--fill-color);\n",
              "    height: 32px;\n",
              "    padding: 0;\n",
              "    width: 32px;\n",
              "  }\n",
              "\n",
              "  .colab-df-quickchart:hover {\n",
              "    background-color: var(--hover-bg-color);\n",
              "    box-shadow: 0 1px 2px rgba(60, 64, 67, 0.3), 0 1px 3px 1px rgba(60, 64, 67, 0.15);\n",
              "    fill: var(--button-hover-fill-color);\n",
              "  }\n",
              "\n",
              "  .colab-df-quickchart-complete:disabled,\n",
              "  .colab-df-quickchart-complete:disabled:hover {\n",
              "    background-color: var(--disabled-bg-color);\n",
              "    fill: var(--disabled-fill-color);\n",
              "    box-shadow: none;\n",
              "  }\n",
              "\n",
              "  .colab-df-spinner {\n",
              "    border: 2px solid var(--fill-color);\n",
              "    border-color: transparent;\n",
              "    border-bottom-color: var(--fill-color);\n",
              "    animation:\n",
              "      spin 1s steps(1) infinite;\n",
              "  }\n",
              "\n",
              "  @keyframes spin {\n",
              "    0% {\n",
              "      border-color: transparent;\n",
              "      border-bottom-color: var(--fill-color);\n",
              "      border-left-color: var(--fill-color);\n",
              "    }\n",
              "    20% {\n",
              "      border-color: transparent;\n",
              "      border-left-color: var(--fill-color);\n",
              "      border-top-color: var(--fill-color);\n",
              "    }\n",
              "    30% {\n",
              "      border-color: transparent;\n",
              "      border-left-color: var(--fill-color);\n",
              "      border-top-color: var(--fill-color);\n",
              "      border-right-color: var(--fill-color);\n",
              "    }\n",
              "    40% {\n",
              "      border-color: transparent;\n",
              "      border-right-color: var(--fill-color);\n",
              "      border-top-color: var(--fill-color);\n",
              "    }\n",
              "    60% {\n",
              "      border-color: transparent;\n",
              "      border-right-color: var(--fill-color);\n",
              "    }\n",
              "    80% {\n",
              "      border-color: transparent;\n",
              "      border-right-color: var(--fill-color);\n",
              "      border-bottom-color: var(--fill-color);\n",
              "    }\n",
              "    90% {\n",
              "      border-color: transparent;\n",
              "      border-bottom-color: var(--fill-color);\n",
              "    }\n",
              "  }\n",
              "</style>\n",
              "\n",
              "  <script>\n",
              "    async function quickchart(key) {\n",
              "      const quickchartButtonEl =\n",
              "        document.querySelector('#' + key + ' button');\n",
              "      quickchartButtonEl.disabled = true;  // To prevent multiple clicks.\n",
              "      quickchartButtonEl.classList.add('colab-df-spinner');\n",
              "      try {\n",
              "        const charts = await google.colab.kernel.invokeFunction(\n",
              "            'suggestCharts', [key], {});\n",
              "      } catch (error) {\n",
              "        console.error('Error during call to suggestCharts:', error);\n",
              "      }\n",
              "      quickchartButtonEl.classList.remove('colab-df-spinner');\n",
              "      quickchartButtonEl.classList.add('colab-df-quickchart-complete');\n",
              "    }\n",
              "    (() => {\n",
              "      let quickchartButtonEl =\n",
              "        document.querySelector('#df-a1c04c71-cc72-436b-a6b3-20b5bc46c885 button');\n",
              "      quickchartButtonEl.style.display =\n",
              "        google.colab.kernel.accessAllowed ? 'block' : 'none';\n",
              "    })();\n",
              "  </script>\n",
              "</div>\n",
              "    </div>\n",
              "  </div>\n"
            ]
          },
          "metadata": {},
          "execution_count": 331
        }
      ]
    },
    {
      "cell_type": "code",
      "source": [
        "pd.DataFrame.to_csv(final_relevant_wiki_tickers, 'final_relevant_wiki_tickers.csv')"
      ],
      "metadata": {
        "id": "9CchgJ9NBtYN"
      },
      "execution_count": null,
      "outputs": []
    },
    {
      "cell_type": "markdown",
      "source": [
        "### Financial reports' filtering according to Wiki data"
      ],
      "metadata": {
        "id": "IQheu-CjGa61"
      }
    },
    {
      "cell_type": "code",
      "source": [
        "relevant_wiki_tickers = pd.read_csv('final_relevant_wiki_tickers.csv')"
      ],
      "metadata": {
        "id": "3v5YAmfn9iRx"
      },
      "execution_count": null,
      "outputs": []
    },
    {
      "cell_type": "code",
      "source": [
        "economic_reports_dataset = economic_reports_dataset.loc[economic_reports_dataset.Ticker.isin(relevant_wiki_tickers.Ticker.tolist()), :]"
      ],
      "metadata": {
        "id": "Gk0v2wGM9w89"
      },
      "execution_count": null,
      "outputs": []
    },
    {
      "cell_type": "code",
      "source": [
        "economic_reports_dataset"
      ],
      "metadata": {
        "colab": {
          "base_uri": "https://localhost:8080/"
        },
        "id": "AvWtpOyKJJWG",
        "outputId": "98f354b0-edf9-413a-dd58-2d07e3068b02"
      },
      "execution_count": null,
      "outputs": [
        {
          "output_type": "execute_result",
          "data": {
            "text/plain": [
              "    Ticker  Total assets 2019  Operating income 2019  Net income 2019  \\\n",
              "0     AAPL       3.385160e+11           6.393000e+10     5.525600e+10   \n",
              "2     ADBE       2.076240e+10           3.268121e+09     2.951458e+09   \n",
              "4     ADSK       4.729200e+09          -2.500000e+07    -8.080000e+07   \n",
              "5     ADTN       5.451180e+08          -3.996300e+07    -5.298200e+07   \n",
              "7     AKAM       7.006886e+09           5.489180e+08     4.780350e+08   \n",
              "8     ALNY       2.395134e+09          -9.394310e+08    -8.861160e+08   \n",
              "13    AMGN       5.970700e+10           9.674000e+09     7.842000e+09   \n",
              "14    AMZN       2.252480e+11           1.454100e+10     1.158800e+10   \n",
              "15    ANSS       4.838887e+09           5.150400e+08     4.512950e+08   \n",
              "17    ATVI       1.984500e+10           1.607000e+09     1.503000e+09   \n",
              "19    BIIB       2.723430e+10           7.042600e+09     5.888500e+09   \n",
              "20    BJRI       1.072084e+09           4.911900e+07     4.523800e+07   \n",
              "25    BSET       2.757660e+08          -5.950000e+05    -1.928000e+06   \n",
              "29    CDNS       3.357225e+09           4.917960e+08     9.889790e+08   \n",
              "33   CHSCP       1.644749e+10           6.596020e+08     8.298800e+08   \n",
              "36    CONN       1.884907e+09           1.612550e+08     7.384900e+07   \n",
              "37    COST       4.540000e+10           4.737000e+09     3.659000e+09   \n",
              "39    CSCO       9.779300e+10           1.421900e+10     1.162100e+10   \n",
              "50    EXPD       3.691884e+09           7.666920e+08     5.903950e+08   \n",
              "51    EXPE       2.141600e+10           9.030000e+08     5.650000e+08   \n",
              "59    FTNT       3.885500e+09           3.442000e+08     3.265000e+08   \n",
              "61    GILD       6.162700e+10           4.287000e+09     5.386000e+09   \n",
              "62   GOOGL       2.759090e+11           3.423100e+10     3.434300e+10   \n",
              "63    GRMN       6.166799e+09           9.455860e+08     9.524860e+08   \n",
              "78    INTC       1.365240e+11           2.203500e+10     2.104800e+10   \n",
              "79    INTU       6.283000e+09           1.854000e+09     1.557000e+09   \n",
              "82    IRDM       3.623557e+09           1.012000e+07    -1.619990e+08   \n",
              "87    JBHT       5.471000e+09           7.340000e+08     5.163200e+08   \n",
              "88    JBLU       1.191800e+10           8.000000e+08     5.690000e+08   \n",
              "101   LRCX       1.200133e+10           2.464732e+09     2.191430e+09   \n",
              "103   LULU       3.281354e+09           8.891100e+08     6.455960e+08   \n",
              "104   LXRX       4.177150e+08           1.414450e+08     1.301330e+08   \n",
              "106    MAT       5.325226e+09           3.924000e+07    -2.135120e+08   \n",
              "107   MDLZ       6.454900e+10           3.843000e+09     3.870000e+09   \n",
              "110   MSFT       2.865560e+11           4.295900e+10     3.924000e+10   \n",
              "111   MSTR       9.165710e+08          -1.002000e+06     3.435500e+07   \n",
              "112   MTEX       6.292300e+07           6.433000e+06     3.289000e+06   \n",
              "113     MU       4.888700e+10           7.376000e+09     6.313000e+09   \n",
              "114   MYGN       1.562700e+09           7.600000e+06     4.600000e+06   \n",
              "115   NATI       1.651889e+09           1.745540e+08     1.621510e+08   \n",
              "118   NDAQ       1.392400e+10           1.017000e+09     7.740000e+08   \n",
              "121   NFLX       3.397571e+10           2.604254e+09     1.866916e+09   \n",
              "124   NTAP       8.741000e+09           1.221000e+09     1.169000e+09   \n",
              "126   NVDA       1.329200e+10           3.804000e+09     4.141000e+09   \n",
              "128   OLED       1.120157e+09           1.583430e+08     1.383040e+08   \n",
              "151   REGN       1.480520e+10           2.209800e+09     2.115800e+09   \n",
              "158   SAVE       7.043412e+09           5.010470e+08     3.352550e+08   \n",
              "161   SCHN       1.160746e+09           8.386500e+07     5.634500e+07   \n",
              "162   SGEN       2.205866e+09          -2.205450e+08    -1.586500e+08   \n",
              "163   SNPS       6.405160e+09           5.202310e+08     5.323670e+08   \n",
              "166   SRCL       6.437000e+09          -2.119000e+08    -3.468000e+08   \n",
              "167   SSNC       1.674110e+10           9.144000e+08     4.385000e+08   \n",
              "168    STX       8.885000e+09           1.487000e+09     2.012000e+09   \n",
              "169   SWKS       4.839600e+09           9.520000e+08     8.536000e+08   \n",
              "173   TRIP       1.984000e+09           1.870000e+08     1.260000e+08   \n",
              "178    TXN       1.801800e+10           5.723000e+09     5.017000e+09   \n",
              "181    VIA       4.229680e+08           2.397900e+07     8.450000e+06   \n",
              "185   VRSK       7.055200e+09           6.969000e+08     4.499000e+08   \n",
              "188    WDC       2.637000e+10           8.700000e+07    -7.540000e+08   \n",
              "191   WYNN       1.387128e+10           8.783050e+08     1.229850e+08   \n",
              "194   ZEUS       6.495550e+08           1.661000e+07     3.856000e+06   \n",
              "\n",
              "     Total assets 2018  Net income 2018  Operating income 2018  \\\n",
              "0         3.657250e+11     5.953100e+10           7.089800e+10   \n",
              "2         1.876868e+10     2.590774e+09           2.840369e+09   \n",
              "4         4.113600e+09    -5.669000e+08          -5.091000e+08   \n",
              "5         6.280270e+08    -1.934200e+07          -4.542200e+07   \n",
              "7         5.461770e+09     2.983730e+08           3.624990e+08   \n",
              "8         1.574802e+09    -7.614970e+08          -8.146730e+08   \n",
              "13        6.641600e+10     8.394000e+09           1.026300e+10   \n",
              "14        1.626480e+11     1.007300e+10           1.242100e+10   \n",
              "15        3.265964e+09     4.193750e+08           4.765740e+08   \n",
              "17        1.783500e+10     1.813000e+09           1.988000e+09   \n",
              "19        2.528890e+10     4.430700e+09           5.888600e+09   \n",
              "20        6.951070e+08     5.081000e+07           5.757000e+07   \n",
              "25        2.916410e+08     8.218000e+06           1.408400e+07   \n",
              "29        2.468654e+09     3.457770e+08           3.962090e+08   \n",
              "33        1.638118e+10     7.759070e+08           4.570860e+08   \n",
              "36        1.900799e+09     6.463000e+06           1.150680e+08   \n",
              "37        4.083000e+10     3.134000e+09           4.480000e+09   \n",
              "39        1.087840e+11     1.100000e+08           1.230900e+10   \n",
              "50        3.314559e+09     6.181990e+08           7.965630e+08   \n",
              "51        1.803300e+10     4.060000e+08           7.140000e+08   \n",
              "59        3.078000e+09     3.322000e+08           2.310000e+08   \n",
              "61        6.367500e+10     5.455000e+09           8.200000e+09   \n",
              "62        2.327920e+11     3.073600e+10           2.632100e+10   \n",
              "63        5.382858e+09     6.940800e+08           7.783430e+08   \n",
              "78        1.279630e+11     2.105300e+10           2.331600e+10   \n",
              "79        5.178000e+09     1.211000e+09           1.497000e+09   \n",
              "82        4.014271e+09    -1.338400e+07           4.165300e+07   \n",
              "87        5.091647e+09     4.895850e+08           6.810210e+08   \n",
              "88        1.042600e+10     1.880000e+08           2.880000e+08   \n",
              "101       1.247948e+10     2.380681e+09           3.213299e+09   \n",
              "103       2.084711e+09     4.838010e+08           7.058360e+08   \n",
              "104       2.841360e+08    -1.205480e+08          -1.032790e+08   \n",
              "106       5.243465e+09    -5.309930e+08          -2.365070e+08   \n",
              "107       6.272900e+10     3.381000e+09           3.312000e+09   \n",
              "110       2.588480e+11     1.657100e+10           3.505800e+10   \n",
              "111       8.557680e+08     2.250100e+07           3.981000e+06   \n",
              "112       6.219800e+07    -3.886000e+06          -9.000000e+04   \n",
              "113       4.337600e+10     1.413500e+10           1.499400e+10   \n",
              "114       1.174100e+09     1.311000e+08           1.187000e+08   \n",
              "115       1.671235e+09     1.550570e+08           1.728790e+08   \n",
              "118       1.570000e+10     4.580000e+08           1.028000e+09   \n",
              "121       2.597440e+10     1.211242e+09           1.605226e+09   \n",
              "124       9.865000e+09     7.600000e+07           1.125000e+09   \n",
              "126       1.124100e+10     3.047000e+09           3.210000e+09   \n",
              "128       9.334240e+08     5.884000e+07           5.673500e+07   \n",
              "151       1.173450e+10     2.444400e+09           2.534400e+09   \n",
              "158       5.165457e+09     1.557490e+08           3.509140e+08   \n",
              "161       1.104817e+09     1.564510e+08           1.489880e+08   \n",
              "162       1.503329e+09    -2.226930e+08          -2.599980e+08   \n",
              "163       6.145974e+09     4.325180e+08           3.602250e+08   \n",
              "166       6.455500e+09    -2.447000e+08          -1.611000e+08   \n",
              "167       1.610750e+10     1.032000e+08           4.291000e+08   \n",
              "168       9.410000e+09     1.182000e+09           1.634000e+09   \n",
              "169       4.828900e+09     9.184000e+08           1.319300e+09   \n",
              "173       2.167000e+09     1.130000e+08           1.830000e+08   \n",
              "178       1.713700e+10     5.580000e+09           6.713000e+09   \n",
              "181       4.887380e+08    -1.186000e+06          -3.654000e+06   \n",
              "185       5.900300e+09     5.987000e+08           8.341000e+08   \n",
              "188       2.923500e+10     6.750000e+08           3.617000e+09   \n",
              "191       1.321627e+10     5.724300e+08           7.355440e+08   \n",
              "194       7.607400e+08     3.375900e+07           5.705200e+07   \n",
              "\n",
              "     Total assets 2017  Net income 2017  Operating income 2017  \\\n",
              "0         3.753190e+11     4.835100e+10           6.134400e+10   \n",
              "2         1.453556e+10     1.693954e+09           2.168095e+09   \n",
              "4         4.798100e+09    -5.821000e+08          -4.996000e+08   \n",
              "5         6.690940e+08     2.384000e+07           3.773700e+07   \n",
              "7         4.602844e+09     2.183210e+08           3.162190e+08   \n",
              "8         1.994730e+09    -4.908740e+08          -5.000880e+08   \n",
              "13        7.995400e+10     1.979000e+09           9.973000e+09   \n",
              "14        1.313100e+11     3.033000e+09           4.106000e+09   \n",
              "15        2.941623e+09     2.592510e+08           3.907280e+08   \n",
              "17        1.866800e+10     2.730000e+08           1.309000e+09   \n",
              "19        2.365260e+10     2.539100e+09           5.344200e+09   \n",
              "20        6.849580e+08     4.478000e+07           3.790400e+07   \n",
              "25        2.937480e+08     1.825600e+07           2.701800e+07   \n",
              "29        2.418714e+09     2.041010e+08           3.239550e+08   \n",
              "33        1.597376e+10     1.278570e+08          -1.117970e+08   \n",
              "36        1.941134e+09    -2.556200e+07           6.409800e+07   \n",
              "37        3.634700e+10     2.679000e+09           4.111000e+09   \n",
              "39        1.298180e+11     9.609000e+09           1.197300e+10   \n",
              "50        3.117008e+09     4.893450e+08           7.002600e+08   \n",
              "51        1.851563e+10     3.779640e+08           6.251380e+08   \n",
              "59        2.257916e+09     3.139900e+07           1.098040e+08   \n",
              "61        7.028300e+10     4.628000e+09           1.412400e+10   \n",
              "62        1.972950e+11     1.266200e+10           2.614600e+10   \n",
              "63        5.010260e+09     6.949550e+08           6.688600e+08   \n",
              "78        1.232490e+11     9.601000e+09           1.793600e+10   \n",
              "79        4.068000e+09     9.710000e+08           1.395000e+09   \n",
              "82        3.782051e+09     2.338560e+08           1.154760e+08   \n",
              "87        4.465349e+09     6.862630e+08           6.237890e+08   \n",
              "88        9.781000e+09     1.147000e+09           1.000000e+09   \n",
              "101       1.212276e+10     1.697763e+09           1.902132e+09   \n",
              "103       1.998483e+09     2.586620e+08           4.560010e+08   \n",
              "104       4.365390e+08    -1.290500e+08          -1.366810e+08   \n",
              "106       6.238503e+09    -1.053836e+09          -3.428230e+08   \n",
              "107       6.310900e+10     2.922000e+09           3.506000e+09   \n",
              "110       2.410860e+11     2.120400e+10           2.232600e+10   \n",
              "111       8.357280e+08     1.764300e+07           7.435500e+07   \n",
              "112       7.624200e+07    -1.787000e+06           2.519000e+06   \n",
              "113       3.533600e+10     5.089000e+09           5.868000e+09   \n",
              "114       1.224400e+09     2.180000e+07           4.940000e+07   \n",
              "115       1.566434e+09     5.241100e+07           1.457780e+08   \n",
              "118       1.578600e+10     7.340000e+08           9.990000e+08   \n",
              "121       1.901274e+10     5.589290e+08           8.386790e+08   \n",
              "124       9.493000e+09     5.090000e+08           6.650000e+08   \n",
              "126       9.841000e+09     1.666000e+09           1.934000e+09   \n",
              "128       7.799560e+08     1.038850e+08           1.462470e+08   \n",
              "151       8.764286e+09     1.198511e+09           2.079591e+09   \n",
              "158       4.143950e+09     4.206060e+08           3.887910e+08   \n",
              "161       9.337550e+08     4.451100e+07           5.601300e+07   \n",
              "162       8.779490e+08    -1.255300e+08          -1.958010e+08   \n",
              "163       5.396414e+09     1.365630e+08           3.475630e+08   \n",
              "166       6.988300e+09     4.240000e+07          -7.600000e+06   \n",
              "167       5.539516e+09     3.288640e+08           3.969130e+08   \n",
              "168       9.268000e+09     7.720000e+08           1.054000e+09   \n",
              "169       4.573600e+09     1.010200e+09           1.253800e+09   \n",
              "173       2.272000e+09    -1.900000e+07           1.240000e+08   \n",
              "178       1.764200e+10     3.682000e+09           6.083000e+09   \n",
              "181       5.059490e+08     1.885400e+07           1.024200e+08   \n",
              "185       6.020300e+09     5.551000e+08           8.012000e+08   \n",
              "188       2.986000e+10     3.970000e+08           1.954000e+09   \n",
              "191       1.268174e+10     7.471810e+08           1.055565e+09   \n",
              "194       6.041580e+08     1.896300e+07           2.398600e+07   \n",
              "\n",
              "     Total shareholders' equity 2019  Total shareholders' equity 2018  \\\n",
              "0                       9.048800e+10                     1.071470e+11   \n",
              "2                       1.053016e+10                     9.362114e+09   \n",
              "4                      -2.109000e+08                    -2.560000e+08   \n",
              "5                       3.804260e+08                     4.462790e+08   \n",
              "7                       3.657958e+09                     3.191860e+09   \n",
              "8                       1.438692e+09                     1.301965e+09   \n",
              "13                      9.673000e+09                     1.250000e+10   \n",
              "14                      6.206000e+10                     4.354900e+10   \n",
              "15                      3.453379e+09                     2.649547e+09   \n",
              "17                      1.280500e+10                     1.135700e+10   \n",
              "19                      1.334320e+10                     1.303960e+10   \n",
              "20                      2.902870e+08                     3.092210e+08   \n",
              "25                      1.786700e+08                     1.903090e+08   \n",
              "29                      2.102894e+09                     1.288401e+09   \n",
              "33                      8.610140e+09                     8.155582e+09   \n",
              "36                      6.199750e+08                     5.350680e+08   \n",
              "37                      1.524300e+10                     1.279900e+10   \n",
              "39                      3.357100e+10                     4.320400e+10   \n",
              "50                      2.195028e+09                     1.986838e+09   \n",
              "51                      3.967000e+09                     4.104000e+09   \n",
              "59                      1.321900e+09                     1.010200e+09   \n",
              "61                      2.252500e+10                     2.138700e+10   \n",
              "62                      2.014420e+11                     1.776280e+11   \n",
              "63                      4.793496e+09                     4.162974e+09   \n",
              "78                      7.750400e+10                     7.456300e+10   \n",
              "79                      3.749000e+09                     2.354000e+09   \n",
              "82                      1.459282e+09                     1.601577e+09   \n",
              "87                      2.267029e+09                     2.101384e+09   \n",
              "88                      4.799000e+09                     4.611000e+09   \n",
              "101                     4.673865e+09                     6.501851e+09   \n",
              "103                     1.952218e+09                     1.445975e+09   \n",
              "104                     1.171010e+08                    -2.640500e+07   \n",
              "106                     4.917140e+08                     6.694650e+08   \n",
              "107                     2.727500e+10                     2.563700e+10   \n",
              "110                     1.023300e+11                     8.271800e+10   \n",
              "111                     5.085590e+08                     5.297310e+08   \n",
              "112                     2.727500e+07                     2.532400e+07   \n",
              "113                     3.588100e+10                     3.229400e+10   \n",
              "114                     1.088900e+09                     9.649000e+08   \n",
              "115                     1.176350e+09                     1.238358e+09   \n",
              "118                     5.639000e+09                     5.449000e+09   \n",
              "121                     7.582157e+09                     5.238765e+09   \n",
              "124                     1.090000e+09                     2.067000e+09   \n",
              "126                     9.342000e+09                     7.471000e+09   \n",
              "128                     8.114490e+08                     6.905060e+08   \n",
              "151                     1.108970e+10                     8.757300e+09   \n",
              "158                     2.261332e+09                     1.928504e+09   \n",
              "161                     6.969640e+08                     6.660780e+08   \n",
              "162                     1.876287e+09                     1.273943e+09   \n",
              "163                     4.083013e+09                     3.479152e+09   \n",
              "166                     2.330900e+09                     2.587400e+09   \n",
              "167                     5.116100e+09                     4.580000e+09   \n",
              "168                     2.162000e+09                     1.665000e+09   \n",
              "169                     4.122300e+09                     4.097000e+09   \n",
              "173                     1.161000e+09                     1.471000e+09   \n",
              "178                     8.907000e+09                     8.994000e+09   \n",
              "181                     5.121900e+07                     4.580600e+07   \n",
              "185                     2.260800e+09                     2.070600e+09   \n",
              "188                     9.967000e+09                     1.153100e+10   \n",
              "191                     1.743045e+09                     2.034123e+09   \n",
              "194                     3.083520e+08                     3.069910e+08   \n",
              "\n",
              "     Total shareholders' equity 2017  \n",
              "0                       1.340470e+11  \n",
              "2                       8.459869e+09  \n",
              "4                       7.336000e+08  \n",
              "5                       4.979110e+08  \n",
              "7                       3.310723e+09  \n",
              "8                       1.766431e+09  \n",
              "13                      2.524100e+10  \n",
              "14                      2.770900e+10  \n",
              "15                      2.245831e+09  \n",
              "17                      9.462000e+09  \n",
              "19                      1.261280e+10  \n",
              "20                      2.587290e+08  \n",
              "25                      1.914600e+08  \n",
              "29                      9.892020e+08  \n",
              "33                      7.893234e+09  \n",
              "36                      5.177900e+08  \n",
              "37                      1.077800e+10  \n",
              "39                      6.613700e+10  \n",
              "50                      1.991858e+09  \n",
              "51                      4.522335e+09  \n",
              "59                      5.893770e+08  \n",
              "61                      2.044200e+10  \n",
              "62                      1.525020e+11  \n",
              "63                      3.802466e+09  \n",
              "78                      6.901900e+10  \n",
              "79                      1.354000e+09  \n",
              "82                      1.596469e+09  \n",
              "87                      1.839325e+09  \n",
              "88                      4.834000e+09  \n",
              "101                     6.817451e+09  \n",
              "103                     1.596960e+09  \n",
              "104                     5.210200e+07  \n",
              "106                     1.257455e+09  \n",
              "107                     2.611100e+10  \n",
              "110                     7.239400e+10  \n",
              "111                     5.905390e+08  \n",
              "112                     4.024100e+07  \n",
              "113                     1.862100e+10  \n",
              "114                     7.782000e+08  \n",
              "115                     1.128021e+09  \n",
              "118                     5.887000e+09  \n",
              "121                     3.581956e+09  \n",
              "124                     2.780000e+09  \n",
              "126                     5.762000e+09  \n",
              "128                     6.590540e+08  \n",
              "151                     6.144078e+09  \n",
              "158                     1.777081e+09  \n",
              "161                     5.335860e+08  \n",
              "162                     6.775690e+08  \n",
              "163                     3.275620e+09  \n",
              "166                     2.896600e+09  \n",
              "167                     2.686388e+09  \n",
              "168                     1.364000e+09  \n",
              "169                     4.065700e+09  \n",
              "173                     1.363000e+09  \n",
              "178                     1.033700e+10  \n",
              "181                     3.624800e+07  \n",
              "185                     1.925400e+09  \n",
              "188                     1.141800e+10  \n",
              "191                     9.478460e+08  \n",
              "194                     2.725830e+08  "
            ],
            "text/html": [
              "\n",
              "  <div id=\"df-36c8430a-1d5f-44a4-8d80-37b05a5e1033\" class=\"colab-df-container\">\n",
              "    <div>\n",
              "<style scoped>\n",
              "    .dataframe tbody tr th:only-of-type {\n",
              "        vertical-align: middle;\n",
              "    }\n",
              "\n",
              "    .dataframe tbody tr th {\n",
              "        vertical-align: top;\n",
              "    }\n",
              "\n",
              "    .dataframe thead th {\n",
              "        text-align: right;\n",
              "    }\n",
              "</style>\n",
              "<table border=\"1\" class=\"dataframe\">\n",
              "  <thead>\n",
              "    <tr style=\"text-align: right;\">\n",
              "      <th></th>\n",
              "      <th>Ticker</th>\n",
              "      <th>Total assets 2019</th>\n",
              "      <th>Operating income 2019</th>\n",
              "      <th>Net income 2019</th>\n",
              "      <th>Total assets 2018</th>\n",
              "      <th>Net income 2018</th>\n",
              "      <th>Operating income 2018</th>\n",
              "      <th>Total assets 2017</th>\n",
              "      <th>Net income 2017</th>\n",
              "      <th>Operating income 2017</th>\n",
              "      <th>Total shareholders' equity 2019</th>\n",
              "      <th>Total shareholders' equity 2018</th>\n",
              "      <th>Total shareholders' equity 2017</th>\n",
              "    </tr>\n",
              "  </thead>\n",
              "  <tbody>\n",
              "    <tr>\n",
              "      <th>0</th>\n",
              "      <td>AAPL</td>\n",
              "      <td>3.385160e+11</td>\n",
              "      <td>6.393000e+10</td>\n",
              "      <td>5.525600e+10</td>\n",
              "      <td>3.657250e+11</td>\n",
              "      <td>5.953100e+10</td>\n",
              "      <td>7.089800e+10</td>\n",
              "      <td>3.753190e+11</td>\n",
              "      <td>4.835100e+10</td>\n",
              "      <td>6.134400e+10</td>\n",
              "      <td>9.048800e+10</td>\n",
              "      <td>1.071470e+11</td>\n",
              "      <td>1.340470e+11</td>\n",
              "    </tr>\n",
              "    <tr>\n",
              "      <th>2</th>\n",
              "      <td>ADBE</td>\n",
              "      <td>2.076240e+10</td>\n",
              "      <td>3.268121e+09</td>\n",
              "      <td>2.951458e+09</td>\n",
              "      <td>1.876868e+10</td>\n",
              "      <td>2.590774e+09</td>\n",
              "      <td>2.840369e+09</td>\n",
              "      <td>1.453556e+10</td>\n",
              "      <td>1.693954e+09</td>\n",
              "      <td>2.168095e+09</td>\n",
              "      <td>1.053016e+10</td>\n",
              "      <td>9.362114e+09</td>\n",
              "      <td>8.459869e+09</td>\n",
              "    </tr>\n",
              "    <tr>\n",
              "      <th>4</th>\n",
              "      <td>ADSK</td>\n",
              "      <td>4.729200e+09</td>\n",
              "      <td>-2.500000e+07</td>\n",
              "      <td>-8.080000e+07</td>\n",
              "      <td>4.113600e+09</td>\n",
              "      <td>-5.669000e+08</td>\n",
              "      <td>-5.091000e+08</td>\n",
              "      <td>4.798100e+09</td>\n",
              "      <td>-5.821000e+08</td>\n",
              "      <td>-4.996000e+08</td>\n",
              "      <td>-2.109000e+08</td>\n",
              "      <td>-2.560000e+08</td>\n",
              "      <td>7.336000e+08</td>\n",
              "    </tr>\n",
              "    <tr>\n",
              "      <th>5</th>\n",
              "      <td>ADTN</td>\n",
              "      <td>5.451180e+08</td>\n",
              "      <td>-3.996300e+07</td>\n",
              "      <td>-5.298200e+07</td>\n",
              "      <td>6.280270e+08</td>\n",
              "      <td>-1.934200e+07</td>\n",
              "      <td>-4.542200e+07</td>\n",
              "      <td>6.690940e+08</td>\n",
              "      <td>2.384000e+07</td>\n",
              "      <td>3.773700e+07</td>\n",
              "      <td>3.804260e+08</td>\n",
              "      <td>4.462790e+08</td>\n",
              "      <td>4.979110e+08</td>\n",
              "    </tr>\n",
              "    <tr>\n",
              "      <th>7</th>\n",
              "      <td>AKAM</td>\n",
              "      <td>7.006886e+09</td>\n",
              "      <td>5.489180e+08</td>\n",
              "      <td>4.780350e+08</td>\n",
              "      <td>5.461770e+09</td>\n",
              "      <td>2.983730e+08</td>\n",
              "      <td>3.624990e+08</td>\n",
              "      <td>4.602844e+09</td>\n",
              "      <td>2.183210e+08</td>\n",
              "      <td>3.162190e+08</td>\n",
              "      <td>3.657958e+09</td>\n",
              "      <td>3.191860e+09</td>\n",
              "      <td>3.310723e+09</td>\n",
              "    </tr>\n",
              "    <tr>\n",
              "      <th>8</th>\n",
              "      <td>ALNY</td>\n",
              "      <td>2.395134e+09</td>\n",
              "      <td>-9.394310e+08</td>\n",
              "      <td>-8.861160e+08</td>\n",
              "      <td>1.574802e+09</td>\n",
              "      <td>-7.614970e+08</td>\n",
              "      <td>-8.146730e+08</td>\n",
              "      <td>1.994730e+09</td>\n",
              "      <td>-4.908740e+08</td>\n",
              "      <td>-5.000880e+08</td>\n",
              "      <td>1.438692e+09</td>\n",
              "      <td>1.301965e+09</td>\n",
              "      <td>1.766431e+09</td>\n",
              "    </tr>\n",
              "    <tr>\n",
              "      <th>13</th>\n",
              "      <td>AMGN</td>\n",
              "      <td>5.970700e+10</td>\n",
              "      <td>9.674000e+09</td>\n",
              "      <td>7.842000e+09</td>\n",
              "      <td>6.641600e+10</td>\n",
              "      <td>8.394000e+09</td>\n",
              "      <td>1.026300e+10</td>\n",
              "      <td>7.995400e+10</td>\n",
              "      <td>1.979000e+09</td>\n",
              "      <td>9.973000e+09</td>\n",
              "      <td>9.673000e+09</td>\n",
              "      <td>1.250000e+10</td>\n",
              "      <td>2.524100e+10</td>\n",
              "    </tr>\n",
              "    <tr>\n",
              "      <th>14</th>\n",
              "      <td>AMZN</td>\n",
              "      <td>2.252480e+11</td>\n",
              "      <td>1.454100e+10</td>\n",
              "      <td>1.158800e+10</td>\n",
              "      <td>1.626480e+11</td>\n",
              "      <td>1.007300e+10</td>\n",
              "      <td>1.242100e+10</td>\n",
              "      <td>1.313100e+11</td>\n",
              "      <td>3.033000e+09</td>\n",
              "      <td>4.106000e+09</td>\n",
              "      <td>6.206000e+10</td>\n",
              "      <td>4.354900e+10</td>\n",
              "      <td>2.770900e+10</td>\n",
              "    </tr>\n",
              "    <tr>\n",
              "      <th>15</th>\n",
              "      <td>ANSS</td>\n",
              "      <td>4.838887e+09</td>\n",
              "      <td>5.150400e+08</td>\n",
              "      <td>4.512950e+08</td>\n",
              "      <td>3.265964e+09</td>\n",
              "      <td>4.193750e+08</td>\n",
              "      <td>4.765740e+08</td>\n",
              "      <td>2.941623e+09</td>\n",
              "      <td>2.592510e+08</td>\n",
              "      <td>3.907280e+08</td>\n",
              "      <td>3.453379e+09</td>\n",
              "      <td>2.649547e+09</td>\n",
              "      <td>2.245831e+09</td>\n",
              "    </tr>\n",
              "    <tr>\n",
              "      <th>17</th>\n",
              "      <td>ATVI</td>\n",
              "      <td>1.984500e+10</td>\n",
              "      <td>1.607000e+09</td>\n",
              "      <td>1.503000e+09</td>\n",
              "      <td>1.783500e+10</td>\n",
              "      <td>1.813000e+09</td>\n",
              "      <td>1.988000e+09</td>\n",
              "      <td>1.866800e+10</td>\n",
              "      <td>2.730000e+08</td>\n",
              "      <td>1.309000e+09</td>\n",
              "      <td>1.280500e+10</td>\n",
              "      <td>1.135700e+10</td>\n",
              "      <td>9.462000e+09</td>\n",
              "    </tr>\n",
              "    <tr>\n",
              "      <th>19</th>\n",
              "      <td>BIIB</td>\n",
              "      <td>2.723430e+10</td>\n",
              "      <td>7.042600e+09</td>\n",
              "      <td>5.888500e+09</td>\n",
              "      <td>2.528890e+10</td>\n",
              "      <td>4.430700e+09</td>\n",
              "      <td>5.888600e+09</td>\n",
              "      <td>2.365260e+10</td>\n",
              "      <td>2.539100e+09</td>\n",
              "      <td>5.344200e+09</td>\n",
              "      <td>1.334320e+10</td>\n",
              "      <td>1.303960e+10</td>\n",
              "      <td>1.261280e+10</td>\n",
              "    </tr>\n",
              "    <tr>\n",
              "      <th>20</th>\n",
              "      <td>BJRI</td>\n",
              "      <td>1.072084e+09</td>\n",
              "      <td>4.911900e+07</td>\n",
              "      <td>4.523800e+07</td>\n",
              "      <td>6.951070e+08</td>\n",
              "      <td>5.081000e+07</td>\n",
              "      <td>5.757000e+07</td>\n",
              "      <td>6.849580e+08</td>\n",
              "      <td>4.478000e+07</td>\n",
              "      <td>3.790400e+07</td>\n",
              "      <td>2.902870e+08</td>\n",
              "      <td>3.092210e+08</td>\n",
              "      <td>2.587290e+08</td>\n",
              "    </tr>\n",
              "    <tr>\n",
              "      <th>25</th>\n",
              "      <td>BSET</td>\n",
              "      <td>2.757660e+08</td>\n",
              "      <td>-5.950000e+05</td>\n",
              "      <td>-1.928000e+06</td>\n",
              "      <td>2.916410e+08</td>\n",
              "      <td>8.218000e+06</td>\n",
              "      <td>1.408400e+07</td>\n",
              "      <td>2.937480e+08</td>\n",
              "      <td>1.825600e+07</td>\n",
              "      <td>2.701800e+07</td>\n",
              "      <td>1.786700e+08</td>\n",
              "      <td>1.903090e+08</td>\n",
              "      <td>1.914600e+08</td>\n",
              "    </tr>\n",
              "    <tr>\n",
              "      <th>29</th>\n",
              "      <td>CDNS</td>\n",
              "      <td>3.357225e+09</td>\n",
              "      <td>4.917960e+08</td>\n",
              "      <td>9.889790e+08</td>\n",
              "      <td>2.468654e+09</td>\n",
              "      <td>3.457770e+08</td>\n",
              "      <td>3.962090e+08</td>\n",
              "      <td>2.418714e+09</td>\n",
              "      <td>2.041010e+08</td>\n",
              "      <td>3.239550e+08</td>\n",
              "      <td>2.102894e+09</td>\n",
              "      <td>1.288401e+09</td>\n",
              "      <td>9.892020e+08</td>\n",
              "    </tr>\n",
              "    <tr>\n",
              "      <th>33</th>\n",
              "      <td>CHSCP</td>\n",
              "      <td>1.644749e+10</td>\n",
              "      <td>6.596020e+08</td>\n",
              "      <td>8.298800e+08</td>\n",
              "      <td>1.638118e+10</td>\n",
              "      <td>7.759070e+08</td>\n",
              "      <td>4.570860e+08</td>\n",
              "      <td>1.597376e+10</td>\n",
              "      <td>1.278570e+08</td>\n",
              "      <td>-1.117970e+08</td>\n",
              "      <td>8.610140e+09</td>\n",
              "      <td>8.155582e+09</td>\n",
              "      <td>7.893234e+09</td>\n",
              "    </tr>\n",
              "    <tr>\n",
              "      <th>36</th>\n",
              "      <td>CONN</td>\n",
              "      <td>1.884907e+09</td>\n",
              "      <td>1.612550e+08</td>\n",
              "      <td>7.384900e+07</td>\n",
              "      <td>1.900799e+09</td>\n",
              "      <td>6.463000e+06</td>\n",
              "      <td>1.150680e+08</td>\n",
              "      <td>1.941134e+09</td>\n",
              "      <td>-2.556200e+07</td>\n",
              "      <td>6.409800e+07</td>\n",
              "      <td>6.199750e+08</td>\n",
              "      <td>5.350680e+08</td>\n",
              "      <td>5.177900e+08</td>\n",
              "    </tr>\n",
              "    <tr>\n",
              "      <th>37</th>\n",
              "      <td>COST</td>\n",
              "      <td>4.540000e+10</td>\n",
              "      <td>4.737000e+09</td>\n",
              "      <td>3.659000e+09</td>\n",
              "      <td>4.083000e+10</td>\n",
              "      <td>3.134000e+09</td>\n",
              "      <td>4.480000e+09</td>\n",
              "      <td>3.634700e+10</td>\n",
              "      <td>2.679000e+09</td>\n",
              "      <td>4.111000e+09</td>\n",
              "      <td>1.524300e+10</td>\n",
              "      <td>1.279900e+10</td>\n",
              "      <td>1.077800e+10</td>\n",
              "    </tr>\n",
              "    <tr>\n",
              "      <th>39</th>\n",
              "      <td>CSCO</td>\n",
              "      <td>9.779300e+10</td>\n",
              "      <td>1.421900e+10</td>\n",
              "      <td>1.162100e+10</td>\n",
              "      <td>1.087840e+11</td>\n",
              "      <td>1.100000e+08</td>\n",
              "      <td>1.230900e+10</td>\n",
              "      <td>1.298180e+11</td>\n",
              "      <td>9.609000e+09</td>\n",
              "      <td>1.197300e+10</td>\n",
              "      <td>3.357100e+10</td>\n",
              "      <td>4.320400e+10</td>\n",
              "      <td>6.613700e+10</td>\n",
              "    </tr>\n",
              "    <tr>\n",
              "      <th>50</th>\n",
              "      <td>EXPD</td>\n",
              "      <td>3.691884e+09</td>\n",
              "      <td>7.666920e+08</td>\n",
              "      <td>5.903950e+08</td>\n",
              "      <td>3.314559e+09</td>\n",
              "      <td>6.181990e+08</td>\n",
              "      <td>7.965630e+08</td>\n",
              "      <td>3.117008e+09</td>\n",
              "      <td>4.893450e+08</td>\n",
              "      <td>7.002600e+08</td>\n",
              "      <td>2.195028e+09</td>\n",
              "      <td>1.986838e+09</td>\n",
              "      <td>1.991858e+09</td>\n",
              "    </tr>\n",
              "    <tr>\n",
              "      <th>51</th>\n",
              "      <td>EXPE</td>\n",
              "      <td>2.141600e+10</td>\n",
              "      <td>9.030000e+08</td>\n",
              "      <td>5.650000e+08</td>\n",
              "      <td>1.803300e+10</td>\n",
              "      <td>4.060000e+08</td>\n",
              "      <td>7.140000e+08</td>\n",
              "      <td>1.851563e+10</td>\n",
              "      <td>3.779640e+08</td>\n",
              "      <td>6.251380e+08</td>\n",
              "      <td>3.967000e+09</td>\n",
              "      <td>4.104000e+09</td>\n",
              "      <td>4.522335e+09</td>\n",
              "    </tr>\n",
              "    <tr>\n",
              "      <th>59</th>\n",
              "      <td>FTNT</td>\n",
              "      <td>3.885500e+09</td>\n",
              "      <td>3.442000e+08</td>\n",
              "      <td>3.265000e+08</td>\n",
              "      <td>3.078000e+09</td>\n",
              "      <td>3.322000e+08</td>\n",
              "      <td>2.310000e+08</td>\n",
              "      <td>2.257916e+09</td>\n",
              "      <td>3.139900e+07</td>\n",
              "      <td>1.098040e+08</td>\n",
              "      <td>1.321900e+09</td>\n",
              "      <td>1.010200e+09</td>\n",
              "      <td>5.893770e+08</td>\n",
              "    </tr>\n",
              "    <tr>\n",
              "      <th>61</th>\n",
              "      <td>GILD</td>\n",
              "      <td>6.162700e+10</td>\n",
              "      <td>4.287000e+09</td>\n",
              "      <td>5.386000e+09</td>\n",
              "      <td>6.367500e+10</td>\n",
              "      <td>5.455000e+09</td>\n",
              "      <td>8.200000e+09</td>\n",
              "      <td>7.028300e+10</td>\n",
              "      <td>4.628000e+09</td>\n",
              "      <td>1.412400e+10</td>\n",
              "      <td>2.252500e+10</td>\n",
              "      <td>2.138700e+10</td>\n",
              "      <td>2.044200e+10</td>\n",
              "    </tr>\n",
              "    <tr>\n",
              "      <th>62</th>\n",
              "      <td>GOOGL</td>\n",
              "      <td>2.759090e+11</td>\n",
              "      <td>3.423100e+10</td>\n",
              "      <td>3.434300e+10</td>\n",
              "      <td>2.327920e+11</td>\n",
              "      <td>3.073600e+10</td>\n",
              "      <td>2.632100e+10</td>\n",
              "      <td>1.972950e+11</td>\n",
              "      <td>1.266200e+10</td>\n",
              "      <td>2.614600e+10</td>\n",
              "      <td>2.014420e+11</td>\n",
              "      <td>1.776280e+11</td>\n",
              "      <td>1.525020e+11</td>\n",
              "    </tr>\n",
              "    <tr>\n",
              "      <th>63</th>\n",
              "      <td>GRMN</td>\n",
              "      <td>6.166799e+09</td>\n",
              "      <td>9.455860e+08</td>\n",
              "      <td>9.524860e+08</td>\n",
              "      <td>5.382858e+09</td>\n",
              "      <td>6.940800e+08</td>\n",
              "      <td>7.783430e+08</td>\n",
              "      <td>5.010260e+09</td>\n",
              "      <td>6.949550e+08</td>\n",
              "      <td>6.688600e+08</td>\n",
              "      <td>4.793496e+09</td>\n",
              "      <td>4.162974e+09</td>\n",
              "      <td>3.802466e+09</td>\n",
              "    </tr>\n",
              "    <tr>\n",
              "      <th>78</th>\n",
              "      <td>INTC</td>\n",
              "      <td>1.365240e+11</td>\n",
              "      <td>2.203500e+10</td>\n",
              "      <td>2.104800e+10</td>\n",
              "      <td>1.279630e+11</td>\n",
              "      <td>2.105300e+10</td>\n",
              "      <td>2.331600e+10</td>\n",
              "      <td>1.232490e+11</td>\n",
              "      <td>9.601000e+09</td>\n",
              "      <td>1.793600e+10</td>\n",
              "      <td>7.750400e+10</td>\n",
              "      <td>7.456300e+10</td>\n",
              "      <td>6.901900e+10</td>\n",
              "    </tr>\n",
              "    <tr>\n",
              "      <th>79</th>\n",
              "      <td>INTU</td>\n",
              "      <td>6.283000e+09</td>\n",
              "      <td>1.854000e+09</td>\n",
              "      <td>1.557000e+09</td>\n",
              "      <td>5.178000e+09</td>\n",
              "      <td>1.211000e+09</td>\n",
              "      <td>1.497000e+09</td>\n",
              "      <td>4.068000e+09</td>\n",
              "      <td>9.710000e+08</td>\n",
              "      <td>1.395000e+09</td>\n",
              "      <td>3.749000e+09</td>\n",
              "      <td>2.354000e+09</td>\n",
              "      <td>1.354000e+09</td>\n",
              "    </tr>\n",
              "    <tr>\n",
              "      <th>82</th>\n",
              "      <td>IRDM</td>\n",
              "      <td>3.623557e+09</td>\n",
              "      <td>1.012000e+07</td>\n",
              "      <td>-1.619990e+08</td>\n",
              "      <td>4.014271e+09</td>\n",
              "      <td>-1.338400e+07</td>\n",
              "      <td>4.165300e+07</td>\n",
              "      <td>3.782051e+09</td>\n",
              "      <td>2.338560e+08</td>\n",
              "      <td>1.154760e+08</td>\n",
              "      <td>1.459282e+09</td>\n",
              "      <td>1.601577e+09</td>\n",
              "      <td>1.596469e+09</td>\n",
              "    </tr>\n",
              "    <tr>\n",
              "      <th>87</th>\n",
              "      <td>JBHT</td>\n",
              "      <td>5.471000e+09</td>\n",
              "      <td>7.340000e+08</td>\n",
              "      <td>5.163200e+08</td>\n",
              "      <td>5.091647e+09</td>\n",
              "      <td>4.895850e+08</td>\n",
              "      <td>6.810210e+08</td>\n",
              "      <td>4.465349e+09</td>\n",
              "      <td>6.862630e+08</td>\n",
              "      <td>6.237890e+08</td>\n",
              "      <td>2.267029e+09</td>\n",
              "      <td>2.101384e+09</td>\n",
              "      <td>1.839325e+09</td>\n",
              "    </tr>\n",
              "    <tr>\n",
              "      <th>88</th>\n",
              "      <td>JBLU</td>\n",
              "      <td>1.191800e+10</td>\n",
              "      <td>8.000000e+08</td>\n",
              "      <td>5.690000e+08</td>\n",
              "      <td>1.042600e+10</td>\n",
              "      <td>1.880000e+08</td>\n",
              "      <td>2.880000e+08</td>\n",
              "      <td>9.781000e+09</td>\n",
              "      <td>1.147000e+09</td>\n",
              "      <td>1.000000e+09</td>\n",
              "      <td>4.799000e+09</td>\n",
              "      <td>4.611000e+09</td>\n",
              "      <td>4.834000e+09</td>\n",
              "    </tr>\n",
              "    <tr>\n",
              "      <th>101</th>\n",
              "      <td>LRCX</td>\n",
              "      <td>1.200133e+10</td>\n",
              "      <td>2.464732e+09</td>\n",
              "      <td>2.191430e+09</td>\n",
              "      <td>1.247948e+10</td>\n",
              "      <td>2.380681e+09</td>\n",
              "      <td>3.213299e+09</td>\n",
              "      <td>1.212276e+10</td>\n",
              "      <td>1.697763e+09</td>\n",
              "      <td>1.902132e+09</td>\n",
              "      <td>4.673865e+09</td>\n",
              "      <td>6.501851e+09</td>\n",
              "      <td>6.817451e+09</td>\n",
              "    </tr>\n",
              "    <tr>\n",
              "      <th>103</th>\n",
              "      <td>LULU</td>\n",
              "      <td>3.281354e+09</td>\n",
              "      <td>8.891100e+08</td>\n",
              "      <td>6.455960e+08</td>\n",
              "      <td>2.084711e+09</td>\n",
              "      <td>4.838010e+08</td>\n",
              "      <td>7.058360e+08</td>\n",
              "      <td>1.998483e+09</td>\n",
              "      <td>2.586620e+08</td>\n",
              "      <td>4.560010e+08</td>\n",
              "      <td>1.952218e+09</td>\n",
              "      <td>1.445975e+09</td>\n",
              "      <td>1.596960e+09</td>\n",
              "    </tr>\n",
              "    <tr>\n",
              "      <th>104</th>\n",
              "      <td>LXRX</td>\n",
              "      <td>4.177150e+08</td>\n",
              "      <td>1.414450e+08</td>\n",
              "      <td>1.301330e+08</td>\n",
              "      <td>2.841360e+08</td>\n",
              "      <td>-1.205480e+08</td>\n",
              "      <td>-1.032790e+08</td>\n",
              "      <td>4.365390e+08</td>\n",
              "      <td>-1.290500e+08</td>\n",
              "      <td>-1.366810e+08</td>\n",
              "      <td>1.171010e+08</td>\n",
              "      <td>-2.640500e+07</td>\n",
              "      <td>5.210200e+07</td>\n",
              "    </tr>\n",
              "    <tr>\n",
              "      <th>106</th>\n",
              "      <td>MAT</td>\n",
              "      <td>5.325226e+09</td>\n",
              "      <td>3.924000e+07</td>\n",
              "      <td>-2.135120e+08</td>\n",
              "      <td>5.243465e+09</td>\n",
              "      <td>-5.309930e+08</td>\n",
              "      <td>-2.365070e+08</td>\n",
              "      <td>6.238503e+09</td>\n",
              "      <td>-1.053836e+09</td>\n",
              "      <td>-3.428230e+08</td>\n",
              "      <td>4.917140e+08</td>\n",
              "      <td>6.694650e+08</td>\n",
              "      <td>1.257455e+09</td>\n",
              "    </tr>\n",
              "    <tr>\n",
              "      <th>107</th>\n",
              "      <td>MDLZ</td>\n",
              "      <td>6.454900e+10</td>\n",
              "      <td>3.843000e+09</td>\n",
              "      <td>3.870000e+09</td>\n",
              "      <td>6.272900e+10</td>\n",
              "      <td>3.381000e+09</td>\n",
              "      <td>3.312000e+09</td>\n",
              "      <td>6.310900e+10</td>\n",
              "      <td>2.922000e+09</td>\n",
              "      <td>3.506000e+09</td>\n",
              "      <td>2.727500e+10</td>\n",
              "      <td>2.563700e+10</td>\n",
              "      <td>2.611100e+10</td>\n",
              "    </tr>\n",
              "    <tr>\n",
              "      <th>110</th>\n",
              "      <td>MSFT</td>\n",
              "      <td>2.865560e+11</td>\n",
              "      <td>4.295900e+10</td>\n",
              "      <td>3.924000e+10</td>\n",
              "      <td>2.588480e+11</td>\n",
              "      <td>1.657100e+10</td>\n",
              "      <td>3.505800e+10</td>\n",
              "      <td>2.410860e+11</td>\n",
              "      <td>2.120400e+10</td>\n",
              "      <td>2.232600e+10</td>\n",
              "      <td>1.023300e+11</td>\n",
              "      <td>8.271800e+10</td>\n",
              "      <td>7.239400e+10</td>\n",
              "    </tr>\n",
              "    <tr>\n",
              "      <th>111</th>\n",
              "      <td>MSTR</td>\n",
              "      <td>9.165710e+08</td>\n",
              "      <td>-1.002000e+06</td>\n",
              "      <td>3.435500e+07</td>\n",
              "      <td>8.557680e+08</td>\n",
              "      <td>2.250100e+07</td>\n",
              "      <td>3.981000e+06</td>\n",
              "      <td>8.357280e+08</td>\n",
              "      <td>1.764300e+07</td>\n",
              "      <td>7.435500e+07</td>\n",
              "      <td>5.085590e+08</td>\n",
              "      <td>5.297310e+08</td>\n",
              "      <td>5.905390e+08</td>\n",
              "    </tr>\n",
              "    <tr>\n",
              "      <th>112</th>\n",
              "      <td>MTEX</td>\n",
              "      <td>6.292300e+07</td>\n",
              "      <td>6.433000e+06</td>\n",
              "      <td>3.289000e+06</td>\n",
              "      <td>6.219800e+07</td>\n",
              "      <td>-3.886000e+06</td>\n",
              "      <td>-9.000000e+04</td>\n",
              "      <td>7.624200e+07</td>\n",
              "      <td>-1.787000e+06</td>\n",
              "      <td>2.519000e+06</td>\n",
              "      <td>2.727500e+07</td>\n",
              "      <td>2.532400e+07</td>\n",
              "      <td>4.024100e+07</td>\n",
              "    </tr>\n",
              "    <tr>\n",
              "      <th>113</th>\n",
              "      <td>MU</td>\n",
              "      <td>4.888700e+10</td>\n",
              "      <td>7.376000e+09</td>\n",
              "      <td>6.313000e+09</td>\n",
              "      <td>4.337600e+10</td>\n",
              "      <td>1.413500e+10</td>\n",
              "      <td>1.499400e+10</td>\n",
              "      <td>3.533600e+10</td>\n",
              "      <td>5.089000e+09</td>\n",
              "      <td>5.868000e+09</td>\n",
              "      <td>3.588100e+10</td>\n",
              "      <td>3.229400e+10</td>\n",
              "      <td>1.862100e+10</td>\n",
              "    </tr>\n",
              "    <tr>\n",
              "      <th>114</th>\n",
              "      <td>MYGN</td>\n",
              "      <td>1.562700e+09</td>\n",
              "      <td>7.600000e+06</td>\n",
              "      <td>4.600000e+06</td>\n",
              "      <td>1.174100e+09</td>\n",
              "      <td>1.311000e+08</td>\n",
              "      <td>1.187000e+08</td>\n",
              "      <td>1.224400e+09</td>\n",
              "      <td>2.180000e+07</td>\n",
              "      <td>4.940000e+07</td>\n",
              "      <td>1.088900e+09</td>\n",
              "      <td>9.649000e+08</td>\n",
              "      <td>7.782000e+08</td>\n",
              "    </tr>\n",
              "    <tr>\n",
              "      <th>115</th>\n",
              "      <td>NATI</td>\n",
              "      <td>1.651889e+09</td>\n",
              "      <td>1.745540e+08</td>\n",
              "      <td>1.621510e+08</td>\n",
              "      <td>1.671235e+09</td>\n",
              "      <td>1.550570e+08</td>\n",
              "      <td>1.728790e+08</td>\n",
              "      <td>1.566434e+09</td>\n",
              "      <td>5.241100e+07</td>\n",
              "      <td>1.457780e+08</td>\n",
              "      <td>1.176350e+09</td>\n",
              "      <td>1.238358e+09</td>\n",
              "      <td>1.128021e+09</td>\n",
              "    </tr>\n",
              "    <tr>\n",
              "      <th>118</th>\n",
              "      <td>NDAQ</td>\n",
              "      <td>1.392400e+10</td>\n",
              "      <td>1.017000e+09</td>\n",
              "      <td>7.740000e+08</td>\n",
              "      <td>1.570000e+10</td>\n",
              "      <td>4.580000e+08</td>\n",
              "      <td>1.028000e+09</td>\n",
              "      <td>1.578600e+10</td>\n",
              "      <td>7.340000e+08</td>\n",
              "      <td>9.990000e+08</td>\n",
              "      <td>5.639000e+09</td>\n",
              "      <td>5.449000e+09</td>\n",
              "      <td>5.887000e+09</td>\n",
              "    </tr>\n",
              "    <tr>\n",
              "      <th>121</th>\n",
              "      <td>NFLX</td>\n",
              "      <td>3.397571e+10</td>\n",
              "      <td>2.604254e+09</td>\n",
              "      <td>1.866916e+09</td>\n",
              "      <td>2.597440e+10</td>\n",
              "      <td>1.211242e+09</td>\n",
              "      <td>1.605226e+09</td>\n",
              "      <td>1.901274e+10</td>\n",
              "      <td>5.589290e+08</td>\n",
              "      <td>8.386790e+08</td>\n",
              "      <td>7.582157e+09</td>\n",
              "      <td>5.238765e+09</td>\n",
              "      <td>3.581956e+09</td>\n",
              "    </tr>\n",
              "    <tr>\n",
              "      <th>124</th>\n",
              "      <td>NTAP</td>\n",
              "      <td>8.741000e+09</td>\n",
              "      <td>1.221000e+09</td>\n",
              "      <td>1.169000e+09</td>\n",
              "      <td>9.865000e+09</td>\n",
              "      <td>7.600000e+07</td>\n",
              "      <td>1.125000e+09</td>\n",
              "      <td>9.493000e+09</td>\n",
              "      <td>5.090000e+08</td>\n",
              "      <td>6.650000e+08</td>\n",
              "      <td>1.090000e+09</td>\n",
              "      <td>2.067000e+09</td>\n",
              "      <td>2.780000e+09</td>\n",
              "    </tr>\n",
              "    <tr>\n",
              "      <th>126</th>\n",
              "      <td>NVDA</td>\n",
              "      <td>1.329200e+10</td>\n",
              "      <td>3.804000e+09</td>\n",
              "      <td>4.141000e+09</td>\n",
              "      <td>1.124100e+10</td>\n",
              "      <td>3.047000e+09</td>\n",
              "      <td>3.210000e+09</td>\n",
              "      <td>9.841000e+09</td>\n",
              "      <td>1.666000e+09</td>\n",
              "      <td>1.934000e+09</td>\n",
              "      <td>9.342000e+09</td>\n",
              "      <td>7.471000e+09</td>\n",
              "      <td>5.762000e+09</td>\n",
              "    </tr>\n",
              "    <tr>\n",
              "      <th>128</th>\n",
              "      <td>OLED</td>\n",
              "      <td>1.120157e+09</td>\n",
              "      <td>1.583430e+08</td>\n",
              "      <td>1.383040e+08</td>\n",
              "      <td>9.334240e+08</td>\n",
              "      <td>5.884000e+07</td>\n",
              "      <td>5.673500e+07</td>\n",
              "      <td>7.799560e+08</td>\n",
              "      <td>1.038850e+08</td>\n",
              "      <td>1.462470e+08</td>\n",
              "      <td>8.114490e+08</td>\n",
              "      <td>6.905060e+08</td>\n",
              "      <td>6.590540e+08</td>\n",
              "    </tr>\n",
              "    <tr>\n",
              "      <th>151</th>\n",
              "      <td>REGN</td>\n",
              "      <td>1.480520e+10</td>\n",
              "      <td>2.209800e+09</td>\n",
              "      <td>2.115800e+09</td>\n",
              "      <td>1.173450e+10</td>\n",
              "      <td>2.444400e+09</td>\n",
              "      <td>2.534400e+09</td>\n",
              "      <td>8.764286e+09</td>\n",
              "      <td>1.198511e+09</td>\n",
              "      <td>2.079591e+09</td>\n",
              "      <td>1.108970e+10</td>\n",
              "      <td>8.757300e+09</td>\n",
              "      <td>6.144078e+09</td>\n",
              "    </tr>\n",
              "    <tr>\n",
              "      <th>158</th>\n",
              "      <td>SAVE</td>\n",
              "      <td>7.043412e+09</td>\n",
              "      <td>5.010470e+08</td>\n",
              "      <td>3.352550e+08</td>\n",
              "      <td>5.165457e+09</td>\n",
              "      <td>1.557490e+08</td>\n",
              "      <td>3.509140e+08</td>\n",
              "      <td>4.143950e+09</td>\n",
              "      <td>4.206060e+08</td>\n",
              "      <td>3.887910e+08</td>\n",
              "      <td>2.261332e+09</td>\n",
              "      <td>1.928504e+09</td>\n",
              "      <td>1.777081e+09</td>\n",
              "    </tr>\n",
              "    <tr>\n",
              "      <th>161</th>\n",
              "      <td>SCHN</td>\n",
              "      <td>1.160746e+09</td>\n",
              "      <td>8.386500e+07</td>\n",
              "      <td>5.634500e+07</td>\n",
              "      <td>1.104817e+09</td>\n",
              "      <td>1.564510e+08</td>\n",
              "      <td>1.489880e+08</td>\n",
              "      <td>9.337550e+08</td>\n",
              "      <td>4.451100e+07</td>\n",
              "      <td>5.601300e+07</td>\n",
              "      <td>6.969640e+08</td>\n",
              "      <td>6.660780e+08</td>\n",
              "      <td>5.335860e+08</td>\n",
              "    </tr>\n",
              "    <tr>\n",
              "      <th>162</th>\n",
              "      <td>SGEN</td>\n",
              "      <td>2.205866e+09</td>\n",
              "      <td>-2.205450e+08</td>\n",
              "      <td>-1.586500e+08</td>\n",
              "      <td>1.503329e+09</td>\n",
              "      <td>-2.226930e+08</td>\n",
              "      <td>-2.599980e+08</td>\n",
              "      <td>8.779490e+08</td>\n",
              "      <td>-1.255300e+08</td>\n",
              "      <td>-1.958010e+08</td>\n",
              "      <td>1.876287e+09</td>\n",
              "      <td>1.273943e+09</td>\n",
              "      <td>6.775690e+08</td>\n",
              "    </tr>\n",
              "    <tr>\n",
              "      <th>163</th>\n",
              "      <td>SNPS</td>\n",
              "      <td>6.405160e+09</td>\n",
              "      <td>5.202310e+08</td>\n",
              "      <td>5.323670e+08</td>\n",
              "      <td>6.145974e+09</td>\n",
              "      <td>4.325180e+08</td>\n",
              "      <td>3.602250e+08</td>\n",
              "      <td>5.396414e+09</td>\n",
              "      <td>1.365630e+08</td>\n",
              "      <td>3.475630e+08</td>\n",
              "      <td>4.083013e+09</td>\n",
              "      <td>3.479152e+09</td>\n",
              "      <td>3.275620e+09</td>\n",
              "    </tr>\n",
              "    <tr>\n",
              "      <th>166</th>\n",
              "      <td>SRCL</td>\n",
              "      <td>6.437000e+09</td>\n",
              "      <td>-2.119000e+08</td>\n",
              "      <td>-3.468000e+08</td>\n",
              "      <td>6.455500e+09</td>\n",
              "      <td>-2.447000e+08</td>\n",
              "      <td>-1.611000e+08</td>\n",
              "      <td>6.988300e+09</td>\n",
              "      <td>4.240000e+07</td>\n",
              "      <td>-7.600000e+06</td>\n",
              "      <td>2.330900e+09</td>\n",
              "      <td>2.587400e+09</td>\n",
              "      <td>2.896600e+09</td>\n",
              "    </tr>\n",
              "    <tr>\n",
              "      <th>167</th>\n",
              "      <td>SSNC</td>\n",
              "      <td>1.674110e+10</td>\n",
              "      <td>9.144000e+08</td>\n",
              "      <td>4.385000e+08</td>\n",
              "      <td>1.610750e+10</td>\n",
              "      <td>1.032000e+08</td>\n",
              "      <td>4.291000e+08</td>\n",
              "      <td>5.539516e+09</td>\n",
              "      <td>3.288640e+08</td>\n",
              "      <td>3.969130e+08</td>\n",
              "      <td>5.116100e+09</td>\n",
              "      <td>4.580000e+09</td>\n",
              "      <td>2.686388e+09</td>\n",
              "    </tr>\n",
              "    <tr>\n",
              "      <th>168</th>\n",
              "      <td>STX</td>\n",
              "      <td>8.885000e+09</td>\n",
              "      <td>1.487000e+09</td>\n",
              "      <td>2.012000e+09</td>\n",
              "      <td>9.410000e+09</td>\n",
              "      <td>1.182000e+09</td>\n",
              "      <td>1.634000e+09</td>\n",
              "      <td>9.268000e+09</td>\n",
              "      <td>7.720000e+08</td>\n",
              "      <td>1.054000e+09</td>\n",
              "      <td>2.162000e+09</td>\n",
              "      <td>1.665000e+09</td>\n",
              "      <td>1.364000e+09</td>\n",
              "    </tr>\n",
              "    <tr>\n",
              "      <th>169</th>\n",
              "      <td>SWKS</td>\n",
              "      <td>4.839600e+09</td>\n",
              "      <td>9.520000e+08</td>\n",
              "      <td>8.536000e+08</td>\n",
              "      <td>4.828900e+09</td>\n",
              "      <td>9.184000e+08</td>\n",
              "      <td>1.319300e+09</td>\n",
              "      <td>4.573600e+09</td>\n",
              "      <td>1.010200e+09</td>\n",
              "      <td>1.253800e+09</td>\n",
              "      <td>4.122300e+09</td>\n",
              "      <td>4.097000e+09</td>\n",
              "      <td>4.065700e+09</td>\n",
              "    </tr>\n",
              "    <tr>\n",
              "      <th>173</th>\n",
              "      <td>TRIP</td>\n",
              "      <td>1.984000e+09</td>\n",
              "      <td>1.870000e+08</td>\n",
              "      <td>1.260000e+08</td>\n",
              "      <td>2.167000e+09</td>\n",
              "      <td>1.130000e+08</td>\n",
              "      <td>1.830000e+08</td>\n",
              "      <td>2.272000e+09</td>\n",
              "      <td>-1.900000e+07</td>\n",
              "      <td>1.240000e+08</td>\n",
              "      <td>1.161000e+09</td>\n",
              "      <td>1.471000e+09</td>\n",
              "      <td>1.363000e+09</td>\n",
              "    </tr>\n",
              "    <tr>\n",
              "      <th>178</th>\n",
              "      <td>TXN</td>\n",
              "      <td>1.801800e+10</td>\n",
              "      <td>5.723000e+09</td>\n",
              "      <td>5.017000e+09</td>\n",
              "      <td>1.713700e+10</td>\n",
              "      <td>5.580000e+09</td>\n",
              "      <td>6.713000e+09</td>\n",
              "      <td>1.764200e+10</td>\n",
              "      <td>3.682000e+09</td>\n",
              "      <td>6.083000e+09</td>\n",
              "      <td>8.907000e+09</td>\n",
              "      <td>8.994000e+09</td>\n",
              "      <td>1.033700e+10</td>\n",
              "    </tr>\n",
              "    <tr>\n",
              "      <th>181</th>\n",
              "      <td>VIA</td>\n",
              "      <td>4.229680e+08</td>\n",
              "      <td>2.397900e+07</td>\n",
              "      <td>8.450000e+06</td>\n",
              "      <td>4.887380e+08</td>\n",
              "      <td>-1.186000e+06</td>\n",
              "      <td>-3.654000e+06</td>\n",
              "      <td>5.059490e+08</td>\n",
              "      <td>1.885400e+07</td>\n",
              "      <td>1.024200e+08</td>\n",
              "      <td>5.121900e+07</td>\n",
              "      <td>4.580600e+07</td>\n",
              "      <td>3.624800e+07</td>\n",
              "    </tr>\n",
              "    <tr>\n",
              "      <th>185</th>\n",
              "      <td>VRSK</td>\n",
              "      <td>7.055200e+09</td>\n",
              "      <td>6.969000e+08</td>\n",
              "      <td>4.499000e+08</td>\n",
              "      <td>5.900300e+09</td>\n",
              "      <td>5.987000e+08</td>\n",
              "      <td>8.341000e+08</td>\n",
              "      <td>6.020300e+09</td>\n",
              "      <td>5.551000e+08</td>\n",
              "      <td>8.012000e+08</td>\n",
              "      <td>2.260800e+09</td>\n",
              "      <td>2.070600e+09</td>\n",
              "      <td>1.925400e+09</td>\n",
              "    </tr>\n",
              "    <tr>\n",
              "      <th>188</th>\n",
              "      <td>WDC</td>\n",
              "      <td>2.637000e+10</td>\n",
              "      <td>8.700000e+07</td>\n",
              "      <td>-7.540000e+08</td>\n",
              "      <td>2.923500e+10</td>\n",
              "      <td>6.750000e+08</td>\n",
              "      <td>3.617000e+09</td>\n",
              "      <td>2.986000e+10</td>\n",
              "      <td>3.970000e+08</td>\n",
              "      <td>1.954000e+09</td>\n",
              "      <td>9.967000e+09</td>\n",
              "      <td>1.153100e+10</td>\n",
              "      <td>1.141800e+10</td>\n",
              "    </tr>\n",
              "    <tr>\n",
              "      <th>191</th>\n",
              "      <td>WYNN</td>\n",
              "      <td>1.387128e+10</td>\n",
              "      <td>8.783050e+08</td>\n",
              "      <td>1.229850e+08</td>\n",
              "      <td>1.321627e+10</td>\n",
              "      <td>5.724300e+08</td>\n",
              "      <td>7.355440e+08</td>\n",
              "      <td>1.268174e+10</td>\n",
              "      <td>7.471810e+08</td>\n",
              "      <td>1.055565e+09</td>\n",
              "      <td>1.743045e+09</td>\n",
              "      <td>2.034123e+09</td>\n",
              "      <td>9.478460e+08</td>\n",
              "    </tr>\n",
              "    <tr>\n",
              "      <th>194</th>\n",
              "      <td>ZEUS</td>\n",
              "      <td>6.495550e+08</td>\n",
              "      <td>1.661000e+07</td>\n",
              "      <td>3.856000e+06</td>\n",
              "      <td>7.607400e+08</td>\n",
              "      <td>3.375900e+07</td>\n",
              "      <td>5.705200e+07</td>\n",
              "      <td>6.041580e+08</td>\n",
              "      <td>1.896300e+07</td>\n",
              "      <td>2.398600e+07</td>\n",
              "      <td>3.083520e+08</td>\n",
              "      <td>3.069910e+08</td>\n",
              "      <td>2.725830e+08</td>\n",
              "    </tr>\n",
              "  </tbody>\n",
              "</table>\n",
              "</div>\n",
              "    <div class=\"colab-df-buttons\">\n",
              "\n",
              "  <div class=\"colab-df-container\">\n",
              "    <button class=\"colab-df-convert\" onclick=\"convertToInteractive('df-36c8430a-1d5f-44a4-8d80-37b05a5e1033')\"\n",
              "            title=\"Convert this dataframe to an interactive table.\"\n",
              "            style=\"display:none;\">\n",
              "\n",
              "  <svg xmlns=\"http://www.w3.org/2000/svg\" height=\"24px\" viewBox=\"0 -960 960 960\">\n",
              "    <path d=\"M120-120v-720h720v720H120Zm60-500h600v-160H180v160Zm220 220h160v-160H400v160Zm0 220h160v-160H400v160ZM180-400h160v-160H180v160Zm440 0h160v-160H620v160ZM180-180h160v-160H180v160Zm440 0h160v-160H620v160Z\"/>\n",
              "  </svg>\n",
              "    </button>\n",
              "\n",
              "  <style>\n",
              "    .colab-df-container {\n",
              "      display:flex;\n",
              "      gap: 12px;\n",
              "    }\n",
              "\n",
              "    .colab-df-convert {\n",
              "      background-color: #E8F0FE;\n",
              "      border: none;\n",
              "      border-radius: 50%;\n",
              "      cursor: pointer;\n",
              "      display: none;\n",
              "      fill: #1967D2;\n",
              "      height: 32px;\n",
              "      padding: 0 0 0 0;\n",
              "      width: 32px;\n",
              "    }\n",
              "\n",
              "    .colab-df-convert:hover {\n",
              "      background-color: #E2EBFA;\n",
              "      box-shadow: 0px 1px 2px rgba(60, 64, 67, 0.3), 0px 1px 3px 1px rgba(60, 64, 67, 0.15);\n",
              "      fill: #174EA6;\n",
              "    }\n",
              "\n",
              "    .colab-df-buttons div {\n",
              "      margin-bottom: 4px;\n",
              "    }\n",
              "\n",
              "    [theme=dark] .colab-df-convert {\n",
              "      background-color: #3B4455;\n",
              "      fill: #D2E3FC;\n",
              "    }\n",
              "\n",
              "    [theme=dark] .colab-df-convert:hover {\n",
              "      background-color: #434B5C;\n",
              "      box-shadow: 0px 1px 3px 1px rgba(0, 0, 0, 0.15);\n",
              "      filter: drop-shadow(0px 1px 2px rgba(0, 0, 0, 0.3));\n",
              "      fill: #FFFFFF;\n",
              "    }\n",
              "  </style>\n",
              "\n",
              "    <script>\n",
              "      const buttonEl =\n",
              "        document.querySelector('#df-36c8430a-1d5f-44a4-8d80-37b05a5e1033 button.colab-df-convert');\n",
              "      buttonEl.style.display =\n",
              "        google.colab.kernel.accessAllowed ? 'block' : 'none';\n",
              "\n",
              "      async function convertToInteractive(key) {\n",
              "        const element = document.querySelector('#df-36c8430a-1d5f-44a4-8d80-37b05a5e1033');\n",
              "        const dataTable =\n",
              "          await google.colab.kernel.invokeFunction('convertToInteractive',\n",
              "                                                    [key], {});\n",
              "        if (!dataTable) return;\n",
              "\n",
              "        const docLinkHtml = 'Like what you see? Visit the ' +\n",
              "          '<a target=\"_blank\" href=https://colab.research.google.com/notebooks/data_table.ipynb>data table notebook</a>'\n",
              "          + ' to learn more about interactive tables.';\n",
              "        element.innerHTML = '';\n",
              "        dataTable['output_type'] = 'display_data';\n",
              "        await google.colab.output.renderOutput(dataTable, element);\n",
              "        const docLink = document.createElement('div');\n",
              "        docLink.innerHTML = docLinkHtml;\n",
              "        element.appendChild(docLink);\n",
              "      }\n",
              "    </script>\n",
              "  </div>\n",
              "\n",
              "\n",
              "<div id=\"df-34f633b2-25da-4827-bf34-0bb1495b400f\">\n",
              "  <button class=\"colab-df-quickchart\" onclick=\"quickchart('df-34f633b2-25da-4827-bf34-0bb1495b400f')\"\n",
              "            title=\"Suggest charts.\"\n",
              "            style=\"display:none;\">\n",
              "\n",
              "<svg xmlns=\"http://www.w3.org/2000/svg\" height=\"24px\"viewBox=\"0 0 24 24\"\n",
              "     width=\"24px\">\n",
              "    <g>\n",
              "        <path d=\"M19 3H5c-1.1 0-2 .9-2 2v14c0 1.1.9 2 2 2h14c1.1 0 2-.9 2-2V5c0-1.1-.9-2-2-2zM9 17H7v-7h2v7zm4 0h-2V7h2v10zm4 0h-2v-4h2v4z\"/>\n",
              "    </g>\n",
              "</svg>\n",
              "  </button>\n",
              "\n",
              "<style>\n",
              "  .colab-df-quickchart {\n",
              "      --bg-color: #E8F0FE;\n",
              "      --fill-color: #1967D2;\n",
              "      --hover-bg-color: #E2EBFA;\n",
              "      --hover-fill-color: #174EA6;\n",
              "      --disabled-fill-color: #AAA;\n",
              "      --disabled-bg-color: #DDD;\n",
              "  }\n",
              "\n",
              "  [theme=dark] .colab-df-quickchart {\n",
              "      --bg-color: #3B4455;\n",
              "      --fill-color: #D2E3FC;\n",
              "      --hover-bg-color: #434B5C;\n",
              "      --hover-fill-color: #FFFFFF;\n",
              "      --disabled-bg-color: #3B4455;\n",
              "      --disabled-fill-color: #666;\n",
              "  }\n",
              "\n",
              "  .colab-df-quickchart {\n",
              "    background-color: var(--bg-color);\n",
              "    border: none;\n",
              "    border-radius: 50%;\n",
              "    cursor: pointer;\n",
              "    display: none;\n",
              "    fill: var(--fill-color);\n",
              "    height: 32px;\n",
              "    padding: 0;\n",
              "    width: 32px;\n",
              "  }\n",
              "\n",
              "  .colab-df-quickchart:hover {\n",
              "    background-color: var(--hover-bg-color);\n",
              "    box-shadow: 0 1px 2px rgba(60, 64, 67, 0.3), 0 1px 3px 1px rgba(60, 64, 67, 0.15);\n",
              "    fill: var(--button-hover-fill-color);\n",
              "  }\n",
              "\n",
              "  .colab-df-quickchart-complete:disabled,\n",
              "  .colab-df-quickchart-complete:disabled:hover {\n",
              "    background-color: var(--disabled-bg-color);\n",
              "    fill: var(--disabled-fill-color);\n",
              "    box-shadow: none;\n",
              "  }\n",
              "\n",
              "  .colab-df-spinner {\n",
              "    border: 2px solid var(--fill-color);\n",
              "    border-color: transparent;\n",
              "    border-bottom-color: var(--fill-color);\n",
              "    animation:\n",
              "      spin 1s steps(1) infinite;\n",
              "  }\n",
              "\n",
              "  @keyframes spin {\n",
              "    0% {\n",
              "      border-color: transparent;\n",
              "      border-bottom-color: var(--fill-color);\n",
              "      border-left-color: var(--fill-color);\n",
              "    }\n",
              "    20% {\n",
              "      border-color: transparent;\n",
              "      border-left-color: var(--fill-color);\n",
              "      border-top-color: var(--fill-color);\n",
              "    }\n",
              "    30% {\n",
              "      border-color: transparent;\n",
              "      border-left-color: var(--fill-color);\n",
              "      border-top-color: var(--fill-color);\n",
              "      border-right-color: var(--fill-color);\n",
              "    }\n",
              "    40% {\n",
              "      border-color: transparent;\n",
              "      border-right-color: var(--fill-color);\n",
              "      border-top-color: var(--fill-color);\n",
              "    }\n",
              "    60% {\n",
              "      border-color: transparent;\n",
              "      border-right-color: var(--fill-color);\n",
              "    }\n",
              "    80% {\n",
              "      border-color: transparent;\n",
              "      border-right-color: var(--fill-color);\n",
              "      border-bottom-color: var(--fill-color);\n",
              "    }\n",
              "    90% {\n",
              "      border-color: transparent;\n",
              "      border-bottom-color: var(--fill-color);\n",
              "    }\n",
              "  }\n",
              "</style>\n",
              "\n",
              "  <script>\n",
              "    async function quickchart(key) {\n",
              "      const quickchartButtonEl =\n",
              "        document.querySelector('#' + key + ' button');\n",
              "      quickchartButtonEl.disabled = true;  // To prevent multiple clicks.\n",
              "      quickchartButtonEl.classList.add('colab-df-spinner');\n",
              "      try {\n",
              "        const charts = await google.colab.kernel.invokeFunction(\n",
              "            'suggestCharts', [key], {});\n",
              "      } catch (error) {\n",
              "        console.error('Error during call to suggestCharts:', error);\n",
              "      }\n",
              "      quickchartButtonEl.classList.remove('colab-df-spinner');\n",
              "      quickchartButtonEl.classList.add('colab-df-quickchart-complete');\n",
              "    }\n",
              "    (() => {\n",
              "      let quickchartButtonEl =\n",
              "        document.querySelector('#df-34f633b2-25da-4827-bf34-0bb1495b400f button');\n",
              "      quickchartButtonEl.style.display =\n",
              "        google.colab.kernel.accessAllowed ? 'block' : 'none';\n",
              "    })();\n",
              "  </script>\n",
              "</div>\n",
              "    </div>\n",
              "  </div>\n"
            ]
          },
          "metadata": {},
          "execution_count": 335
        }
      ]
    },
    {
      "cell_type": "code",
      "source": [
        "economic_reports_dataset.set_index('Ticker')"
      ],
      "metadata": {
        "colab": {
          "base_uri": "https://localhost:8080/"
        },
        "id": "gx9opKvn-4fh",
        "outputId": "2c487b8c-70ca-4751-999b-39e66c724b5a"
      },
      "execution_count": null,
      "outputs": [
        {
          "output_type": "execute_result",
          "data": {
            "text/plain": [
              "        Total assets 2019  Operating income 2019  Net income 2019  \\\n",
              "Ticker                                                              \n",
              "AAPL         3.385160e+11           6.393000e+10     5.525600e+10   \n",
              "ADBE         2.076240e+10           3.268121e+09     2.951458e+09   \n",
              "ADSK         4.729200e+09          -2.500000e+07    -8.080000e+07   \n",
              "ADTN         5.451180e+08          -3.996300e+07    -5.298200e+07   \n",
              "AKAM         7.006886e+09           5.489180e+08     4.780350e+08   \n",
              "ALNY         2.395134e+09          -9.394310e+08    -8.861160e+08   \n",
              "AMGN         5.970700e+10           9.674000e+09     7.842000e+09   \n",
              "AMZN         2.252480e+11           1.454100e+10     1.158800e+10   \n",
              "ANSS         4.838887e+09           5.150400e+08     4.512950e+08   \n",
              "ATVI         1.984500e+10           1.607000e+09     1.503000e+09   \n",
              "BIIB         2.723430e+10           7.042600e+09     5.888500e+09   \n",
              "BJRI         1.072084e+09           4.911900e+07     4.523800e+07   \n",
              "BSET         2.757660e+08          -5.950000e+05    -1.928000e+06   \n",
              "CDNS         3.357225e+09           4.917960e+08     9.889790e+08   \n",
              "CHSCP        1.644749e+10           6.596020e+08     8.298800e+08   \n",
              "CONN         1.884907e+09           1.612550e+08     7.384900e+07   \n",
              "COST         4.540000e+10           4.737000e+09     3.659000e+09   \n",
              "CSCO         9.779300e+10           1.421900e+10     1.162100e+10   \n",
              "EXPD         3.691884e+09           7.666920e+08     5.903950e+08   \n",
              "EXPE         2.141600e+10           9.030000e+08     5.650000e+08   \n",
              "FTNT         3.885500e+09           3.442000e+08     3.265000e+08   \n",
              "GILD         6.162700e+10           4.287000e+09     5.386000e+09   \n",
              "GOOGL        2.759090e+11           3.423100e+10     3.434300e+10   \n",
              "GRMN         6.166799e+09           9.455860e+08     9.524860e+08   \n",
              "INTC         1.365240e+11           2.203500e+10     2.104800e+10   \n",
              "INTU         6.283000e+09           1.854000e+09     1.557000e+09   \n",
              "IRDM         3.623557e+09           1.012000e+07    -1.619990e+08   \n",
              "JBHT         5.471000e+09           7.340000e+08     5.163200e+08   \n",
              "JBLU         1.191800e+10           8.000000e+08     5.690000e+08   \n",
              "LRCX         1.200133e+10           2.464732e+09     2.191430e+09   \n",
              "LULU         3.281354e+09           8.891100e+08     6.455960e+08   \n",
              "LXRX         4.177150e+08           1.414450e+08     1.301330e+08   \n",
              "MAT          5.325226e+09           3.924000e+07    -2.135120e+08   \n",
              "MDLZ         6.454900e+10           3.843000e+09     3.870000e+09   \n",
              "MSFT         2.865560e+11           4.295900e+10     3.924000e+10   \n",
              "MSTR         9.165710e+08          -1.002000e+06     3.435500e+07   \n",
              "MTEX         6.292300e+07           6.433000e+06     3.289000e+06   \n",
              "MU           4.888700e+10           7.376000e+09     6.313000e+09   \n",
              "MYGN         1.562700e+09           7.600000e+06     4.600000e+06   \n",
              "NATI         1.651889e+09           1.745540e+08     1.621510e+08   \n",
              "NDAQ         1.392400e+10           1.017000e+09     7.740000e+08   \n",
              "NFLX         3.397571e+10           2.604254e+09     1.866916e+09   \n",
              "NTAP         8.741000e+09           1.221000e+09     1.169000e+09   \n",
              "NVDA         1.329200e+10           3.804000e+09     4.141000e+09   \n",
              "OLED         1.120157e+09           1.583430e+08     1.383040e+08   \n",
              "REGN         1.480520e+10           2.209800e+09     2.115800e+09   \n",
              "SAVE         7.043412e+09           5.010470e+08     3.352550e+08   \n",
              "SCHN         1.160746e+09           8.386500e+07     5.634500e+07   \n",
              "SGEN         2.205866e+09          -2.205450e+08    -1.586500e+08   \n",
              "SNPS         6.405160e+09           5.202310e+08     5.323670e+08   \n",
              "SRCL         6.437000e+09          -2.119000e+08    -3.468000e+08   \n",
              "SSNC         1.674110e+10           9.144000e+08     4.385000e+08   \n",
              "STX          8.885000e+09           1.487000e+09     2.012000e+09   \n",
              "SWKS         4.839600e+09           9.520000e+08     8.536000e+08   \n",
              "TRIP         1.984000e+09           1.870000e+08     1.260000e+08   \n",
              "TXN          1.801800e+10           5.723000e+09     5.017000e+09   \n",
              "VIA          4.229680e+08           2.397900e+07     8.450000e+06   \n",
              "VRSK         7.055200e+09           6.969000e+08     4.499000e+08   \n",
              "WDC          2.637000e+10           8.700000e+07    -7.540000e+08   \n",
              "WYNN         1.387128e+10           8.783050e+08     1.229850e+08   \n",
              "ZEUS         6.495550e+08           1.661000e+07     3.856000e+06   \n",
              "\n",
              "        Total assets 2018  Net income 2018  Operating income 2018  \\\n",
              "Ticker                                                              \n",
              "AAPL         3.657250e+11     5.953100e+10           7.089800e+10   \n",
              "ADBE         1.876868e+10     2.590774e+09           2.840369e+09   \n",
              "ADSK         4.113600e+09    -5.669000e+08          -5.091000e+08   \n",
              "ADTN         6.280270e+08    -1.934200e+07          -4.542200e+07   \n",
              "AKAM         5.461770e+09     2.983730e+08           3.624990e+08   \n",
              "ALNY         1.574802e+09    -7.614970e+08          -8.146730e+08   \n",
              "AMGN         6.641600e+10     8.394000e+09           1.026300e+10   \n",
              "AMZN         1.626480e+11     1.007300e+10           1.242100e+10   \n",
              "ANSS         3.265964e+09     4.193750e+08           4.765740e+08   \n",
              "ATVI         1.783500e+10     1.813000e+09           1.988000e+09   \n",
              "BIIB         2.528890e+10     4.430700e+09           5.888600e+09   \n",
              "BJRI         6.951070e+08     5.081000e+07           5.757000e+07   \n",
              "BSET         2.916410e+08     8.218000e+06           1.408400e+07   \n",
              "CDNS         2.468654e+09     3.457770e+08           3.962090e+08   \n",
              "CHSCP        1.638118e+10     7.759070e+08           4.570860e+08   \n",
              "CONN         1.900799e+09     6.463000e+06           1.150680e+08   \n",
              "COST         4.083000e+10     3.134000e+09           4.480000e+09   \n",
              "CSCO         1.087840e+11     1.100000e+08           1.230900e+10   \n",
              "EXPD         3.314559e+09     6.181990e+08           7.965630e+08   \n",
              "EXPE         1.803300e+10     4.060000e+08           7.140000e+08   \n",
              "FTNT         3.078000e+09     3.322000e+08           2.310000e+08   \n",
              "GILD         6.367500e+10     5.455000e+09           8.200000e+09   \n",
              "GOOGL        2.327920e+11     3.073600e+10           2.632100e+10   \n",
              "GRMN         5.382858e+09     6.940800e+08           7.783430e+08   \n",
              "INTC         1.279630e+11     2.105300e+10           2.331600e+10   \n",
              "INTU         5.178000e+09     1.211000e+09           1.497000e+09   \n",
              "IRDM         4.014271e+09    -1.338400e+07           4.165300e+07   \n",
              "JBHT         5.091647e+09     4.895850e+08           6.810210e+08   \n",
              "JBLU         1.042600e+10     1.880000e+08           2.880000e+08   \n",
              "LRCX         1.247948e+10     2.380681e+09           3.213299e+09   \n",
              "LULU         2.084711e+09     4.838010e+08           7.058360e+08   \n",
              "LXRX         2.841360e+08    -1.205480e+08          -1.032790e+08   \n",
              "MAT          5.243465e+09    -5.309930e+08          -2.365070e+08   \n",
              "MDLZ         6.272900e+10     3.381000e+09           3.312000e+09   \n",
              "MSFT         2.588480e+11     1.657100e+10           3.505800e+10   \n",
              "MSTR         8.557680e+08     2.250100e+07           3.981000e+06   \n",
              "MTEX         6.219800e+07    -3.886000e+06          -9.000000e+04   \n",
              "MU           4.337600e+10     1.413500e+10           1.499400e+10   \n",
              "MYGN         1.174100e+09     1.311000e+08           1.187000e+08   \n",
              "NATI         1.671235e+09     1.550570e+08           1.728790e+08   \n",
              "NDAQ         1.570000e+10     4.580000e+08           1.028000e+09   \n",
              "NFLX         2.597440e+10     1.211242e+09           1.605226e+09   \n",
              "NTAP         9.865000e+09     7.600000e+07           1.125000e+09   \n",
              "NVDA         1.124100e+10     3.047000e+09           3.210000e+09   \n",
              "OLED         9.334240e+08     5.884000e+07           5.673500e+07   \n",
              "REGN         1.173450e+10     2.444400e+09           2.534400e+09   \n",
              "SAVE         5.165457e+09     1.557490e+08           3.509140e+08   \n",
              "SCHN         1.104817e+09     1.564510e+08           1.489880e+08   \n",
              "SGEN         1.503329e+09    -2.226930e+08          -2.599980e+08   \n",
              "SNPS         6.145974e+09     4.325180e+08           3.602250e+08   \n",
              "SRCL         6.455500e+09    -2.447000e+08          -1.611000e+08   \n",
              "SSNC         1.610750e+10     1.032000e+08           4.291000e+08   \n",
              "STX          9.410000e+09     1.182000e+09           1.634000e+09   \n",
              "SWKS         4.828900e+09     9.184000e+08           1.319300e+09   \n",
              "TRIP         2.167000e+09     1.130000e+08           1.830000e+08   \n",
              "TXN          1.713700e+10     5.580000e+09           6.713000e+09   \n",
              "VIA          4.887380e+08    -1.186000e+06          -3.654000e+06   \n",
              "VRSK         5.900300e+09     5.987000e+08           8.341000e+08   \n",
              "WDC          2.923500e+10     6.750000e+08           3.617000e+09   \n",
              "WYNN         1.321627e+10     5.724300e+08           7.355440e+08   \n",
              "ZEUS         7.607400e+08     3.375900e+07           5.705200e+07   \n",
              "\n",
              "        Total assets 2017  Net income 2017  Operating income 2017  \\\n",
              "Ticker                                                              \n",
              "AAPL         3.753190e+11     4.835100e+10           6.134400e+10   \n",
              "ADBE         1.453556e+10     1.693954e+09           2.168095e+09   \n",
              "ADSK         4.798100e+09    -5.821000e+08          -4.996000e+08   \n",
              "ADTN         6.690940e+08     2.384000e+07           3.773700e+07   \n",
              "AKAM         4.602844e+09     2.183210e+08           3.162190e+08   \n",
              "ALNY         1.994730e+09    -4.908740e+08          -5.000880e+08   \n",
              "AMGN         7.995400e+10     1.979000e+09           9.973000e+09   \n",
              "AMZN         1.313100e+11     3.033000e+09           4.106000e+09   \n",
              "ANSS         2.941623e+09     2.592510e+08           3.907280e+08   \n",
              "ATVI         1.866800e+10     2.730000e+08           1.309000e+09   \n",
              "BIIB         2.365260e+10     2.539100e+09           5.344200e+09   \n",
              "BJRI         6.849580e+08     4.478000e+07           3.790400e+07   \n",
              "BSET         2.937480e+08     1.825600e+07           2.701800e+07   \n",
              "CDNS         2.418714e+09     2.041010e+08           3.239550e+08   \n",
              "CHSCP        1.597376e+10     1.278570e+08          -1.117970e+08   \n",
              "CONN         1.941134e+09    -2.556200e+07           6.409800e+07   \n",
              "COST         3.634700e+10     2.679000e+09           4.111000e+09   \n",
              "CSCO         1.298180e+11     9.609000e+09           1.197300e+10   \n",
              "EXPD         3.117008e+09     4.893450e+08           7.002600e+08   \n",
              "EXPE         1.851563e+10     3.779640e+08           6.251380e+08   \n",
              "FTNT         2.257916e+09     3.139900e+07           1.098040e+08   \n",
              "GILD         7.028300e+10     4.628000e+09           1.412400e+10   \n",
              "GOOGL        1.972950e+11     1.266200e+10           2.614600e+10   \n",
              "GRMN         5.010260e+09     6.949550e+08           6.688600e+08   \n",
              "INTC         1.232490e+11     9.601000e+09           1.793600e+10   \n",
              "INTU         4.068000e+09     9.710000e+08           1.395000e+09   \n",
              "IRDM         3.782051e+09     2.338560e+08           1.154760e+08   \n",
              "JBHT         4.465349e+09     6.862630e+08           6.237890e+08   \n",
              "JBLU         9.781000e+09     1.147000e+09           1.000000e+09   \n",
              "LRCX         1.212276e+10     1.697763e+09           1.902132e+09   \n",
              "LULU         1.998483e+09     2.586620e+08           4.560010e+08   \n",
              "LXRX         4.365390e+08    -1.290500e+08          -1.366810e+08   \n",
              "MAT          6.238503e+09    -1.053836e+09          -3.428230e+08   \n",
              "MDLZ         6.310900e+10     2.922000e+09           3.506000e+09   \n",
              "MSFT         2.410860e+11     2.120400e+10           2.232600e+10   \n",
              "MSTR         8.357280e+08     1.764300e+07           7.435500e+07   \n",
              "MTEX         7.624200e+07    -1.787000e+06           2.519000e+06   \n",
              "MU           3.533600e+10     5.089000e+09           5.868000e+09   \n",
              "MYGN         1.224400e+09     2.180000e+07           4.940000e+07   \n",
              "NATI         1.566434e+09     5.241100e+07           1.457780e+08   \n",
              "NDAQ         1.578600e+10     7.340000e+08           9.990000e+08   \n",
              "NFLX         1.901274e+10     5.589290e+08           8.386790e+08   \n",
              "NTAP         9.493000e+09     5.090000e+08           6.650000e+08   \n",
              "NVDA         9.841000e+09     1.666000e+09           1.934000e+09   \n",
              "OLED         7.799560e+08     1.038850e+08           1.462470e+08   \n",
              "REGN         8.764286e+09     1.198511e+09           2.079591e+09   \n",
              "SAVE         4.143950e+09     4.206060e+08           3.887910e+08   \n",
              "SCHN         9.337550e+08     4.451100e+07           5.601300e+07   \n",
              "SGEN         8.779490e+08    -1.255300e+08          -1.958010e+08   \n",
              "SNPS         5.396414e+09     1.365630e+08           3.475630e+08   \n",
              "SRCL         6.988300e+09     4.240000e+07          -7.600000e+06   \n",
              "SSNC         5.539516e+09     3.288640e+08           3.969130e+08   \n",
              "STX          9.268000e+09     7.720000e+08           1.054000e+09   \n",
              "SWKS         4.573600e+09     1.010200e+09           1.253800e+09   \n",
              "TRIP         2.272000e+09    -1.900000e+07           1.240000e+08   \n",
              "TXN          1.764200e+10     3.682000e+09           6.083000e+09   \n",
              "VIA          5.059490e+08     1.885400e+07           1.024200e+08   \n",
              "VRSK         6.020300e+09     5.551000e+08           8.012000e+08   \n",
              "WDC          2.986000e+10     3.970000e+08           1.954000e+09   \n",
              "WYNN         1.268174e+10     7.471810e+08           1.055565e+09   \n",
              "ZEUS         6.041580e+08     1.896300e+07           2.398600e+07   \n",
              "\n",
              "        Total shareholders' equity 2019  Total shareholders' equity 2018  \\\n",
              "Ticker                                                                     \n",
              "AAPL                       9.048800e+10                     1.071470e+11   \n",
              "ADBE                       1.053016e+10                     9.362114e+09   \n",
              "ADSK                      -2.109000e+08                    -2.560000e+08   \n",
              "ADTN                       3.804260e+08                     4.462790e+08   \n",
              "AKAM                       3.657958e+09                     3.191860e+09   \n",
              "ALNY                       1.438692e+09                     1.301965e+09   \n",
              "AMGN                       9.673000e+09                     1.250000e+10   \n",
              "AMZN                       6.206000e+10                     4.354900e+10   \n",
              "ANSS                       3.453379e+09                     2.649547e+09   \n",
              "ATVI                       1.280500e+10                     1.135700e+10   \n",
              "BIIB                       1.334320e+10                     1.303960e+10   \n",
              "BJRI                       2.902870e+08                     3.092210e+08   \n",
              "BSET                       1.786700e+08                     1.903090e+08   \n",
              "CDNS                       2.102894e+09                     1.288401e+09   \n",
              "CHSCP                      8.610140e+09                     8.155582e+09   \n",
              "CONN                       6.199750e+08                     5.350680e+08   \n",
              "COST                       1.524300e+10                     1.279900e+10   \n",
              "CSCO                       3.357100e+10                     4.320400e+10   \n",
              "EXPD                       2.195028e+09                     1.986838e+09   \n",
              "EXPE                       3.967000e+09                     4.104000e+09   \n",
              "FTNT                       1.321900e+09                     1.010200e+09   \n",
              "GILD                       2.252500e+10                     2.138700e+10   \n",
              "GOOGL                      2.014420e+11                     1.776280e+11   \n",
              "GRMN                       4.793496e+09                     4.162974e+09   \n",
              "INTC                       7.750400e+10                     7.456300e+10   \n",
              "INTU                       3.749000e+09                     2.354000e+09   \n",
              "IRDM                       1.459282e+09                     1.601577e+09   \n",
              "JBHT                       2.267029e+09                     2.101384e+09   \n",
              "JBLU                       4.799000e+09                     4.611000e+09   \n",
              "LRCX                       4.673865e+09                     6.501851e+09   \n",
              "LULU                       1.952218e+09                     1.445975e+09   \n",
              "LXRX                       1.171010e+08                    -2.640500e+07   \n",
              "MAT                        4.917140e+08                     6.694650e+08   \n",
              "MDLZ                       2.727500e+10                     2.563700e+10   \n",
              "MSFT                       1.023300e+11                     8.271800e+10   \n",
              "MSTR                       5.085590e+08                     5.297310e+08   \n",
              "MTEX                       2.727500e+07                     2.532400e+07   \n",
              "MU                         3.588100e+10                     3.229400e+10   \n",
              "MYGN                       1.088900e+09                     9.649000e+08   \n",
              "NATI                       1.176350e+09                     1.238358e+09   \n",
              "NDAQ                       5.639000e+09                     5.449000e+09   \n",
              "NFLX                       7.582157e+09                     5.238765e+09   \n",
              "NTAP                       1.090000e+09                     2.067000e+09   \n",
              "NVDA                       9.342000e+09                     7.471000e+09   \n",
              "OLED                       8.114490e+08                     6.905060e+08   \n",
              "REGN                       1.108970e+10                     8.757300e+09   \n",
              "SAVE                       2.261332e+09                     1.928504e+09   \n",
              "SCHN                       6.969640e+08                     6.660780e+08   \n",
              "SGEN                       1.876287e+09                     1.273943e+09   \n",
              "SNPS                       4.083013e+09                     3.479152e+09   \n",
              "SRCL                       2.330900e+09                     2.587400e+09   \n",
              "SSNC                       5.116100e+09                     4.580000e+09   \n",
              "STX                        2.162000e+09                     1.665000e+09   \n",
              "SWKS                       4.122300e+09                     4.097000e+09   \n",
              "TRIP                       1.161000e+09                     1.471000e+09   \n",
              "TXN                        8.907000e+09                     8.994000e+09   \n",
              "VIA                        5.121900e+07                     4.580600e+07   \n",
              "VRSK                       2.260800e+09                     2.070600e+09   \n",
              "WDC                        9.967000e+09                     1.153100e+10   \n",
              "WYNN                       1.743045e+09                     2.034123e+09   \n",
              "ZEUS                       3.083520e+08                     3.069910e+08   \n",
              "\n",
              "        Total shareholders' equity 2017  \n",
              "Ticker                                   \n",
              "AAPL                       1.340470e+11  \n",
              "ADBE                       8.459869e+09  \n",
              "ADSK                       7.336000e+08  \n",
              "ADTN                       4.979110e+08  \n",
              "AKAM                       3.310723e+09  \n",
              "ALNY                       1.766431e+09  \n",
              "AMGN                       2.524100e+10  \n",
              "AMZN                       2.770900e+10  \n",
              "ANSS                       2.245831e+09  \n",
              "ATVI                       9.462000e+09  \n",
              "BIIB                       1.261280e+10  \n",
              "BJRI                       2.587290e+08  \n",
              "BSET                       1.914600e+08  \n",
              "CDNS                       9.892020e+08  \n",
              "CHSCP                      7.893234e+09  \n",
              "CONN                       5.177900e+08  \n",
              "COST                       1.077800e+10  \n",
              "CSCO                       6.613700e+10  \n",
              "EXPD                       1.991858e+09  \n",
              "EXPE                       4.522335e+09  \n",
              "FTNT                       5.893770e+08  \n",
              "GILD                       2.044200e+10  \n",
              "GOOGL                      1.525020e+11  \n",
              "GRMN                       3.802466e+09  \n",
              "INTC                       6.901900e+10  \n",
              "INTU                       1.354000e+09  \n",
              "IRDM                       1.596469e+09  \n",
              "JBHT                       1.839325e+09  \n",
              "JBLU                       4.834000e+09  \n",
              "LRCX                       6.817451e+09  \n",
              "LULU                       1.596960e+09  \n",
              "LXRX                       5.210200e+07  \n",
              "MAT                        1.257455e+09  \n",
              "MDLZ                       2.611100e+10  \n",
              "MSFT                       7.239400e+10  \n",
              "MSTR                       5.905390e+08  \n",
              "MTEX                       4.024100e+07  \n",
              "MU                         1.862100e+10  \n",
              "MYGN                       7.782000e+08  \n",
              "NATI                       1.128021e+09  \n",
              "NDAQ                       5.887000e+09  \n",
              "NFLX                       3.581956e+09  \n",
              "NTAP                       2.780000e+09  \n",
              "NVDA                       5.762000e+09  \n",
              "OLED                       6.590540e+08  \n",
              "REGN                       6.144078e+09  \n",
              "SAVE                       1.777081e+09  \n",
              "SCHN                       5.335860e+08  \n",
              "SGEN                       6.775690e+08  \n",
              "SNPS                       3.275620e+09  \n",
              "SRCL                       2.896600e+09  \n",
              "SSNC                       2.686388e+09  \n",
              "STX                        1.364000e+09  \n",
              "SWKS                       4.065700e+09  \n",
              "TRIP                       1.363000e+09  \n",
              "TXN                        1.033700e+10  \n",
              "VIA                        3.624800e+07  \n",
              "VRSK                       1.925400e+09  \n",
              "WDC                        1.141800e+10  \n",
              "WYNN                       9.478460e+08  \n",
              "ZEUS                       2.725830e+08  "
            ],
            "text/html": [
              "\n",
              "  <div id=\"df-f28ba082-35d6-4ab4-9f4e-03e318242029\" class=\"colab-df-container\">\n",
              "    <div>\n",
              "<style scoped>\n",
              "    .dataframe tbody tr th:only-of-type {\n",
              "        vertical-align: middle;\n",
              "    }\n",
              "\n",
              "    .dataframe tbody tr th {\n",
              "        vertical-align: top;\n",
              "    }\n",
              "\n",
              "    .dataframe thead th {\n",
              "        text-align: right;\n",
              "    }\n",
              "</style>\n",
              "<table border=\"1\" class=\"dataframe\">\n",
              "  <thead>\n",
              "    <tr style=\"text-align: right;\">\n",
              "      <th></th>\n",
              "      <th>Total assets 2019</th>\n",
              "      <th>Operating income 2019</th>\n",
              "      <th>Net income 2019</th>\n",
              "      <th>Total assets 2018</th>\n",
              "      <th>Net income 2018</th>\n",
              "      <th>Operating income 2018</th>\n",
              "      <th>Total assets 2017</th>\n",
              "      <th>Net income 2017</th>\n",
              "      <th>Operating income 2017</th>\n",
              "      <th>Total shareholders' equity 2019</th>\n",
              "      <th>Total shareholders' equity 2018</th>\n",
              "      <th>Total shareholders' equity 2017</th>\n",
              "    </tr>\n",
              "    <tr>\n",
              "      <th>Ticker</th>\n",
              "      <th></th>\n",
              "      <th></th>\n",
              "      <th></th>\n",
              "      <th></th>\n",
              "      <th></th>\n",
              "      <th></th>\n",
              "      <th></th>\n",
              "      <th></th>\n",
              "      <th></th>\n",
              "      <th></th>\n",
              "      <th></th>\n",
              "      <th></th>\n",
              "    </tr>\n",
              "  </thead>\n",
              "  <tbody>\n",
              "    <tr>\n",
              "      <th>AAPL</th>\n",
              "      <td>3.385160e+11</td>\n",
              "      <td>6.393000e+10</td>\n",
              "      <td>5.525600e+10</td>\n",
              "      <td>3.657250e+11</td>\n",
              "      <td>5.953100e+10</td>\n",
              "      <td>7.089800e+10</td>\n",
              "      <td>3.753190e+11</td>\n",
              "      <td>4.835100e+10</td>\n",
              "      <td>6.134400e+10</td>\n",
              "      <td>9.048800e+10</td>\n",
              "      <td>1.071470e+11</td>\n",
              "      <td>1.340470e+11</td>\n",
              "    </tr>\n",
              "    <tr>\n",
              "      <th>ADBE</th>\n",
              "      <td>2.076240e+10</td>\n",
              "      <td>3.268121e+09</td>\n",
              "      <td>2.951458e+09</td>\n",
              "      <td>1.876868e+10</td>\n",
              "      <td>2.590774e+09</td>\n",
              "      <td>2.840369e+09</td>\n",
              "      <td>1.453556e+10</td>\n",
              "      <td>1.693954e+09</td>\n",
              "      <td>2.168095e+09</td>\n",
              "      <td>1.053016e+10</td>\n",
              "      <td>9.362114e+09</td>\n",
              "      <td>8.459869e+09</td>\n",
              "    </tr>\n",
              "    <tr>\n",
              "      <th>ADSK</th>\n",
              "      <td>4.729200e+09</td>\n",
              "      <td>-2.500000e+07</td>\n",
              "      <td>-8.080000e+07</td>\n",
              "      <td>4.113600e+09</td>\n",
              "      <td>-5.669000e+08</td>\n",
              "      <td>-5.091000e+08</td>\n",
              "      <td>4.798100e+09</td>\n",
              "      <td>-5.821000e+08</td>\n",
              "      <td>-4.996000e+08</td>\n",
              "      <td>-2.109000e+08</td>\n",
              "      <td>-2.560000e+08</td>\n",
              "      <td>7.336000e+08</td>\n",
              "    </tr>\n",
              "    <tr>\n",
              "      <th>ADTN</th>\n",
              "      <td>5.451180e+08</td>\n",
              "      <td>-3.996300e+07</td>\n",
              "      <td>-5.298200e+07</td>\n",
              "      <td>6.280270e+08</td>\n",
              "      <td>-1.934200e+07</td>\n",
              "      <td>-4.542200e+07</td>\n",
              "      <td>6.690940e+08</td>\n",
              "      <td>2.384000e+07</td>\n",
              "      <td>3.773700e+07</td>\n",
              "      <td>3.804260e+08</td>\n",
              "      <td>4.462790e+08</td>\n",
              "      <td>4.979110e+08</td>\n",
              "    </tr>\n",
              "    <tr>\n",
              "      <th>AKAM</th>\n",
              "      <td>7.006886e+09</td>\n",
              "      <td>5.489180e+08</td>\n",
              "      <td>4.780350e+08</td>\n",
              "      <td>5.461770e+09</td>\n",
              "      <td>2.983730e+08</td>\n",
              "      <td>3.624990e+08</td>\n",
              "      <td>4.602844e+09</td>\n",
              "      <td>2.183210e+08</td>\n",
              "      <td>3.162190e+08</td>\n",
              "      <td>3.657958e+09</td>\n",
              "      <td>3.191860e+09</td>\n",
              "      <td>3.310723e+09</td>\n",
              "    </tr>\n",
              "    <tr>\n",
              "      <th>ALNY</th>\n",
              "      <td>2.395134e+09</td>\n",
              "      <td>-9.394310e+08</td>\n",
              "      <td>-8.861160e+08</td>\n",
              "      <td>1.574802e+09</td>\n",
              "      <td>-7.614970e+08</td>\n",
              "      <td>-8.146730e+08</td>\n",
              "      <td>1.994730e+09</td>\n",
              "      <td>-4.908740e+08</td>\n",
              "      <td>-5.000880e+08</td>\n",
              "      <td>1.438692e+09</td>\n",
              "      <td>1.301965e+09</td>\n",
              "      <td>1.766431e+09</td>\n",
              "    </tr>\n",
              "    <tr>\n",
              "      <th>AMGN</th>\n",
              "      <td>5.970700e+10</td>\n",
              "      <td>9.674000e+09</td>\n",
              "      <td>7.842000e+09</td>\n",
              "      <td>6.641600e+10</td>\n",
              "      <td>8.394000e+09</td>\n",
              "      <td>1.026300e+10</td>\n",
              "      <td>7.995400e+10</td>\n",
              "      <td>1.979000e+09</td>\n",
              "      <td>9.973000e+09</td>\n",
              "      <td>9.673000e+09</td>\n",
              "      <td>1.250000e+10</td>\n",
              "      <td>2.524100e+10</td>\n",
              "    </tr>\n",
              "    <tr>\n",
              "      <th>AMZN</th>\n",
              "      <td>2.252480e+11</td>\n",
              "      <td>1.454100e+10</td>\n",
              "      <td>1.158800e+10</td>\n",
              "      <td>1.626480e+11</td>\n",
              "      <td>1.007300e+10</td>\n",
              "      <td>1.242100e+10</td>\n",
              "      <td>1.313100e+11</td>\n",
              "      <td>3.033000e+09</td>\n",
              "      <td>4.106000e+09</td>\n",
              "      <td>6.206000e+10</td>\n",
              "      <td>4.354900e+10</td>\n",
              "      <td>2.770900e+10</td>\n",
              "    </tr>\n",
              "    <tr>\n",
              "      <th>ANSS</th>\n",
              "      <td>4.838887e+09</td>\n",
              "      <td>5.150400e+08</td>\n",
              "      <td>4.512950e+08</td>\n",
              "      <td>3.265964e+09</td>\n",
              "      <td>4.193750e+08</td>\n",
              "      <td>4.765740e+08</td>\n",
              "      <td>2.941623e+09</td>\n",
              "      <td>2.592510e+08</td>\n",
              "      <td>3.907280e+08</td>\n",
              "      <td>3.453379e+09</td>\n",
              "      <td>2.649547e+09</td>\n",
              "      <td>2.245831e+09</td>\n",
              "    </tr>\n",
              "    <tr>\n",
              "      <th>ATVI</th>\n",
              "      <td>1.984500e+10</td>\n",
              "      <td>1.607000e+09</td>\n",
              "      <td>1.503000e+09</td>\n",
              "      <td>1.783500e+10</td>\n",
              "      <td>1.813000e+09</td>\n",
              "      <td>1.988000e+09</td>\n",
              "      <td>1.866800e+10</td>\n",
              "      <td>2.730000e+08</td>\n",
              "      <td>1.309000e+09</td>\n",
              "      <td>1.280500e+10</td>\n",
              "      <td>1.135700e+10</td>\n",
              "      <td>9.462000e+09</td>\n",
              "    </tr>\n",
              "    <tr>\n",
              "      <th>BIIB</th>\n",
              "      <td>2.723430e+10</td>\n",
              "      <td>7.042600e+09</td>\n",
              "      <td>5.888500e+09</td>\n",
              "      <td>2.528890e+10</td>\n",
              "      <td>4.430700e+09</td>\n",
              "      <td>5.888600e+09</td>\n",
              "      <td>2.365260e+10</td>\n",
              "      <td>2.539100e+09</td>\n",
              "      <td>5.344200e+09</td>\n",
              "      <td>1.334320e+10</td>\n",
              "      <td>1.303960e+10</td>\n",
              "      <td>1.261280e+10</td>\n",
              "    </tr>\n",
              "    <tr>\n",
              "      <th>BJRI</th>\n",
              "      <td>1.072084e+09</td>\n",
              "      <td>4.911900e+07</td>\n",
              "      <td>4.523800e+07</td>\n",
              "      <td>6.951070e+08</td>\n",
              "      <td>5.081000e+07</td>\n",
              "      <td>5.757000e+07</td>\n",
              "      <td>6.849580e+08</td>\n",
              "      <td>4.478000e+07</td>\n",
              "      <td>3.790400e+07</td>\n",
              "      <td>2.902870e+08</td>\n",
              "      <td>3.092210e+08</td>\n",
              "      <td>2.587290e+08</td>\n",
              "    </tr>\n",
              "    <tr>\n",
              "      <th>BSET</th>\n",
              "      <td>2.757660e+08</td>\n",
              "      <td>-5.950000e+05</td>\n",
              "      <td>-1.928000e+06</td>\n",
              "      <td>2.916410e+08</td>\n",
              "      <td>8.218000e+06</td>\n",
              "      <td>1.408400e+07</td>\n",
              "      <td>2.937480e+08</td>\n",
              "      <td>1.825600e+07</td>\n",
              "      <td>2.701800e+07</td>\n",
              "      <td>1.786700e+08</td>\n",
              "      <td>1.903090e+08</td>\n",
              "      <td>1.914600e+08</td>\n",
              "    </tr>\n",
              "    <tr>\n",
              "      <th>CDNS</th>\n",
              "      <td>3.357225e+09</td>\n",
              "      <td>4.917960e+08</td>\n",
              "      <td>9.889790e+08</td>\n",
              "      <td>2.468654e+09</td>\n",
              "      <td>3.457770e+08</td>\n",
              "      <td>3.962090e+08</td>\n",
              "      <td>2.418714e+09</td>\n",
              "      <td>2.041010e+08</td>\n",
              "      <td>3.239550e+08</td>\n",
              "      <td>2.102894e+09</td>\n",
              "      <td>1.288401e+09</td>\n",
              "      <td>9.892020e+08</td>\n",
              "    </tr>\n",
              "    <tr>\n",
              "      <th>CHSCP</th>\n",
              "      <td>1.644749e+10</td>\n",
              "      <td>6.596020e+08</td>\n",
              "      <td>8.298800e+08</td>\n",
              "      <td>1.638118e+10</td>\n",
              "      <td>7.759070e+08</td>\n",
              "      <td>4.570860e+08</td>\n",
              "      <td>1.597376e+10</td>\n",
              "      <td>1.278570e+08</td>\n",
              "      <td>-1.117970e+08</td>\n",
              "      <td>8.610140e+09</td>\n",
              "      <td>8.155582e+09</td>\n",
              "      <td>7.893234e+09</td>\n",
              "    </tr>\n",
              "    <tr>\n",
              "      <th>CONN</th>\n",
              "      <td>1.884907e+09</td>\n",
              "      <td>1.612550e+08</td>\n",
              "      <td>7.384900e+07</td>\n",
              "      <td>1.900799e+09</td>\n",
              "      <td>6.463000e+06</td>\n",
              "      <td>1.150680e+08</td>\n",
              "      <td>1.941134e+09</td>\n",
              "      <td>-2.556200e+07</td>\n",
              "      <td>6.409800e+07</td>\n",
              "      <td>6.199750e+08</td>\n",
              "      <td>5.350680e+08</td>\n",
              "      <td>5.177900e+08</td>\n",
              "    </tr>\n",
              "    <tr>\n",
              "      <th>COST</th>\n",
              "      <td>4.540000e+10</td>\n",
              "      <td>4.737000e+09</td>\n",
              "      <td>3.659000e+09</td>\n",
              "      <td>4.083000e+10</td>\n",
              "      <td>3.134000e+09</td>\n",
              "      <td>4.480000e+09</td>\n",
              "      <td>3.634700e+10</td>\n",
              "      <td>2.679000e+09</td>\n",
              "      <td>4.111000e+09</td>\n",
              "      <td>1.524300e+10</td>\n",
              "      <td>1.279900e+10</td>\n",
              "      <td>1.077800e+10</td>\n",
              "    </tr>\n",
              "    <tr>\n",
              "      <th>CSCO</th>\n",
              "      <td>9.779300e+10</td>\n",
              "      <td>1.421900e+10</td>\n",
              "      <td>1.162100e+10</td>\n",
              "      <td>1.087840e+11</td>\n",
              "      <td>1.100000e+08</td>\n",
              "      <td>1.230900e+10</td>\n",
              "      <td>1.298180e+11</td>\n",
              "      <td>9.609000e+09</td>\n",
              "      <td>1.197300e+10</td>\n",
              "      <td>3.357100e+10</td>\n",
              "      <td>4.320400e+10</td>\n",
              "      <td>6.613700e+10</td>\n",
              "    </tr>\n",
              "    <tr>\n",
              "      <th>EXPD</th>\n",
              "      <td>3.691884e+09</td>\n",
              "      <td>7.666920e+08</td>\n",
              "      <td>5.903950e+08</td>\n",
              "      <td>3.314559e+09</td>\n",
              "      <td>6.181990e+08</td>\n",
              "      <td>7.965630e+08</td>\n",
              "      <td>3.117008e+09</td>\n",
              "      <td>4.893450e+08</td>\n",
              "      <td>7.002600e+08</td>\n",
              "      <td>2.195028e+09</td>\n",
              "      <td>1.986838e+09</td>\n",
              "      <td>1.991858e+09</td>\n",
              "    </tr>\n",
              "    <tr>\n",
              "      <th>EXPE</th>\n",
              "      <td>2.141600e+10</td>\n",
              "      <td>9.030000e+08</td>\n",
              "      <td>5.650000e+08</td>\n",
              "      <td>1.803300e+10</td>\n",
              "      <td>4.060000e+08</td>\n",
              "      <td>7.140000e+08</td>\n",
              "      <td>1.851563e+10</td>\n",
              "      <td>3.779640e+08</td>\n",
              "      <td>6.251380e+08</td>\n",
              "      <td>3.967000e+09</td>\n",
              "      <td>4.104000e+09</td>\n",
              "      <td>4.522335e+09</td>\n",
              "    </tr>\n",
              "    <tr>\n",
              "      <th>FTNT</th>\n",
              "      <td>3.885500e+09</td>\n",
              "      <td>3.442000e+08</td>\n",
              "      <td>3.265000e+08</td>\n",
              "      <td>3.078000e+09</td>\n",
              "      <td>3.322000e+08</td>\n",
              "      <td>2.310000e+08</td>\n",
              "      <td>2.257916e+09</td>\n",
              "      <td>3.139900e+07</td>\n",
              "      <td>1.098040e+08</td>\n",
              "      <td>1.321900e+09</td>\n",
              "      <td>1.010200e+09</td>\n",
              "      <td>5.893770e+08</td>\n",
              "    </tr>\n",
              "    <tr>\n",
              "      <th>GILD</th>\n",
              "      <td>6.162700e+10</td>\n",
              "      <td>4.287000e+09</td>\n",
              "      <td>5.386000e+09</td>\n",
              "      <td>6.367500e+10</td>\n",
              "      <td>5.455000e+09</td>\n",
              "      <td>8.200000e+09</td>\n",
              "      <td>7.028300e+10</td>\n",
              "      <td>4.628000e+09</td>\n",
              "      <td>1.412400e+10</td>\n",
              "      <td>2.252500e+10</td>\n",
              "      <td>2.138700e+10</td>\n",
              "      <td>2.044200e+10</td>\n",
              "    </tr>\n",
              "    <tr>\n",
              "      <th>GOOGL</th>\n",
              "      <td>2.759090e+11</td>\n",
              "      <td>3.423100e+10</td>\n",
              "      <td>3.434300e+10</td>\n",
              "      <td>2.327920e+11</td>\n",
              "      <td>3.073600e+10</td>\n",
              "      <td>2.632100e+10</td>\n",
              "      <td>1.972950e+11</td>\n",
              "      <td>1.266200e+10</td>\n",
              "      <td>2.614600e+10</td>\n",
              "      <td>2.014420e+11</td>\n",
              "      <td>1.776280e+11</td>\n",
              "      <td>1.525020e+11</td>\n",
              "    </tr>\n",
              "    <tr>\n",
              "      <th>GRMN</th>\n",
              "      <td>6.166799e+09</td>\n",
              "      <td>9.455860e+08</td>\n",
              "      <td>9.524860e+08</td>\n",
              "      <td>5.382858e+09</td>\n",
              "      <td>6.940800e+08</td>\n",
              "      <td>7.783430e+08</td>\n",
              "      <td>5.010260e+09</td>\n",
              "      <td>6.949550e+08</td>\n",
              "      <td>6.688600e+08</td>\n",
              "      <td>4.793496e+09</td>\n",
              "      <td>4.162974e+09</td>\n",
              "      <td>3.802466e+09</td>\n",
              "    </tr>\n",
              "    <tr>\n",
              "      <th>INTC</th>\n",
              "      <td>1.365240e+11</td>\n",
              "      <td>2.203500e+10</td>\n",
              "      <td>2.104800e+10</td>\n",
              "      <td>1.279630e+11</td>\n",
              "      <td>2.105300e+10</td>\n",
              "      <td>2.331600e+10</td>\n",
              "      <td>1.232490e+11</td>\n",
              "      <td>9.601000e+09</td>\n",
              "      <td>1.793600e+10</td>\n",
              "      <td>7.750400e+10</td>\n",
              "      <td>7.456300e+10</td>\n",
              "      <td>6.901900e+10</td>\n",
              "    </tr>\n",
              "    <tr>\n",
              "      <th>INTU</th>\n",
              "      <td>6.283000e+09</td>\n",
              "      <td>1.854000e+09</td>\n",
              "      <td>1.557000e+09</td>\n",
              "      <td>5.178000e+09</td>\n",
              "      <td>1.211000e+09</td>\n",
              "      <td>1.497000e+09</td>\n",
              "      <td>4.068000e+09</td>\n",
              "      <td>9.710000e+08</td>\n",
              "      <td>1.395000e+09</td>\n",
              "      <td>3.749000e+09</td>\n",
              "      <td>2.354000e+09</td>\n",
              "      <td>1.354000e+09</td>\n",
              "    </tr>\n",
              "    <tr>\n",
              "      <th>IRDM</th>\n",
              "      <td>3.623557e+09</td>\n",
              "      <td>1.012000e+07</td>\n",
              "      <td>-1.619990e+08</td>\n",
              "      <td>4.014271e+09</td>\n",
              "      <td>-1.338400e+07</td>\n",
              "      <td>4.165300e+07</td>\n",
              "      <td>3.782051e+09</td>\n",
              "      <td>2.338560e+08</td>\n",
              "      <td>1.154760e+08</td>\n",
              "      <td>1.459282e+09</td>\n",
              "      <td>1.601577e+09</td>\n",
              "      <td>1.596469e+09</td>\n",
              "    </tr>\n",
              "    <tr>\n",
              "      <th>JBHT</th>\n",
              "      <td>5.471000e+09</td>\n",
              "      <td>7.340000e+08</td>\n",
              "      <td>5.163200e+08</td>\n",
              "      <td>5.091647e+09</td>\n",
              "      <td>4.895850e+08</td>\n",
              "      <td>6.810210e+08</td>\n",
              "      <td>4.465349e+09</td>\n",
              "      <td>6.862630e+08</td>\n",
              "      <td>6.237890e+08</td>\n",
              "      <td>2.267029e+09</td>\n",
              "      <td>2.101384e+09</td>\n",
              "      <td>1.839325e+09</td>\n",
              "    </tr>\n",
              "    <tr>\n",
              "      <th>JBLU</th>\n",
              "      <td>1.191800e+10</td>\n",
              "      <td>8.000000e+08</td>\n",
              "      <td>5.690000e+08</td>\n",
              "      <td>1.042600e+10</td>\n",
              "      <td>1.880000e+08</td>\n",
              "      <td>2.880000e+08</td>\n",
              "      <td>9.781000e+09</td>\n",
              "      <td>1.147000e+09</td>\n",
              "      <td>1.000000e+09</td>\n",
              "      <td>4.799000e+09</td>\n",
              "      <td>4.611000e+09</td>\n",
              "      <td>4.834000e+09</td>\n",
              "    </tr>\n",
              "    <tr>\n",
              "      <th>LRCX</th>\n",
              "      <td>1.200133e+10</td>\n",
              "      <td>2.464732e+09</td>\n",
              "      <td>2.191430e+09</td>\n",
              "      <td>1.247948e+10</td>\n",
              "      <td>2.380681e+09</td>\n",
              "      <td>3.213299e+09</td>\n",
              "      <td>1.212276e+10</td>\n",
              "      <td>1.697763e+09</td>\n",
              "      <td>1.902132e+09</td>\n",
              "      <td>4.673865e+09</td>\n",
              "      <td>6.501851e+09</td>\n",
              "      <td>6.817451e+09</td>\n",
              "    </tr>\n",
              "    <tr>\n",
              "      <th>LULU</th>\n",
              "      <td>3.281354e+09</td>\n",
              "      <td>8.891100e+08</td>\n",
              "      <td>6.455960e+08</td>\n",
              "      <td>2.084711e+09</td>\n",
              "      <td>4.838010e+08</td>\n",
              "      <td>7.058360e+08</td>\n",
              "      <td>1.998483e+09</td>\n",
              "      <td>2.586620e+08</td>\n",
              "      <td>4.560010e+08</td>\n",
              "      <td>1.952218e+09</td>\n",
              "      <td>1.445975e+09</td>\n",
              "      <td>1.596960e+09</td>\n",
              "    </tr>\n",
              "    <tr>\n",
              "      <th>LXRX</th>\n",
              "      <td>4.177150e+08</td>\n",
              "      <td>1.414450e+08</td>\n",
              "      <td>1.301330e+08</td>\n",
              "      <td>2.841360e+08</td>\n",
              "      <td>-1.205480e+08</td>\n",
              "      <td>-1.032790e+08</td>\n",
              "      <td>4.365390e+08</td>\n",
              "      <td>-1.290500e+08</td>\n",
              "      <td>-1.366810e+08</td>\n",
              "      <td>1.171010e+08</td>\n",
              "      <td>-2.640500e+07</td>\n",
              "      <td>5.210200e+07</td>\n",
              "    </tr>\n",
              "    <tr>\n",
              "      <th>MAT</th>\n",
              "      <td>5.325226e+09</td>\n",
              "      <td>3.924000e+07</td>\n",
              "      <td>-2.135120e+08</td>\n",
              "      <td>5.243465e+09</td>\n",
              "      <td>-5.309930e+08</td>\n",
              "      <td>-2.365070e+08</td>\n",
              "      <td>6.238503e+09</td>\n",
              "      <td>-1.053836e+09</td>\n",
              "      <td>-3.428230e+08</td>\n",
              "      <td>4.917140e+08</td>\n",
              "      <td>6.694650e+08</td>\n",
              "      <td>1.257455e+09</td>\n",
              "    </tr>\n",
              "    <tr>\n",
              "      <th>MDLZ</th>\n",
              "      <td>6.454900e+10</td>\n",
              "      <td>3.843000e+09</td>\n",
              "      <td>3.870000e+09</td>\n",
              "      <td>6.272900e+10</td>\n",
              "      <td>3.381000e+09</td>\n",
              "      <td>3.312000e+09</td>\n",
              "      <td>6.310900e+10</td>\n",
              "      <td>2.922000e+09</td>\n",
              "      <td>3.506000e+09</td>\n",
              "      <td>2.727500e+10</td>\n",
              "      <td>2.563700e+10</td>\n",
              "      <td>2.611100e+10</td>\n",
              "    </tr>\n",
              "    <tr>\n",
              "      <th>MSFT</th>\n",
              "      <td>2.865560e+11</td>\n",
              "      <td>4.295900e+10</td>\n",
              "      <td>3.924000e+10</td>\n",
              "      <td>2.588480e+11</td>\n",
              "      <td>1.657100e+10</td>\n",
              "      <td>3.505800e+10</td>\n",
              "      <td>2.410860e+11</td>\n",
              "      <td>2.120400e+10</td>\n",
              "      <td>2.232600e+10</td>\n",
              "      <td>1.023300e+11</td>\n",
              "      <td>8.271800e+10</td>\n",
              "      <td>7.239400e+10</td>\n",
              "    </tr>\n",
              "    <tr>\n",
              "      <th>MSTR</th>\n",
              "      <td>9.165710e+08</td>\n",
              "      <td>-1.002000e+06</td>\n",
              "      <td>3.435500e+07</td>\n",
              "      <td>8.557680e+08</td>\n",
              "      <td>2.250100e+07</td>\n",
              "      <td>3.981000e+06</td>\n",
              "      <td>8.357280e+08</td>\n",
              "      <td>1.764300e+07</td>\n",
              "      <td>7.435500e+07</td>\n",
              "      <td>5.085590e+08</td>\n",
              "      <td>5.297310e+08</td>\n",
              "      <td>5.905390e+08</td>\n",
              "    </tr>\n",
              "    <tr>\n",
              "      <th>MTEX</th>\n",
              "      <td>6.292300e+07</td>\n",
              "      <td>6.433000e+06</td>\n",
              "      <td>3.289000e+06</td>\n",
              "      <td>6.219800e+07</td>\n",
              "      <td>-3.886000e+06</td>\n",
              "      <td>-9.000000e+04</td>\n",
              "      <td>7.624200e+07</td>\n",
              "      <td>-1.787000e+06</td>\n",
              "      <td>2.519000e+06</td>\n",
              "      <td>2.727500e+07</td>\n",
              "      <td>2.532400e+07</td>\n",
              "      <td>4.024100e+07</td>\n",
              "    </tr>\n",
              "    <tr>\n",
              "      <th>MU</th>\n",
              "      <td>4.888700e+10</td>\n",
              "      <td>7.376000e+09</td>\n",
              "      <td>6.313000e+09</td>\n",
              "      <td>4.337600e+10</td>\n",
              "      <td>1.413500e+10</td>\n",
              "      <td>1.499400e+10</td>\n",
              "      <td>3.533600e+10</td>\n",
              "      <td>5.089000e+09</td>\n",
              "      <td>5.868000e+09</td>\n",
              "      <td>3.588100e+10</td>\n",
              "      <td>3.229400e+10</td>\n",
              "      <td>1.862100e+10</td>\n",
              "    </tr>\n",
              "    <tr>\n",
              "      <th>MYGN</th>\n",
              "      <td>1.562700e+09</td>\n",
              "      <td>7.600000e+06</td>\n",
              "      <td>4.600000e+06</td>\n",
              "      <td>1.174100e+09</td>\n",
              "      <td>1.311000e+08</td>\n",
              "      <td>1.187000e+08</td>\n",
              "      <td>1.224400e+09</td>\n",
              "      <td>2.180000e+07</td>\n",
              "      <td>4.940000e+07</td>\n",
              "      <td>1.088900e+09</td>\n",
              "      <td>9.649000e+08</td>\n",
              "      <td>7.782000e+08</td>\n",
              "    </tr>\n",
              "    <tr>\n",
              "      <th>NATI</th>\n",
              "      <td>1.651889e+09</td>\n",
              "      <td>1.745540e+08</td>\n",
              "      <td>1.621510e+08</td>\n",
              "      <td>1.671235e+09</td>\n",
              "      <td>1.550570e+08</td>\n",
              "      <td>1.728790e+08</td>\n",
              "      <td>1.566434e+09</td>\n",
              "      <td>5.241100e+07</td>\n",
              "      <td>1.457780e+08</td>\n",
              "      <td>1.176350e+09</td>\n",
              "      <td>1.238358e+09</td>\n",
              "      <td>1.128021e+09</td>\n",
              "    </tr>\n",
              "    <tr>\n",
              "      <th>NDAQ</th>\n",
              "      <td>1.392400e+10</td>\n",
              "      <td>1.017000e+09</td>\n",
              "      <td>7.740000e+08</td>\n",
              "      <td>1.570000e+10</td>\n",
              "      <td>4.580000e+08</td>\n",
              "      <td>1.028000e+09</td>\n",
              "      <td>1.578600e+10</td>\n",
              "      <td>7.340000e+08</td>\n",
              "      <td>9.990000e+08</td>\n",
              "      <td>5.639000e+09</td>\n",
              "      <td>5.449000e+09</td>\n",
              "      <td>5.887000e+09</td>\n",
              "    </tr>\n",
              "    <tr>\n",
              "      <th>NFLX</th>\n",
              "      <td>3.397571e+10</td>\n",
              "      <td>2.604254e+09</td>\n",
              "      <td>1.866916e+09</td>\n",
              "      <td>2.597440e+10</td>\n",
              "      <td>1.211242e+09</td>\n",
              "      <td>1.605226e+09</td>\n",
              "      <td>1.901274e+10</td>\n",
              "      <td>5.589290e+08</td>\n",
              "      <td>8.386790e+08</td>\n",
              "      <td>7.582157e+09</td>\n",
              "      <td>5.238765e+09</td>\n",
              "      <td>3.581956e+09</td>\n",
              "    </tr>\n",
              "    <tr>\n",
              "      <th>NTAP</th>\n",
              "      <td>8.741000e+09</td>\n",
              "      <td>1.221000e+09</td>\n",
              "      <td>1.169000e+09</td>\n",
              "      <td>9.865000e+09</td>\n",
              "      <td>7.600000e+07</td>\n",
              "      <td>1.125000e+09</td>\n",
              "      <td>9.493000e+09</td>\n",
              "      <td>5.090000e+08</td>\n",
              "      <td>6.650000e+08</td>\n",
              "      <td>1.090000e+09</td>\n",
              "      <td>2.067000e+09</td>\n",
              "      <td>2.780000e+09</td>\n",
              "    </tr>\n",
              "    <tr>\n",
              "      <th>NVDA</th>\n",
              "      <td>1.329200e+10</td>\n",
              "      <td>3.804000e+09</td>\n",
              "      <td>4.141000e+09</td>\n",
              "      <td>1.124100e+10</td>\n",
              "      <td>3.047000e+09</td>\n",
              "      <td>3.210000e+09</td>\n",
              "      <td>9.841000e+09</td>\n",
              "      <td>1.666000e+09</td>\n",
              "      <td>1.934000e+09</td>\n",
              "      <td>9.342000e+09</td>\n",
              "      <td>7.471000e+09</td>\n",
              "      <td>5.762000e+09</td>\n",
              "    </tr>\n",
              "    <tr>\n",
              "      <th>OLED</th>\n",
              "      <td>1.120157e+09</td>\n",
              "      <td>1.583430e+08</td>\n",
              "      <td>1.383040e+08</td>\n",
              "      <td>9.334240e+08</td>\n",
              "      <td>5.884000e+07</td>\n",
              "      <td>5.673500e+07</td>\n",
              "      <td>7.799560e+08</td>\n",
              "      <td>1.038850e+08</td>\n",
              "      <td>1.462470e+08</td>\n",
              "      <td>8.114490e+08</td>\n",
              "      <td>6.905060e+08</td>\n",
              "      <td>6.590540e+08</td>\n",
              "    </tr>\n",
              "    <tr>\n",
              "      <th>REGN</th>\n",
              "      <td>1.480520e+10</td>\n",
              "      <td>2.209800e+09</td>\n",
              "      <td>2.115800e+09</td>\n",
              "      <td>1.173450e+10</td>\n",
              "      <td>2.444400e+09</td>\n",
              "      <td>2.534400e+09</td>\n",
              "      <td>8.764286e+09</td>\n",
              "      <td>1.198511e+09</td>\n",
              "      <td>2.079591e+09</td>\n",
              "      <td>1.108970e+10</td>\n",
              "      <td>8.757300e+09</td>\n",
              "      <td>6.144078e+09</td>\n",
              "    </tr>\n",
              "    <tr>\n",
              "      <th>SAVE</th>\n",
              "      <td>7.043412e+09</td>\n",
              "      <td>5.010470e+08</td>\n",
              "      <td>3.352550e+08</td>\n",
              "      <td>5.165457e+09</td>\n",
              "      <td>1.557490e+08</td>\n",
              "      <td>3.509140e+08</td>\n",
              "      <td>4.143950e+09</td>\n",
              "      <td>4.206060e+08</td>\n",
              "      <td>3.887910e+08</td>\n",
              "      <td>2.261332e+09</td>\n",
              "      <td>1.928504e+09</td>\n",
              "      <td>1.777081e+09</td>\n",
              "    </tr>\n",
              "    <tr>\n",
              "      <th>SCHN</th>\n",
              "      <td>1.160746e+09</td>\n",
              "      <td>8.386500e+07</td>\n",
              "      <td>5.634500e+07</td>\n",
              "      <td>1.104817e+09</td>\n",
              "      <td>1.564510e+08</td>\n",
              "      <td>1.489880e+08</td>\n",
              "      <td>9.337550e+08</td>\n",
              "      <td>4.451100e+07</td>\n",
              "      <td>5.601300e+07</td>\n",
              "      <td>6.969640e+08</td>\n",
              "      <td>6.660780e+08</td>\n",
              "      <td>5.335860e+08</td>\n",
              "    </tr>\n",
              "    <tr>\n",
              "      <th>SGEN</th>\n",
              "      <td>2.205866e+09</td>\n",
              "      <td>-2.205450e+08</td>\n",
              "      <td>-1.586500e+08</td>\n",
              "      <td>1.503329e+09</td>\n",
              "      <td>-2.226930e+08</td>\n",
              "      <td>-2.599980e+08</td>\n",
              "      <td>8.779490e+08</td>\n",
              "      <td>-1.255300e+08</td>\n",
              "      <td>-1.958010e+08</td>\n",
              "      <td>1.876287e+09</td>\n",
              "      <td>1.273943e+09</td>\n",
              "      <td>6.775690e+08</td>\n",
              "    </tr>\n",
              "    <tr>\n",
              "      <th>SNPS</th>\n",
              "      <td>6.405160e+09</td>\n",
              "      <td>5.202310e+08</td>\n",
              "      <td>5.323670e+08</td>\n",
              "      <td>6.145974e+09</td>\n",
              "      <td>4.325180e+08</td>\n",
              "      <td>3.602250e+08</td>\n",
              "      <td>5.396414e+09</td>\n",
              "      <td>1.365630e+08</td>\n",
              "      <td>3.475630e+08</td>\n",
              "      <td>4.083013e+09</td>\n",
              "      <td>3.479152e+09</td>\n",
              "      <td>3.275620e+09</td>\n",
              "    </tr>\n",
              "    <tr>\n",
              "      <th>SRCL</th>\n",
              "      <td>6.437000e+09</td>\n",
              "      <td>-2.119000e+08</td>\n",
              "      <td>-3.468000e+08</td>\n",
              "      <td>6.455500e+09</td>\n",
              "      <td>-2.447000e+08</td>\n",
              "      <td>-1.611000e+08</td>\n",
              "      <td>6.988300e+09</td>\n",
              "      <td>4.240000e+07</td>\n",
              "      <td>-7.600000e+06</td>\n",
              "      <td>2.330900e+09</td>\n",
              "      <td>2.587400e+09</td>\n",
              "      <td>2.896600e+09</td>\n",
              "    </tr>\n",
              "    <tr>\n",
              "      <th>SSNC</th>\n",
              "      <td>1.674110e+10</td>\n",
              "      <td>9.144000e+08</td>\n",
              "      <td>4.385000e+08</td>\n",
              "      <td>1.610750e+10</td>\n",
              "      <td>1.032000e+08</td>\n",
              "      <td>4.291000e+08</td>\n",
              "      <td>5.539516e+09</td>\n",
              "      <td>3.288640e+08</td>\n",
              "      <td>3.969130e+08</td>\n",
              "      <td>5.116100e+09</td>\n",
              "      <td>4.580000e+09</td>\n",
              "      <td>2.686388e+09</td>\n",
              "    </tr>\n",
              "    <tr>\n",
              "      <th>STX</th>\n",
              "      <td>8.885000e+09</td>\n",
              "      <td>1.487000e+09</td>\n",
              "      <td>2.012000e+09</td>\n",
              "      <td>9.410000e+09</td>\n",
              "      <td>1.182000e+09</td>\n",
              "      <td>1.634000e+09</td>\n",
              "      <td>9.268000e+09</td>\n",
              "      <td>7.720000e+08</td>\n",
              "      <td>1.054000e+09</td>\n",
              "      <td>2.162000e+09</td>\n",
              "      <td>1.665000e+09</td>\n",
              "      <td>1.364000e+09</td>\n",
              "    </tr>\n",
              "    <tr>\n",
              "      <th>SWKS</th>\n",
              "      <td>4.839600e+09</td>\n",
              "      <td>9.520000e+08</td>\n",
              "      <td>8.536000e+08</td>\n",
              "      <td>4.828900e+09</td>\n",
              "      <td>9.184000e+08</td>\n",
              "      <td>1.319300e+09</td>\n",
              "      <td>4.573600e+09</td>\n",
              "      <td>1.010200e+09</td>\n",
              "      <td>1.253800e+09</td>\n",
              "      <td>4.122300e+09</td>\n",
              "      <td>4.097000e+09</td>\n",
              "      <td>4.065700e+09</td>\n",
              "    </tr>\n",
              "    <tr>\n",
              "      <th>TRIP</th>\n",
              "      <td>1.984000e+09</td>\n",
              "      <td>1.870000e+08</td>\n",
              "      <td>1.260000e+08</td>\n",
              "      <td>2.167000e+09</td>\n",
              "      <td>1.130000e+08</td>\n",
              "      <td>1.830000e+08</td>\n",
              "      <td>2.272000e+09</td>\n",
              "      <td>-1.900000e+07</td>\n",
              "      <td>1.240000e+08</td>\n",
              "      <td>1.161000e+09</td>\n",
              "      <td>1.471000e+09</td>\n",
              "      <td>1.363000e+09</td>\n",
              "    </tr>\n",
              "    <tr>\n",
              "      <th>TXN</th>\n",
              "      <td>1.801800e+10</td>\n",
              "      <td>5.723000e+09</td>\n",
              "      <td>5.017000e+09</td>\n",
              "      <td>1.713700e+10</td>\n",
              "      <td>5.580000e+09</td>\n",
              "      <td>6.713000e+09</td>\n",
              "      <td>1.764200e+10</td>\n",
              "      <td>3.682000e+09</td>\n",
              "      <td>6.083000e+09</td>\n",
              "      <td>8.907000e+09</td>\n",
              "      <td>8.994000e+09</td>\n",
              "      <td>1.033700e+10</td>\n",
              "    </tr>\n",
              "    <tr>\n",
              "      <th>VIA</th>\n",
              "      <td>4.229680e+08</td>\n",
              "      <td>2.397900e+07</td>\n",
              "      <td>8.450000e+06</td>\n",
              "      <td>4.887380e+08</td>\n",
              "      <td>-1.186000e+06</td>\n",
              "      <td>-3.654000e+06</td>\n",
              "      <td>5.059490e+08</td>\n",
              "      <td>1.885400e+07</td>\n",
              "      <td>1.024200e+08</td>\n",
              "      <td>5.121900e+07</td>\n",
              "      <td>4.580600e+07</td>\n",
              "      <td>3.624800e+07</td>\n",
              "    </tr>\n",
              "    <tr>\n",
              "      <th>VRSK</th>\n",
              "      <td>7.055200e+09</td>\n",
              "      <td>6.969000e+08</td>\n",
              "      <td>4.499000e+08</td>\n",
              "      <td>5.900300e+09</td>\n",
              "      <td>5.987000e+08</td>\n",
              "      <td>8.341000e+08</td>\n",
              "      <td>6.020300e+09</td>\n",
              "      <td>5.551000e+08</td>\n",
              "      <td>8.012000e+08</td>\n",
              "      <td>2.260800e+09</td>\n",
              "      <td>2.070600e+09</td>\n",
              "      <td>1.925400e+09</td>\n",
              "    </tr>\n",
              "    <tr>\n",
              "      <th>WDC</th>\n",
              "      <td>2.637000e+10</td>\n",
              "      <td>8.700000e+07</td>\n",
              "      <td>-7.540000e+08</td>\n",
              "      <td>2.923500e+10</td>\n",
              "      <td>6.750000e+08</td>\n",
              "      <td>3.617000e+09</td>\n",
              "      <td>2.986000e+10</td>\n",
              "      <td>3.970000e+08</td>\n",
              "      <td>1.954000e+09</td>\n",
              "      <td>9.967000e+09</td>\n",
              "      <td>1.153100e+10</td>\n",
              "      <td>1.141800e+10</td>\n",
              "    </tr>\n",
              "    <tr>\n",
              "      <th>WYNN</th>\n",
              "      <td>1.387128e+10</td>\n",
              "      <td>8.783050e+08</td>\n",
              "      <td>1.229850e+08</td>\n",
              "      <td>1.321627e+10</td>\n",
              "      <td>5.724300e+08</td>\n",
              "      <td>7.355440e+08</td>\n",
              "      <td>1.268174e+10</td>\n",
              "      <td>7.471810e+08</td>\n",
              "      <td>1.055565e+09</td>\n",
              "      <td>1.743045e+09</td>\n",
              "      <td>2.034123e+09</td>\n",
              "      <td>9.478460e+08</td>\n",
              "    </tr>\n",
              "    <tr>\n",
              "      <th>ZEUS</th>\n",
              "      <td>6.495550e+08</td>\n",
              "      <td>1.661000e+07</td>\n",
              "      <td>3.856000e+06</td>\n",
              "      <td>7.607400e+08</td>\n",
              "      <td>3.375900e+07</td>\n",
              "      <td>5.705200e+07</td>\n",
              "      <td>6.041580e+08</td>\n",
              "      <td>1.896300e+07</td>\n",
              "      <td>2.398600e+07</td>\n",
              "      <td>3.083520e+08</td>\n",
              "      <td>3.069910e+08</td>\n",
              "      <td>2.725830e+08</td>\n",
              "    </tr>\n",
              "  </tbody>\n",
              "</table>\n",
              "</div>\n",
              "    <div class=\"colab-df-buttons\">\n",
              "\n",
              "  <div class=\"colab-df-container\">\n",
              "    <button class=\"colab-df-convert\" onclick=\"convertToInteractive('df-f28ba082-35d6-4ab4-9f4e-03e318242029')\"\n",
              "            title=\"Convert this dataframe to an interactive table.\"\n",
              "            style=\"display:none;\">\n",
              "\n",
              "  <svg xmlns=\"http://www.w3.org/2000/svg\" height=\"24px\" viewBox=\"0 -960 960 960\">\n",
              "    <path d=\"M120-120v-720h720v720H120Zm60-500h600v-160H180v160Zm220 220h160v-160H400v160Zm0 220h160v-160H400v160ZM180-400h160v-160H180v160Zm440 0h160v-160H620v160ZM180-180h160v-160H180v160Zm440 0h160v-160H620v160Z\"/>\n",
              "  </svg>\n",
              "    </button>\n",
              "\n",
              "  <style>\n",
              "    .colab-df-container {\n",
              "      display:flex;\n",
              "      gap: 12px;\n",
              "    }\n",
              "\n",
              "    .colab-df-convert {\n",
              "      background-color: #E8F0FE;\n",
              "      border: none;\n",
              "      border-radius: 50%;\n",
              "      cursor: pointer;\n",
              "      display: none;\n",
              "      fill: #1967D2;\n",
              "      height: 32px;\n",
              "      padding: 0 0 0 0;\n",
              "      width: 32px;\n",
              "    }\n",
              "\n",
              "    .colab-df-convert:hover {\n",
              "      background-color: #E2EBFA;\n",
              "      box-shadow: 0px 1px 2px rgba(60, 64, 67, 0.3), 0px 1px 3px 1px rgba(60, 64, 67, 0.15);\n",
              "      fill: #174EA6;\n",
              "    }\n",
              "\n",
              "    .colab-df-buttons div {\n",
              "      margin-bottom: 4px;\n",
              "    }\n",
              "\n",
              "    [theme=dark] .colab-df-convert {\n",
              "      background-color: #3B4455;\n",
              "      fill: #D2E3FC;\n",
              "    }\n",
              "\n",
              "    [theme=dark] .colab-df-convert:hover {\n",
              "      background-color: #434B5C;\n",
              "      box-shadow: 0px 1px 3px 1px rgba(0, 0, 0, 0.15);\n",
              "      filter: drop-shadow(0px 1px 2px rgba(0, 0, 0, 0.3));\n",
              "      fill: #FFFFFF;\n",
              "    }\n",
              "  </style>\n",
              "\n",
              "    <script>\n",
              "      const buttonEl =\n",
              "        document.querySelector('#df-f28ba082-35d6-4ab4-9f4e-03e318242029 button.colab-df-convert');\n",
              "      buttonEl.style.display =\n",
              "        google.colab.kernel.accessAllowed ? 'block' : 'none';\n",
              "\n",
              "      async function convertToInteractive(key) {\n",
              "        const element = document.querySelector('#df-f28ba082-35d6-4ab4-9f4e-03e318242029');\n",
              "        const dataTable =\n",
              "          await google.colab.kernel.invokeFunction('convertToInteractive',\n",
              "                                                    [key], {});\n",
              "        if (!dataTable) return;\n",
              "\n",
              "        const docLinkHtml = 'Like what you see? Visit the ' +\n",
              "          '<a target=\"_blank\" href=https://colab.research.google.com/notebooks/data_table.ipynb>data table notebook</a>'\n",
              "          + ' to learn more about interactive tables.';\n",
              "        element.innerHTML = '';\n",
              "        dataTable['output_type'] = 'display_data';\n",
              "        await google.colab.output.renderOutput(dataTable, element);\n",
              "        const docLink = document.createElement('div');\n",
              "        docLink.innerHTML = docLinkHtml;\n",
              "        element.appendChild(docLink);\n",
              "      }\n",
              "    </script>\n",
              "  </div>\n",
              "\n",
              "\n",
              "<div id=\"df-d5f4a34e-20c8-4989-99c7-05c0d7de2123\">\n",
              "  <button class=\"colab-df-quickchart\" onclick=\"quickchart('df-d5f4a34e-20c8-4989-99c7-05c0d7de2123')\"\n",
              "            title=\"Suggest charts.\"\n",
              "            style=\"display:none;\">\n",
              "\n",
              "<svg xmlns=\"http://www.w3.org/2000/svg\" height=\"24px\"viewBox=\"0 0 24 24\"\n",
              "     width=\"24px\">\n",
              "    <g>\n",
              "        <path d=\"M19 3H5c-1.1 0-2 .9-2 2v14c0 1.1.9 2 2 2h14c1.1 0 2-.9 2-2V5c0-1.1-.9-2-2-2zM9 17H7v-7h2v7zm4 0h-2V7h2v10zm4 0h-2v-4h2v4z\"/>\n",
              "    </g>\n",
              "</svg>\n",
              "  </button>\n",
              "\n",
              "<style>\n",
              "  .colab-df-quickchart {\n",
              "      --bg-color: #E8F0FE;\n",
              "      --fill-color: #1967D2;\n",
              "      --hover-bg-color: #E2EBFA;\n",
              "      --hover-fill-color: #174EA6;\n",
              "      --disabled-fill-color: #AAA;\n",
              "      --disabled-bg-color: #DDD;\n",
              "  }\n",
              "\n",
              "  [theme=dark] .colab-df-quickchart {\n",
              "      --bg-color: #3B4455;\n",
              "      --fill-color: #D2E3FC;\n",
              "      --hover-bg-color: #434B5C;\n",
              "      --hover-fill-color: #FFFFFF;\n",
              "      --disabled-bg-color: #3B4455;\n",
              "      --disabled-fill-color: #666;\n",
              "  }\n",
              "\n",
              "  .colab-df-quickchart {\n",
              "    background-color: var(--bg-color);\n",
              "    border: none;\n",
              "    border-radius: 50%;\n",
              "    cursor: pointer;\n",
              "    display: none;\n",
              "    fill: var(--fill-color);\n",
              "    height: 32px;\n",
              "    padding: 0;\n",
              "    width: 32px;\n",
              "  }\n",
              "\n",
              "  .colab-df-quickchart:hover {\n",
              "    background-color: var(--hover-bg-color);\n",
              "    box-shadow: 0 1px 2px rgba(60, 64, 67, 0.3), 0 1px 3px 1px rgba(60, 64, 67, 0.15);\n",
              "    fill: var(--button-hover-fill-color);\n",
              "  }\n",
              "\n",
              "  .colab-df-quickchart-complete:disabled,\n",
              "  .colab-df-quickchart-complete:disabled:hover {\n",
              "    background-color: var(--disabled-bg-color);\n",
              "    fill: var(--disabled-fill-color);\n",
              "    box-shadow: none;\n",
              "  }\n",
              "\n",
              "  .colab-df-spinner {\n",
              "    border: 2px solid var(--fill-color);\n",
              "    border-color: transparent;\n",
              "    border-bottom-color: var(--fill-color);\n",
              "    animation:\n",
              "      spin 1s steps(1) infinite;\n",
              "  }\n",
              "\n",
              "  @keyframes spin {\n",
              "    0% {\n",
              "      border-color: transparent;\n",
              "      border-bottom-color: var(--fill-color);\n",
              "      border-left-color: var(--fill-color);\n",
              "    }\n",
              "    20% {\n",
              "      border-color: transparent;\n",
              "      border-left-color: var(--fill-color);\n",
              "      border-top-color: var(--fill-color);\n",
              "    }\n",
              "    30% {\n",
              "      border-color: transparent;\n",
              "      border-left-color: var(--fill-color);\n",
              "      border-top-color: var(--fill-color);\n",
              "      border-right-color: var(--fill-color);\n",
              "    }\n",
              "    40% {\n",
              "      border-color: transparent;\n",
              "      border-right-color: var(--fill-color);\n",
              "      border-top-color: var(--fill-color);\n",
              "    }\n",
              "    60% {\n",
              "      border-color: transparent;\n",
              "      border-right-color: var(--fill-color);\n",
              "    }\n",
              "    80% {\n",
              "      border-color: transparent;\n",
              "      border-right-color: var(--fill-color);\n",
              "      border-bottom-color: var(--fill-color);\n",
              "    }\n",
              "    90% {\n",
              "      border-color: transparent;\n",
              "      border-bottom-color: var(--fill-color);\n",
              "    }\n",
              "  }\n",
              "</style>\n",
              "\n",
              "  <script>\n",
              "    async function quickchart(key) {\n",
              "      const quickchartButtonEl =\n",
              "        document.querySelector('#' + key + ' button');\n",
              "      quickchartButtonEl.disabled = true;  // To prevent multiple clicks.\n",
              "      quickchartButtonEl.classList.add('colab-df-spinner');\n",
              "      try {\n",
              "        const charts = await google.colab.kernel.invokeFunction(\n",
              "            'suggestCharts', [key], {});\n",
              "      } catch (error) {\n",
              "        console.error('Error during call to suggestCharts:', error);\n",
              "      }\n",
              "      quickchartButtonEl.classList.remove('colab-df-spinner');\n",
              "      quickchartButtonEl.classList.add('colab-df-quickchart-complete');\n",
              "    }\n",
              "    (() => {\n",
              "      let quickchartButtonEl =\n",
              "        document.querySelector('#df-d5f4a34e-20c8-4989-99c7-05c0d7de2123 button');\n",
              "      quickchartButtonEl.style.display =\n",
              "        google.colab.kernel.accessAllowed ? 'block' : 'none';\n",
              "    })();\n",
              "  </script>\n",
              "</div>\n",
              "    </div>\n",
              "  </div>\n"
            ]
          },
          "metadata": {},
          "execution_count": 336
        }
      ]
    },
    {
      "cell_type": "code",
      "source": [
        "print(len(economic_reports_dataset.index.tolist()))"
      ],
      "metadata": {
        "colab": {
          "base_uri": "https://localhost:8080/"
        },
        "id": "P2wa_03pEzmH",
        "outputId": "02178c2a-6a35-4509-ff46-b3649409bc29"
      },
      "execution_count": null,
      "outputs": [
        {
          "output_type": "stream",
          "name": "stdout",
          "text": [
            "61\n"
          ]
        }
      ]
    },
    {
      "cell_type": "markdown",
      "source": [
        "## Statistical clustering"
      ],
      "metadata": {
        "id": "DAzok9aJDlw1"
      }
    },
    {
      "cell_type": "code",
      "source": [
        "len(clustering_dataset.Ticker)"
      ],
      "metadata": {
        "colab": {
          "base_uri": "https://localhost:8080/"
        },
        "outputId": "8567ec7c-2198-4256-8d1d-d99e19e642c9",
        "id": "T15k9cxBAo8k"
      },
      "execution_count": null,
      "outputs": [
        {
          "output_type": "execute_result",
          "data": {
            "text/plain": [
              "61"
            ]
          },
          "metadata": {},
          "execution_count": 60
        }
      ]
    },
    {
      "cell_type": "markdown",
      "source": [
        "### 2019"
      ],
      "metadata": {
        "id": "2iXESBxsD_5b"
      }
    },
    {
      "cell_type": "code",
      "source": [
        "clustering_dataset = pd.DataFrame()\n",
        "clustering_dataset['Ticker'] = economic_reports_dataset['Ticker']\n",
        "clustering_dataset['Net income 2019 / Total assets 2019'] = economic_reports_dataset['Net income 2019'] / economic_reports_dataset['Total assets 2019']\n",
        "clustering_dataset['Net income 2019 / Total shareholders\\' equity 2019'] = economic_reports_dataset['Net income 2019'] / economic_reports_dataset['Total shareholders\\' equity 2019']\n",
        "clustering_dataset['Net income 2019 / Operating income 2019'] = economic_reports_dataset['Net income 2019'] / economic_reports_dataset['Operating income 2019']"
      ],
      "metadata": {
        "id": "KFK-Z-onAo8d"
      },
      "execution_count": null,
      "outputs": []
    },
    {
      "cell_type": "markdown",
      "source": [
        "#### Assets classification"
      ],
      "metadata": {
        "id": "6pxPePElEHKb"
      }
    },
    {
      "cell_type": "code",
      "source": [
        "categories_assets = pd.qcut(clustering_dataset['Net income 2019 / Total assets 2019'], q=3, labels = ['Low', 'Middle', 'High'])"
      ],
      "metadata": {
        "id": "ewPXqRtoAo8k"
      },
      "execution_count": null,
      "outputs": []
    },
    {
      "cell_type": "code",
      "source": [
        "clustering_dataset['Categories assets'] = categories_assets"
      ],
      "metadata": {
        "id": "_e_fc17_Ao8l"
      },
      "execution_count": null,
      "outputs": []
    },
    {
      "cell_type": "code",
      "source": [
        "categories_assets_low = clustering_dataset.loc[clustering_dataset['Categories assets'] == 'Low', 'Ticker'].tolist()\n",
        "print(clustering_dataset.loc[clustering_dataset['Categories assets'] == 'Low', 'Ticker'].tolist())"
      ],
      "metadata": {
        "colab": {
          "base_uri": "https://localhost:8080/"
        },
        "outputId": "0a95db19-c38c-4cc5-9437-cf0f4fcac0ba",
        "id": "DiTppF2PAo8l"
      },
      "execution_count": null,
      "outputs": [
        {
          "output_type": "stream",
          "name": "stdout",
          "text": [
            "['ADSK', 'ADTN', 'ALNY', 'BJRI', 'BSET', 'CONN', 'EXPE', 'IRDM', 'JBLU', 'MAT', 'MSTR', 'MYGN', 'SAVE', 'SCHN', 'SGEN', 'SRCL', 'SSNC', 'VIA', 'WDC', 'WYNN', 'ZEUS']\n"
          ]
        }
      ]
    },
    {
      "cell_type": "code",
      "source": [
        "categories_assets_middle = clustering_dataset.loc[clustering_dataset['Categories assets'] == 'Middle', 'Ticker'].tolist()\n",
        "print(clustering_dataset.loc[clustering_dataset['Categories assets'] == 'Middle', 'Ticker'].tolist())"
      ],
      "metadata": {
        "colab": {
          "base_uri": "https://localhost:8080/"
        },
        "outputId": "94348c71-70b8-43cc-d708-bd5344c4968a",
        "id": "mYoOoKPPAo8l"
      },
      "execution_count": null,
      "outputs": [
        {
          "output_type": "stream",
          "name": "stdout",
          "text": [
            "['AKAM', 'AMZN', 'ANSS', 'ATVI', 'CHSCP', 'COST', 'CSCO', 'FTNT', 'GILD', 'GOOGL', 'JBHT', 'MDLZ', 'MTEX', 'NATI', 'NDAQ', 'NFLX', 'OLED', 'SNPS', 'TRIP', 'VRSK']\n"
          ]
        }
      ]
    },
    {
      "cell_type": "code",
      "source": [
        "categories_assets_high = clustering_dataset.loc[clustering_dataset['Categories assets'] == 'High', 'Ticker'].tolist()\n",
        "print(clustering_dataset.loc[clustering_dataset['Categories assets'] == 'High', 'Ticker'].tolist())"
      ],
      "metadata": {
        "colab": {
          "base_uri": "https://localhost:8080/"
        },
        "outputId": "5c0fdf97-0e4a-49d9-9219-8ee6daea7251",
        "id": "q0NexZtnAo8l"
      },
      "execution_count": null,
      "outputs": [
        {
          "output_type": "stream",
          "name": "stdout",
          "text": [
            "['AAPL', 'ADBE', 'AMGN', 'BIIB', 'CDNS', 'EXPD', 'GRMN', 'INTC', 'INTU', 'LRCX', 'LULU', 'LXRX', 'MSFT', 'MU', 'NTAP', 'NVDA', 'REGN', 'STX', 'SWKS', 'TXN']\n"
          ]
        }
      ]
    },
    {
      "cell_type": "code",
      "source": [
        "plt.title('Net income 2019 / Total assets 2019 value distribution')\n",
        "plt.xlabel('Net income 2019 / Total assets 2019')\n",
        "plt.ylabel('Amount of companies')\n",
        "clustering_dataset['Net income 2019 / Total assets 2019'].hist(bins=70)"
      ],
      "metadata": {
        "colab": {
          "base_uri": "https://localhost:8080/",
          "height": 482
        },
        "outputId": "121c2fd1-a7f8-41a8-ce25-6ac131459932",
        "id": "RWb_RVBeAo8k"
      },
      "execution_count": null,
      "outputs": [
        {
          "output_type": "execute_result",
          "data": {
            "text/plain": [
              "<Axes: title={'center': 'Net income 2019 / Total assets 2019 value distribution'}, xlabel='Net income 2019 / Total assets 2019', ylabel='Amount of companies'>"
            ]
          },
          "metadata": {},
          "execution_count": 344
        },
        {
          "output_type": "display_data",
          "data": {
            "text/plain": [
              "<Figure size 640x480 with 1 Axes>"
            ],
            "image/png": "[encoded data removed]"
          },
          "metadata": {}
        }
      ]
    },
    {
      "cell_type": "markdown",
      "source": [
        "#### Shareholders' equity classification"
      ],
      "metadata": {
        "id": "BSdH0WsCEPcy"
      }
    },
    {
      "cell_type": "code",
      "source": [
        "categories_shareholders_equity = pd.qcut(clustering_dataset['Net income 2019 / Total shareholders\\' equity 2019'], q=3, labels = ['Low', 'Middle', 'High'])"
      ],
      "metadata": {
        "id": "ib7LYbtoAo8l"
      },
      "execution_count": null,
      "outputs": []
    },
    {
      "cell_type": "code",
      "source": [
        "clustering_dataset['Categories equity'] = categories_shareholders_equity"
      ],
      "metadata": {
        "id": "JPTLQltVAo8l"
      },
      "execution_count": null,
      "outputs": []
    },
    {
      "cell_type": "code",
      "source": [
        "categories_shareholders_equity_low = clustering_dataset.loc[clustering_dataset['Categories equity'] == 'Low', 'Ticker'].tolist()\n",
        "print(clustering_dataset.loc[clustering_dataset['Categories equity'] == 'Low', 'Ticker'].tolist())"
      ],
      "metadata": {
        "colab": {
          "base_uri": "https://localhost:8080/"
        },
        "outputId": "a86d1b71-551d-441f-bf26-30322735e3a7",
        "id": "9CwdUAYdAo8m"
      },
      "execution_count": null,
      "outputs": [
        {
          "output_type": "stream",
          "name": "stdout",
          "text": [
            "['ADTN', 'ALNY', 'ATVI', 'BSET', 'CHSCP', 'CONN', 'IRDM', 'JBLU', 'MAT', 'MSTR', 'MTEX', 'MYGN', 'SCHN', 'SGEN', 'SNPS', 'SRCL', 'SSNC', 'TRIP', 'WDC', 'WYNN', 'ZEUS']\n"
          ]
        }
      ]
    },
    {
      "cell_type": "code",
      "source": [
        "categories_shareholders_equity_middle = clustering_dataset.loc[clustering_dataset['Categories equity'] == 'Middle', 'Ticker'].tolist()\n",
        "print(clustering_dataset.loc[clustering_dataset['Categories equity'] == 'Middle', 'Ticker'].tolist())"
      ],
      "metadata": {
        "colab": {
          "base_uri": "https://localhost:8080/"
        },
        "outputId": "d08928a3-eded-4909-924c-bd4fc69a808a",
        "id": "0Q--u4l8Ao8m"
      },
      "execution_count": null,
      "outputs": [
        {
          "output_type": "stream",
          "name": "stdout",
          "text": [
            "['AKAM', 'AMZN', 'ANSS', 'BJRI', 'COST', 'EXPE', 'GILD', 'GOOGL', 'GRMN', 'JBHT', 'MDLZ', 'MU', 'NATI', 'NDAQ', 'OLED', 'REGN', 'SAVE', 'SWKS', 'VIA', 'VRSK']\n"
          ]
        }
      ]
    },
    {
      "cell_type": "code",
      "source": [
        "categories_shareholders_equity_high = clustering_dataset.loc[clustering_dataset['Categories equity'] == 'High', 'Ticker'].tolist()\n",
        "print(clustering_dataset.loc[clustering_dataset['Categories equity'] == 'High', 'Ticker'].tolist())"
      ],
      "metadata": {
        "colab": {
          "base_uri": "https://localhost:8080/"
        },
        "outputId": "f1d3b5ca-4dd7-4a06-abaa-72807b5bbaa8",
        "id": "DvUc5F9PAo8m"
      },
      "execution_count": null,
      "outputs": [
        {
          "output_type": "stream",
          "name": "stdout",
          "text": [
            "['AAPL', 'ADBE', 'ADSK', 'AMGN', 'BIIB', 'CDNS', 'CSCO', 'EXPD', 'FTNT', 'INTC', 'INTU', 'LRCX', 'LULU', 'LXRX', 'MSFT', 'NFLX', 'NTAP', 'NVDA', 'STX', 'TXN']\n"
          ]
        }
      ]
    },
    {
      "cell_type": "code",
      "source": [
        "plt.title('Net income 2019 / Total shareholders\\' equity 2019 value distribution')\n",
        "plt.xlabel('Net income 2019 / Total shareholders\\' equity 2019')\n",
        "plt.ylabel('Amount of companies')\n",
        "clustering_dataset['Net income 2019 / Total shareholders\\' equity 2019'].hist(bins=70)"
      ],
      "metadata": {
        "colab": {
          "base_uri": "https://localhost:8080/",
          "height": 500
        },
        "outputId": "51d071f4-5f7d-436c-d5f2-a62fd6a76cdc",
        "id": "nluwxgYeAo8l"
      },
      "execution_count": null,
      "outputs": [
        {
          "output_type": "execute_result",
          "data": {
            "text/plain": [
              "<Axes: title={'center': \"Net income 2019 / Total shareholders' equity 2019 value distribution\"}, xlabel=\"Net income 2019 / Total shareholders' equity 2019\", ylabel='Amount of companies'>"
            ]
          },
          "metadata": {},
          "execution_count": 350
        },
        {
          "output_type": "display_data",
          "data": {
            "text/plain": [
              "<Figure size 640x480 with 1 Axes>"
            ],
            "image/png": "[encoded data removed]"
          },
          "metadata": {}
        }
      ]
    },
    {
      "cell_type": "markdown",
      "source": [
        "#### Operating income classification"
      ],
      "metadata": {
        "id": "3VMN5gMhEWgz"
      }
    },
    {
      "cell_type": "code",
      "source": [
        "categories_operating_income = pd.qcut(clustering_dataset['Net income 2019 / Operating income 2019'], q=2, labels = ['Low', 'High'])"
      ],
      "metadata": {
        "id": "QV7sGEZQAo8m"
      },
      "execution_count": null,
      "outputs": []
    },
    {
      "cell_type": "code",
      "source": [
        "clustering_dataset['Categories operating income'] = categories_operating_income"
      ],
      "metadata": {
        "id": "kgE-b_CfAo8m"
      },
      "execution_count": null,
      "outputs": []
    },
    {
      "cell_type": "code",
      "source": [
        "categories_operating_income_low = clustering_dataset.loc[clustering_dataset['Categories operating income'] == 'Low', 'Ticker'].tolist()\n",
        "print(clustering_dataset.loc[clustering_dataset['Categories operating income'] == 'Low', 'Ticker'].tolist())"
      ],
      "metadata": {
        "colab": {
          "base_uri": "https://localhost:8080/"
        },
        "outputId": "dda50d9d-74c1-4425-9f5a-36232578a3ab",
        "id": "G8Qaq7OtAo8m"
      },
      "execution_count": null,
      "outputs": [
        {
          "output_type": "stream",
          "name": "stdout",
          "text": [
            "['AAPL', 'AMGN', 'AMZN', 'BIIB', 'CONN', 'COST', 'CSCO', 'EXPD', 'EXPE', 'INTU', 'IRDM', 'JBHT', 'JBLU', 'LULU', 'MAT', 'MSTR', 'MTEX', 'MU', 'MYGN', 'NDAQ', 'NFLX', 'SAVE', 'SCHN', 'SGEN', 'SSNC', 'TRIP', 'VIA', 'VRSK', 'WDC', 'WYNN', 'ZEUS']\n"
          ]
        }
      ]
    },
    {
      "cell_type": "code",
      "source": [
        "categories_operating_income_high = clustering_dataset.loc[clustering_dataset['Categories operating income'] == 'High', 'Ticker'].tolist()\n",
        "print(clustering_dataset.loc[clustering_dataset['Categories operating income'] == 'High', 'Ticker'].tolist())"
      ],
      "metadata": {
        "colab": {
          "base_uri": "https://localhost:8080/"
        },
        "outputId": "8c8e0a43-74f8-4ff0-fa61-45acde1b21c2",
        "id": "LRNpHCjFAo8n"
      },
      "execution_count": null,
      "outputs": [
        {
          "output_type": "stream",
          "name": "stdout",
          "text": [
            "['ADBE', 'ADSK', 'ADTN', 'AKAM', 'ALNY', 'ANSS', 'ATVI', 'BJRI', 'BSET', 'CDNS', 'CHSCP', 'FTNT', 'GILD', 'GOOGL', 'GRMN', 'INTC', 'LRCX', 'LXRX', 'MDLZ', 'MSFT', 'NATI', 'NTAP', 'NVDA', 'OLED', 'REGN', 'SNPS', 'SRCL', 'STX', 'SWKS', 'TXN']\n"
          ]
        }
      ]
    },
    {
      "cell_type": "code",
      "source": [
        "plt.title('Net income 2019 / Operating income 2019 value distribution')\n",
        "plt.xlabel('Net income 2019 / Operating income 2019')\n",
        "plt.ylabel('Amount of companies')\n",
        "clustering_dataset['Net income 2019 / Operating income 2019'].hist(bins=70)"
      ],
      "metadata": {
        "colab": {
          "base_uri": "https://localhost:8080/",
          "height": 482
        },
        "outputId": "73151090-4d9c-457b-c84a-cbdac7590ab0",
        "id": "GGjvpAL5Ao8m"
      },
      "execution_count": null,
      "outputs": [
        {
          "output_type": "execute_result",
          "data": {
            "text/plain": [
              "<Axes: title={'center': 'Net income 2019 / Operating income 2019 value distribution'}, xlabel='Net income 2019 / Operating income 2019', ylabel='Amount of companies'>"
            ]
          },
          "metadata": {},
          "execution_count": 355
        },
        {
          "output_type": "display_data",
          "data": {
            "text/plain": [
              "<Figure size 640x480 with 1 Axes>"
            ],
            "image/png": "[encoded data removed]"
          },
          "metadata": {}
        }
      ]
    },
    {
      "cell_type": "code",
      "source": [
        "clusters = pd.DataFrame()\n",
        "clusters['Ticker'] = clustering_dataset['Ticker']"
      ],
      "metadata": {
        "id": "k8E0hNstAo8n"
      },
      "execution_count": null,
      "outputs": []
    },
    {
      "cell_type": "code",
      "source": [
        "len(clustering_dataset.Ticker)"
      ],
      "metadata": {
        "colab": {
          "base_uri": "https://localhost:8080/"
        },
        "outputId": "e55e6c46-581f-4990-9556-eaf4a1b06ce4",
        "id": "t4LwmU0GAo8n"
      },
      "execution_count": null,
      "outputs": [
        {
          "output_type": "execute_result",
          "data": {
            "text/plain": [
              "61"
            ]
          },
          "metadata": {},
          "execution_count": 357
        }
      ]
    },
    {
      "cell_type": "markdown",
      "source": [
        "#### Final classification"
      ],
      "metadata": {
        "id": "EuUm05bcEefr"
      }
    },
    {
      "cell_type": "code",
      "source": [
        "strings = []\n",
        "for company in clustering_dataset['Ticker'].tolist():\n",
        "  string_company = \"\"\n",
        "  if company in categories_assets_low:\n",
        "    string_company += \"1\"\n",
        "  if company in categories_assets_middle:\n",
        "    string_company += \"2\"\n",
        "  if company in categories_assets_high:\n",
        "    string_company += \"3\"\n",
        "  if company in categories_shareholders_equity_low:\n",
        "    string_company += \"1\"\n",
        "  if company in categories_shareholders_equity_middle:\n",
        "    string_company += \"2\"\n",
        "  if company in categories_shareholders_equity_high:\n",
        "    string_company += \"3\"\n",
        "  if company in categories_operating_income_low:\n",
        "    string_company += \"1\"\n",
        "  if company in categories_operating_income_high:\n",
        "    string_company += \"2\"\n",
        "  strings.append(int(string_company))\n",
        "  if string_company in [\"111\", \"112\", \"121\", \"122\", \"211\", \"212\"]:\n",
        "    clusters.loc[clusters['Ticker'] == company, \"Cluster_2019\"] = 1\n",
        "  if string_company in [\"131\", \"132\", \"221\", \"222\", \"311\", \"312\"]:\n",
        "    clusters.loc[clusters['Ticker'] == company, \"Cluster_2019\"] = 2\n",
        "  if string_company in [\"332\", \"322\", \"232\", \"331\", \"321\", \"231\"]:\n",
        "    clusters.loc[clusters['Ticker'] == company, \"Cluster_2019\"] = 3\n",
        "  # if string_company in [\"11\", \"12\", \"21\"]:\n",
        "  #   clusters.loc[clusters['Ticker'] == company, \"Cluster_2019\"] = 1\n",
        "  # if string_company in [\"13\", \"22\", \"31\"]:\n",
        "  #   clusters.loc[clusters['Ticker'] == company, \"Cluster_2019\"] = 2\n",
        "  # if string_company in [\"23\", \"32\", \"33\"]:\n",
        "  #   clusters.loc[clusters['Ticker'] == company, \"Cluster_2019\"] = 3\n",
        "print(set(strings))\n"
      ],
      "metadata": {
        "colab": {
          "base_uri": "https://localhost:8080/"
        },
        "outputId": "cd952824-8ee9-4f48-9a94-57de6573dc52",
        "id": "R7cbz3rQAo8n"
      },
      "execution_count": null,
      "outputs": [
        {
          "output_type": "stream",
          "name": "stdout",
          "text": [
            "{321, 322, 132, 231, 232, 331, 332, 111, 112, 211, 212, 121, 122, 221, 222}\n"
          ]
        }
      ]
    },
    {
      "cell_type": "code",
      "source": [
        "print(len(strings))"
      ],
      "metadata": {
        "colab": {
          "base_uri": "https://localhost:8080/"
        },
        "outputId": "27dde764-2581-48c6-c065-6ea6214e8290",
        "id": "kJf8bfqEAo8n"
      },
      "execution_count": null,
      "outputs": [
        {
          "output_type": "stream",
          "name": "stdout",
          "text": [
            "61\n"
          ]
        }
      ]
    },
    {
      "cell_type": "code",
      "source": [
        "print('Amount of companies in first cluster (worst financial condition) -', len(clusters.loc[clusters['Cluster_2019'] == 1, 'Ticker'].tolist()))"
      ],
      "metadata": {
        "colab": {
          "base_uri": "https://localhost:8080/"
        },
        "outputId": "efad9e14-66d1-4257-d33e-34e09964cc69",
        "id": "Mw6UnavQAo8n"
      },
      "execution_count": null,
      "outputs": [
        {
          "output_type": "stream",
          "name": "stdout",
          "text": [
            "Amount of companies in first cluster (worst financial condition) - 25\n"
          ]
        }
      ]
    },
    {
      "cell_type": "code",
      "source": [
        "print('Amount of companies in second cluster (middle financial condition) -', len(clusters.loc[clusters['Cluster_2019'] == 2, 'Ticker'].tolist()))"
      ],
      "metadata": {
        "colab": {
          "base_uri": "https://localhost:8080/"
        },
        "outputId": "58a621fb-2ead-422a-bba6-42875530f001",
        "id": "mo61vHu5Ao8n"
      },
      "execution_count": null,
      "outputs": [
        {
          "output_type": "stream",
          "name": "stdout",
          "text": [
            "Amount of companies in second cluster (middle financial condition) - 13\n"
          ]
        }
      ]
    },
    {
      "cell_type": "code",
      "source": [
        "print('Amount of companies in third cluster (best financial condition) -', len(clusters.loc[clusters['Cluster_2019'] == 3, 'Ticker'].tolist()))"
      ],
      "metadata": {
        "colab": {
          "base_uri": "https://localhost:8080/"
        },
        "outputId": "8e2c5ab3-64a1-4ce4-f749-016d714e268d",
        "id": "ArOO8NFuAo8o"
      },
      "execution_count": null,
      "outputs": [
        {
          "output_type": "stream",
          "name": "stdout",
          "text": [
            "Amount of companies in third cluster (best financial condition) - 23\n"
          ]
        }
      ]
    },
    {
      "cell_type": "markdown",
      "source": [
        "### 2018"
      ],
      "metadata": {
        "id": "PLpd6EVeElZ_"
      }
    },
    {
      "cell_type": "code",
      "source": [
        "clustering_dataset['Net income 2018 / Total assets 2018'] = economic_reports_dataset['Net income 2018'] / economic_reports_dataset['Total assets 2018']\n",
        "clustering_dataset['Net income 2018 / Total shareholders\\' equity 2018'] = economic_reports_dataset['Net income 2018'] / economic_reports_dataset['Total shareholders\\' equity 2018']\n",
        "clustering_dataset['Net income 2018 / Operating income 2018'] = economic_reports_dataset['Net income 2018'] / economic_reports_dataset['Operating income 2018']"
      ],
      "metadata": {
        "id": "WbfwE6CjAo8o"
      },
      "execution_count": null,
      "outputs": []
    },
    {
      "cell_type": "markdown",
      "source": [
        "#### Assets classification"
      ],
      "metadata": {
        "id": "DkckLbtjEqzF"
      }
    },
    {
      "cell_type": "code",
      "source": [
        "categories_assets = pd.qcut(clustering_dataset['Net income 2018 / Total assets 2018'], q=3, labels = ['Low', 'Middle', 'High'])"
      ],
      "metadata": {
        "id": "X_0-L1BaAo8o"
      },
      "execution_count": null,
      "outputs": []
    },
    {
      "cell_type": "code",
      "source": [
        "clustering_dataset['Categories assets'] = categories_assets"
      ],
      "metadata": {
        "id": "FcrEe7kfAo8o"
      },
      "execution_count": null,
      "outputs": []
    },
    {
      "cell_type": "code",
      "source": [
        "categories_assets_low = clustering_dataset.loc[clustering_dataset['Categories assets'] == 'Low', 'Ticker'].tolist()\n",
        "print(clustering_dataset.loc[clustering_dataset['Categories assets'] == 'Low', 'Ticker'].tolist())"
      ],
      "metadata": {
        "colab": {
          "base_uri": "https://localhost:8080/"
        },
        "outputId": "19344349-1700-4249-b805-61122ebf51b7",
        "id": "sSFNCAI0Ao8o"
      },
      "execution_count": null,
      "outputs": [
        {
          "output_type": "stream",
          "name": "stdout",
          "text": [
            "['ADSK', 'ADTN', 'ALNY', 'BSET', 'CONN', 'CSCO', 'EXPE', 'IRDM', 'JBLU', 'LXRX', 'MAT', 'MSTR', 'MTEX', 'NDAQ', 'NTAP', 'SAVE', 'SGEN', 'SRCL', 'SSNC', 'VIA', 'WDC']\n"
          ]
        }
      ]
    },
    {
      "cell_type": "code",
      "source": [
        "categories_assets_middle = clustering_dataset.loc[clustering_dataset['Categories assets'] == 'Middle', 'Ticker'].tolist()\n",
        "print(clustering_dataset.loc[clustering_dataset['Categories assets'] == 'Middle', 'Ticker'].tolist())"
      ],
      "metadata": {
        "colab": {
          "base_uri": "https://localhost:8080/"
        },
        "outputId": "23274e54-8737-4193-f7c4-cfad83c772e3",
        "id": "QCTf4I0nAo8o"
      },
      "execution_count": null,
      "outputs": [
        {
          "output_type": "stream",
          "name": "stdout",
          "text": [
            "['AKAM', 'AMZN', 'ATVI', 'BJRI', 'CHSCP', 'COST', 'FTNT', 'GILD', 'JBHT', 'MDLZ', 'MSFT', 'MYGN', 'NATI', 'NFLX', 'OLED', 'SNPS', 'TRIP', 'VRSK', 'WYNN', 'ZEUS']\n"
          ]
        }
      ]
    },
    {
      "cell_type": "code",
      "source": [
        "categories_assets_high = clustering_dataset.loc[clustering_dataset['Categories assets'] == 'High', 'Ticker'].tolist()\n",
        "print(clustering_dataset.loc[clustering_dataset['Categories assets'] == 'High', 'Ticker'].tolist())"
      ],
      "metadata": {
        "colab": {
          "base_uri": "https://localhost:8080/"
        },
        "outputId": "2f07433d-2890-4ff0-fcde-2013c0523677",
        "id": "4gp9NqjQAo8p"
      },
      "execution_count": null,
      "outputs": [
        {
          "output_type": "stream",
          "name": "stdout",
          "text": [
            "['AAPL', 'ADBE', 'AMGN', 'ANSS', 'BIIB', 'CDNS', 'EXPD', 'GOOGL', 'GRMN', 'INTC', 'INTU', 'LRCX', 'LULU', 'MU', 'NVDA', 'REGN', 'SCHN', 'STX', 'SWKS', 'TXN']\n"
          ]
        }
      ]
    },
    {
      "cell_type": "code",
      "source": [
        "plt.title('Net income 2018 / Total assets 2018 value distribution')\n",
        "plt.xlabel('Net income 2018 / Total assets 2018')\n",
        "plt.ylabel('Amount of companies')\n",
        "clustering_dataset['Net income 2018 / Total assets 2018'].hist(bins=70)"
      ],
      "metadata": {
        "colab": {
          "base_uri": "https://localhost:8080/"
        },
        "outputId": "f6bf8216-cbce-4222-804f-85e5a54adfb8",
        "id": "nrH1OOwwAo8o"
      },
      "execution_count": null,
      "outputs": [
        {
          "output_type": "execute_result",
          "data": {
            "text/plain": [
              "<Axes: title={'center': 'Net income 2018 / Total assets 2018 value distribution'}, xlabel='Net income 2018 / Total assets 2018', ylabel='Amount of companies'>"
            ]
          },
          "metadata": {},
          "execution_count": 369
        },
        {
          "output_type": "display_data",
          "data": {
            "text/plain": [
              "<Figure size 640x480 with 1 Axes>"
            ],
            "image/png": "[encoded data removed]"
          },
          "metadata": {}
        }
      ]
    },
    {
      "cell_type": "markdown",
      "source": [
        "#### Shareholders\\' equity classification"
      ],
      "metadata": {
        "id": "wMMYquA9EwvH"
      }
    },
    {
      "cell_type": "code",
      "source": [
        "categories_shareholders_equity = pd.qcut(clustering_dataset['Net income 2018 / Total shareholders\\' equity 2018'], q=3, labels = ['Low', 'Middle', 'High'])"
      ],
      "metadata": {
        "id": "ngxN2LjkAo8p"
      },
      "execution_count": null,
      "outputs": []
    },
    {
      "cell_type": "code",
      "source": [
        "clustering_dataset['Categories equity'] = categories_shareholders_equity"
      ],
      "metadata": {
        "id": "5yG1pGWnAo8p"
      },
      "execution_count": null,
      "outputs": []
    },
    {
      "cell_type": "code",
      "source": [
        "categories_shareholders_equity_low = clustering_dataset.loc[clustering_dataset['Categories equity'] == 'Low', 'Ticker'].tolist()\n",
        "print(clustering_dataset.loc[clustering_dataset['Categories equity'] == 'Low', 'Ticker'].tolist())"
      ],
      "metadata": {
        "colab": {
          "base_uri": "https://localhost:8080/"
        },
        "outputId": "db8d0f8f-9fd6-4a27-ec0d-09c29708cf6d",
        "id": "55NdIZCTAo8p"
      },
      "execution_count": null,
      "outputs": [
        {
          "output_type": "stream",
          "name": "stdout",
          "text": [
            "['ADTN', 'AKAM', 'ALNY', 'BSET', 'CONN', 'CSCO', 'IRDM', 'JBLU', 'MAT', 'MSTR', 'MTEX', 'NDAQ', 'NTAP', 'OLED', 'SAVE', 'SGEN', 'SRCL', 'SSNC', 'TRIP', 'VIA', 'WDC']\n"
          ]
        }
      ]
    },
    {
      "cell_type": "code",
      "source": [
        "categories_shareholders_equity_middle = clustering_dataset.loc[clustering_dataset['Categories equity'] == 'Middle', 'Ticker'].tolist()\n",
        "print(clustering_dataset.loc[clustering_dataset['Categories equity'] == 'Middle', 'Ticker'].tolist())"
      ],
      "metadata": {
        "colab": {
          "base_uri": "https://localhost:8080/"
        },
        "outputId": "388ec01b-17f0-4e0b-e280-a47f37255e3a",
        "id": "E54OcY6PAo8p"
      },
      "execution_count": null,
      "outputs": [
        {
          "output_type": "stream",
          "name": "stdout",
          "text": [
            "['AMZN', 'ANSS', 'ATVI', 'BJRI', 'CHSCP', 'COST', 'EXPE', 'GILD', 'GOOGL', 'GRMN', 'JBHT', 'MDLZ', 'MSFT', 'MYGN', 'NATI', 'NFLX', 'SCHN', 'SNPS', 'SWKS', 'ZEUS']\n"
          ]
        }
      ]
    },
    {
      "cell_type": "code",
      "source": [
        "categories_shareholders_equity_high = clustering_dataset.loc[clustering_dataset['Categories equity'] == 'High', 'Ticker'].tolist()\n",
        "print(clustering_dataset.loc[clustering_dataset['Categories equity'] == 'High', 'Ticker'].tolist())"
      ],
      "metadata": {
        "colab": {
          "base_uri": "https://localhost:8080/"
        },
        "outputId": "90d1362c-4d67-471e-f851-bacb92c4c186",
        "id": "Dn5V6WDtAo8p"
      },
      "execution_count": null,
      "outputs": [
        {
          "output_type": "stream",
          "name": "stdout",
          "text": [
            "['AAPL', 'ADBE', 'ADSK', 'AMGN', 'BIIB', 'CDNS', 'EXPD', 'FTNT', 'INTC', 'INTU', 'LRCX', 'LULU', 'LXRX', 'MU', 'NVDA', 'REGN', 'STX', 'TXN', 'VRSK', 'WYNN']\n"
          ]
        }
      ]
    },
    {
      "cell_type": "code",
      "source": [
        "plt.title('Net income 2018 / Total shareholders\\' equity 2018 value distribution')\n",
        "plt.xlabel('Net income 2018 / Total shareholders\\' equity 2018')\n",
        "plt.ylabel('Amount of companies')\n",
        "clustering_dataset['Net income 2018 / Total shareholders\\' equity 2018'].hist(bins=70)"
      ],
      "metadata": {
        "colab": {
          "base_uri": "https://localhost:8080/"
        },
        "outputId": "67627896-48bd-4381-9f27-2948a73ad590",
        "id": "33UmdtQfAo8p"
      },
      "execution_count": null,
      "outputs": [
        {
          "output_type": "execute_result",
          "data": {
            "text/plain": [
              "<Axes: title={'center': \"Net income 2018 / Total shareholders' equity 2018 value distribution\"}, xlabel=\"Net income 2018 / Total shareholders' equity 2018\", ylabel='Amount of companies'>"
            ]
          },
          "metadata": {},
          "execution_count": 375
        },
        {
          "output_type": "display_data",
          "data": {
            "text/plain": [
              "<Figure size 640x480 with 1 Axes>"
            ],
            "image/png": "[encoded data removed]"
          },
          "metadata": {}
        }
      ]
    },
    {
      "cell_type": "markdown",
      "source": [
        "#### Operating income classification"
      ],
      "metadata": {
        "id": "suYjq6s8E5bn"
      }
    },
    {
      "cell_type": "code",
      "source": [
        "categories_operating_income = pd.qcut(clustering_dataset['Net income 2018 / Operating income 2018'], q=2, labels = ['Low', 'High'])"
      ],
      "metadata": {
        "id": "EDUnXP79Ao8q"
      },
      "execution_count": null,
      "outputs": []
    },
    {
      "cell_type": "code",
      "source": [
        "clustering_dataset['Categories operating income'] = categories_operating_income"
      ],
      "metadata": {
        "id": "W16k3QVvAo8q"
      },
      "execution_count": null,
      "outputs": []
    },
    {
      "cell_type": "code",
      "source": [
        "categories_operating_income_low = clustering_dataset.loc[clustering_dataset['Categories operating income'] == 'Low', 'Ticker'].tolist()\n",
        "print(clustering_dataset.loc[clustering_dataset['Categories operating income'] == 'Low', 'Ticker'].tolist())"
      ],
      "metadata": {
        "colab": {
          "base_uri": "https://localhost:8080/"
        },
        "outputId": "1d0a99ef-d209-42b5-e816-67524191b806",
        "id": "HEMzOcoLAo8q"
      },
      "execution_count": null,
      "outputs": [
        {
          "output_type": "stream",
          "name": "stdout",
          "text": [
            "['ADTN', 'AMGN', 'AMZN', 'BIIB', 'BSET', 'CONN', 'COST', 'CSCO', 'EXPD', 'EXPE', 'GILD', 'INTU', 'IRDM', 'JBHT', 'JBLU', 'LRCX', 'LULU', 'MSFT', 'NDAQ', 'NFLX', 'NTAP', 'SAVE', 'SSNC', 'STX', 'SWKS', 'TRIP', 'VIA', 'VRSK', 'WDC', 'WYNN', 'ZEUS']\n"
          ]
        }
      ]
    },
    {
      "cell_type": "code",
      "source": [
        "categories_operating_income_high = clustering_dataset.loc[clustering_dataset['Categories operating income'] == 'High', 'Ticker'].tolist()\n",
        "print(clustering_dataset.loc[clustering_dataset['Categories operating income'] == 'High', 'Ticker'].tolist())"
      ],
      "metadata": {
        "colab": {
          "base_uri": "https://localhost:8080/"
        },
        "outputId": "a3b9ae3e-a014-4515-997b-b4153b7d44f2",
        "id": "4r-RJ-wKAo8q"
      },
      "execution_count": null,
      "outputs": [
        {
          "output_type": "stream",
          "name": "stdout",
          "text": [
            "['AAPL', 'ADBE', 'ADSK', 'AKAM', 'ALNY', 'ANSS', 'ATVI', 'BJRI', 'CDNS', 'CHSCP', 'FTNT', 'GOOGL', 'GRMN', 'INTC', 'LXRX', 'MAT', 'MDLZ', 'MSTR', 'MTEX', 'MU', 'MYGN', 'NATI', 'NVDA', 'OLED', 'REGN', 'SCHN', 'SGEN', 'SNPS', 'SRCL', 'TXN']\n"
          ]
        }
      ]
    },
    {
      "cell_type": "code",
      "source": [
        "plt.title('Net income 2018 / Operating income 2018 value distribution')\n",
        "plt.xlabel('Net income 2018 / Operating income 2018')\n",
        "plt.ylabel('Amount of companies')\n",
        "clustering_dataset['Net income 2018 / Operating income 2018'].hist(bins=70)"
      ],
      "metadata": {
        "colab": {
          "base_uri": "https://localhost:8080/"
        },
        "outputId": "855b5205-f035-4478-f458-47bd04f975cf",
        "id": "dMgKHgBUAo8q"
      },
      "execution_count": null,
      "outputs": [
        {
          "output_type": "execute_result",
          "data": {
            "text/plain": [
              "<Axes: title={'center': 'Net income 2018 / Operating income 2018 value distribution'}, xlabel='Net income 2018 / Operating income 2018', ylabel='Amount of companies'>"
            ]
          },
          "metadata": {},
          "execution_count": 380
        },
        {
          "output_type": "display_data",
          "data": {
            "text/plain": [
              "<Figure size 640x480 with 1 Axes>"
            ],
            "image/png": "[encoded data removed]"
          },
          "metadata": {}
        }
      ]
    },
    {
      "cell_type": "markdown",
      "source": [
        "#### Final classification"
      ],
      "metadata": {
        "id": "gsuZB3xYFBg0"
      }
    },
    {
      "cell_type": "code",
      "source": [
        "strings = []\n",
        "for company in clustering_dataset['Ticker'].tolist():\n",
        "  string_company = \"\"\n",
        "  if company in categories_assets_low:\n",
        "    string_company += \"1\"\n",
        "  if company in categories_assets_middle:\n",
        "    string_company += \"2\"\n",
        "  if company in categories_assets_high:\n",
        "    string_company += \"3\"\n",
        "  if company in categories_shareholders_equity_low:\n",
        "    string_company += \"1\"\n",
        "  if company in categories_shareholders_equity_middle:\n",
        "    string_company += \"2\"\n",
        "  if company in categories_shareholders_equity_high:\n",
        "    string_company += \"3\"\n",
        "  if company in categories_operating_income_low:\n",
        "    string_company += \"1\"\n",
        "  if company in categories_operating_income_high:\n",
        "    string_company += \"2\"\n",
        "  strings.append(int(string_company))\n",
        "  if string_company in [\"111\", \"112\", \"121\", \"122\", \"211\", \"212\"]:\n",
        "    clusters.loc[clusters['Ticker'] == company, \"Cluster_2018\"] = 1\n",
        "  if string_company in [\"131\", \"132\", \"221\", \"222\", \"311\", \"312\"]:\n",
        "    clusters.loc[clusters['Ticker'] == company, \"Cluster_2018\"] = 2\n",
        "  if string_company in [\"332\", \"322\", \"232\", \"331\", \"321\", \"231\"]:\n",
        "    clusters.loc[clusters['Ticker'] == company, \"Cluster_2018\"] = 3\n",
        "  # if string_company in [\"11\", \"12\", \"21\"]:\n",
        "  #   clusters.loc[clusters['Ticker'] == company, \"Cluster_2018\"] = 1\n",
        "  # if string_company in [\"13\", \"22\", \"31\"]:\n",
        "  #   clusters.loc[clusters['Ticker'] == company, \"Cluster_2018\"] = 2\n",
        "  # if string_company in [\"23\", \"32\", \"33\"]:\n",
        "  #   clusters.loc[clusters['Ticker'] == company, \"Cluster_2018\"] = 3\n",
        "\n",
        "print(set(strings))\n"
      ],
      "metadata": {
        "colab": {
          "base_uri": "https://localhost:8080/"
        },
        "outputId": "ca07e3c4-8fb6-4edb-8051-aa74a982f87c",
        "id": "fgB2T2TwAo8q"
      },
      "execution_count": null,
      "outputs": [
        {
          "output_type": "stream",
          "name": "stdout",
          "text": [
            "{321, 322, 132, 231, 232, 331, 332, 111, 112, 211, 212, 121, 221, 222}\n"
          ]
        }
      ]
    },
    {
      "cell_type": "code",
      "source": [
        "print('Amount of companies in first cluster (worst financial condition) -', len(clusters.loc[clusters['Cluster_2018'] == 1, 'Ticker'].tolist()))"
      ],
      "metadata": {
        "colab": {
          "base_uri": "https://localhost:8080/"
        },
        "outputId": "789fd199-7e7f-4219-f407-3c47882d9e0e",
        "id": "9SzIJA2FAo8q"
      },
      "execution_count": null,
      "outputs": [
        {
          "output_type": "stream",
          "name": "stdout",
          "text": [
            "Amount of companies in first cluster (worst financial condition) - 22\n"
          ]
        }
      ]
    },
    {
      "cell_type": "code",
      "source": [
        "print('Amount of companies in second cluster (middle financial condition) -', len( clusters.loc[clusters['Cluster_2018'] == 2, 'Ticker'].tolist()))"
      ],
      "metadata": {
        "colab": {
          "base_uri": "https://localhost:8080/"
        },
        "outputId": "ccc86fd3-203c-4ec0-cd76-e78ee3d60d46",
        "id": "P4O9MV1VAo8q"
      },
      "execution_count": null,
      "outputs": [
        {
          "output_type": "stream",
          "name": "stdout",
          "text": [
            "Amount of companies in second cluster (middle financial condition) - 16\n"
          ]
        }
      ]
    },
    {
      "cell_type": "code",
      "source": [
        "print('Amount of companies in third cluster (best financial condition) -', len( clusters.loc[clusters['Cluster_2018'] == 3, 'Ticker'].tolist()))"
      ],
      "metadata": {
        "colab": {
          "base_uri": "https://localhost:8080/"
        },
        "outputId": "b0debf3b-17de-4c33-bc73-9a714a7ee579",
        "id": "CwJSmvc1Ao8r"
      },
      "execution_count": null,
      "outputs": [
        {
          "output_type": "stream",
          "name": "stdout",
          "text": [
            "Amount of companies in third cluster (best financial condition) - 23\n"
          ]
        }
      ]
    },
    {
      "cell_type": "markdown",
      "source": [
        "### 2017"
      ],
      "metadata": {
        "id": "89YIDP9zFHwn"
      }
    },
    {
      "cell_type": "code",
      "source": [
        "clustering_dataset['Net income 2017 / Total assets 2017'] = economic_reports_dataset['Net income 2017'] / economic_reports_dataset['Total assets 2017']\n",
        "clustering_dataset['Net income 2017 / Total shareholders\\' equity 2017'] = economic_reports_dataset['Net income 2017'] / economic_reports_dataset['Total shareholders\\' equity 2017']\n",
        "clustering_dataset['Net income 2017 / Operating income 2017'] = economic_reports_dataset['Net income 2017'] / economic_reports_dataset['Operating income 2017']"
      ],
      "metadata": {
        "id": "CgcZFDGxAo8r"
      },
      "execution_count": null,
      "outputs": []
    },
    {
      "cell_type": "markdown",
      "source": [
        "#### Assets classification"
      ],
      "metadata": {
        "id": "3dNWHtEWFN8T"
      }
    },
    {
      "cell_type": "code",
      "source": [
        "categories_assets = pd.qcut(clustering_dataset['Net income 2017 / Total assets 2017'], q=3, labels = ['Low', 'Middle', 'High'])"
      ],
      "metadata": {
        "id": "wSPoTvO6Ao8r"
      },
      "execution_count": null,
      "outputs": []
    },
    {
      "cell_type": "code",
      "source": [
        "clustering_dataset['Categories assets'] = categories_assets"
      ],
      "metadata": {
        "id": "BAFmmPyzAo8r"
      },
      "execution_count": null,
      "outputs": []
    },
    {
      "cell_type": "code",
      "source": [
        "categories_assets_low = clustering_dataset.loc[clustering_dataset['Categories assets'] == 'Low', 'Ticker'].tolist()\n",
        "print(clustering_dataset.loc[clustering_dataset['Categories assets'] == 'Low', 'Ticker'].tolist())"
      ],
      "metadata": {
        "colab": {
          "base_uri": "https://localhost:8080/"
        },
        "outputId": "95dfc7f4-34f6-4d40-a3e5-69945c59bf72",
        "id": "GMa-rWvRAo8r"
      },
      "execution_count": null,
      "outputs": [
        {
          "output_type": "stream",
          "name": "stdout",
          "text": [
            "['ADSK', 'ALNY', 'AMGN', 'AMZN', 'ATVI', 'CHSCP', 'CONN', 'EXPE', 'FTNT', 'LXRX', 'MAT', 'MSTR', 'MTEX', 'MYGN', 'NFLX', 'SGEN', 'SNPS', 'SRCL', 'TRIP', 'WDC', 'ZEUS']\n"
          ]
        }
      ]
    },
    {
      "cell_type": "code",
      "source": [
        "categories_assets_middle = clustering_dataset.loc[clustering_dataset['Categories assets'] == 'Middle', 'Ticker'].tolist()\n",
        "print(clustering_dataset.loc[clustering_dataset['Categories assets'] == 'Middle', 'Ticker'].tolist())"
      ],
      "metadata": {
        "colab": {
          "base_uri": "https://localhost:8080/"
        },
        "outputId": "7bb4a9d8-a9cb-479e-aac1-3d9ae1f5c6c2",
        "id": "-29z5eg5Ao8r"
      },
      "execution_count": null,
      "outputs": [
        {
          "output_type": "stream",
          "name": "stdout",
          "text": [
            "['ADTN', 'AKAM', 'BJRI', 'BSET', 'CDNS', 'COST', 'CSCO', 'GILD', 'GOOGL', 'INTC', 'IRDM', 'MDLZ', 'NATI', 'NDAQ', 'NTAP', 'SCHN', 'SSNC', 'STX', 'VIA', 'WYNN']\n"
          ]
        }
      ]
    },
    {
      "cell_type": "code",
      "source": [
        "categories_assets_high = clustering_dataset.loc[clustering_dataset['Categories assets'] == 'High', 'Ticker'].tolist()\n",
        "print(clustering_dataset.loc[clustering_dataset['Categories assets'] == 'High', 'Ticker'].tolist())"
      ],
      "metadata": {
        "colab": {
          "base_uri": "https://localhost:8080/"
        },
        "outputId": "b7be8f6d-930e-482d-d041-4ec43bb97a75",
        "id": "kyYDbajaAo8s"
      },
      "execution_count": null,
      "outputs": [
        {
          "output_type": "stream",
          "name": "stdout",
          "text": [
            "['AAPL', 'ADBE', 'ANSS', 'BIIB', 'EXPD', 'GRMN', 'INTU', 'JBHT', 'JBLU', 'LRCX', 'LULU', 'MSFT', 'MU', 'NVDA', 'OLED', 'REGN', 'SAVE', 'SWKS', 'TXN', 'VRSK']\n"
          ]
        }
      ]
    },
    {
      "cell_type": "code",
      "source": [
        "plt.title('Net income 2017 / Total assets 2017 value distribution')\n",
        "plt.xlabel('Net income 2017 / Total assets 2017')\n",
        "plt.ylabel('Amount of companies')\n",
        "clustering_dataset['Net income 2017 / Total assets 2017'].hist(bins=70)"
      ],
      "metadata": {
        "colab": {
          "base_uri": "https://localhost:8080/"
        },
        "outputId": "b8495103-90b6-4dab-a5c1-bdea7a4461a1",
        "id": "aZm_zEROAo8r"
      },
      "execution_count": null,
      "outputs": [
        {
          "output_type": "execute_result",
          "data": {
            "text/plain": [
              "<Axes: title={'center': 'Net income 2017 / Total assets 2017 value distribution'}, xlabel='Net income 2017 / Total assets 2017', ylabel='Amount of companies'>"
            ]
          },
          "metadata": {},
          "execution_count": 391
        },
        {
          "output_type": "display_data",
          "data": {
            "text/plain": [
              "<Figure size 640x480 with 1 Axes>"
            ],
            "image/png": "[encoded data removed]"
          },
          "metadata": {}
        }
      ]
    },
    {
      "cell_type": "markdown",
      "source": [
        "#### Shareholders\\' equity classification"
      ],
      "metadata": {
        "id": "FJ5xDFAnFWS8"
      }
    },
    {
      "cell_type": "code",
      "source": [
        "categories_shareholders_equity = pd.qcut(clustering_dataset['Net income 2017 / Total shareholders\\' equity 2017'], q=3, labels = ['Low', 'Middle', 'High'])"
      ],
      "metadata": {
        "id": "564go4PbAo8s"
      },
      "execution_count": null,
      "outputs": []
    },
    {
      "cell_type": "code",
      "source": [
        "clustering_dataset['Categories equity'] = categories_shareholders_equity"
      ],
      "metadata": {
        "id": "7eXRC3zaAo8s"
      },
      "execution_count": null,
      "outputs": []
    },
    {
      "cell_type": "code",
      "source": [
        "categories_shareholders_equity_low = clustering_dataset.loc[clustering_dataset['Categories equity'] == 'Low', 'Ticker'].tolist()\n",
        "print(clustering_dataset.loc[clustering_dataset['Categories equity'] == 'Low', 'Ticker'].tolist())"
      ],
      "metadata": {
        "colab": {
          "base_uri": "https://localhost:8080/"
        },
        "outputId": "c862e8df-51f3-467b-ed77-3bf5f5f9ee4d",
        "id": "rwnNyyrnAo8s"
      },
      "execution_count": null,
      "outputs": [
        {
          "output_type": "stream",
          "name": "stdout",
          "text": [
            "['ADSK', 'ADTN', 'AKAM', 'ALNY', 'AMGN', 'ATVI', 'CHSCP', 'CONN', 'FTNT', 'LXRX', 'MAT', 'MSTR', 'MTEX', 'MYGN', 'NATI', 'SGEN', 'SNPS', 'SRCL', 'TRIP', 'WDC', 'ZEUS']\n"
          ]
        }
      ]
    },
    {
      "cell_type": "code",
      "source": [
        "categories_shareholders_equity_middle = clustering_dataset.loc[clustering_dataset['Categories equity'] == 'Middle', 'Ticker'].tolist()\n",
        "print(clustering_dataset.loc[clustering_dataset['Categories equity'] == 'Middle', 'Ticker'].tolist())"
      ],
      "metadata": {
        "colab": {
          "base_uri": "https://localhost:8080/"
        },
        "outputId": "973bf4c5-5a7d-4603-ab72-c56d98870820",
        "id": "uDvQfjP_Ao8s"
      },
      "execution_count": null,
      "outputs": [
        {
          "output_type": "stream",
          "name": "stdout",
          "text": [
            "['ADBE', 'AMZN', 'ANSS', 'BJRI', 'BSET', 'CSCO', 'EXPE', 'GOOGL', 'GRMN', 'INTC', 'IRDM', 'LULU', 'MDLZ', 'NDAQ', 'NFLX', 'NTAP', 'OLED', 'REGN', 'SCHN', 'SSNC']\n"
          ]
        }
      ]
    },
    {
      "cell_type": "code",
      "source": [
        "categories_shareholders_equity_high = clustering_dataset.loc[clustering_dataset['Categories equity'] == 'High', 'Ticker'].tolist()\n",
        "print(clustering_dataset.loc[clustering_dataset['Categories equity'] == 'High', 'Ticker'].tolist())"
      ],
      "metadata": {
        "colab": {
          "base_uri": "https://localhost:8080/"
        },
        "outputId": "568c7e54-c070-4777-c371-5d80737938f7",
        "id": "n8P4uKAVAo8s"
      },
      "execution_count": null,
      "outputs": [
        {
          "output_type": "stream",
          "name": "stdout",
          "text": [
            "['AAPL', 'BIIB', 'CDNS', 'COST', 'EXPD', 'GILD', 'INTU', 'JBHT', 'JBLU', 'LRCX', 'MSFT', 'MU', 'NVDA', 'SAVE', 'STX', 'SWKS', 'TXN', 'VIA', 'VRSK', 'WYNN']\n"
          ]
        }
      ]
    },
    {
      "cell_type": "code",
      "source": [
        "plt.title('Net income 2017 / Total shareholders\\' equity 2017 value distribution')\n",
        "plt.xlabel('Net income 2017 / Total shareholders\\' equity 2017')\n",
        "plt.ylabel('Amount of companies')\n",
        "clustering_dataset['Net income 2017 / Total shareholders\\' equity 2017'].hist(bins=70)"
      ],
      "metadata": {
        "colab": {
          "base_uri": "https://localhost:8080/"
        },
        "outputId": "751a7f18-fbe0-47e6-8763-39ecc3c8b360",
        "id": "IFRQV09IAo8s"
      },
      "execution_count": null,
      "outputs": [
        {
          "output_type": "execute_result",
          "data": {
            "text/plain": [
              "<Axes: title={'center': \"Net income 2017 / Total shareholders' equity 2017 value distribution\"}, xlabel=\"Net income 2017 / Total shareholders' equity 2017\", ylabel='Amount of companies'>"
            ]
          },
          "metadata": {},
          "execution_count": 397
        },
        {
          "output_type": "display_data",
          "data": {
            "text/plain": [
              "<Figure size 640x480 with 1 Axes>"
            ],
            "image/png": "[encoded data removed]"
          },
          "metadata": {}
        }
      ]
    },
    {
      "cell_type": "markdown",
      "source": [
        "#### Operating income classification"
      ],
      "metadata": {
        "id": "dlih-uoLFh6L"
      }
    },
    {
      "cell_type": "code",
      "source": [
        "categories_operating_income = pd.qcut(clustering_dataset['Net income 2017 / Operating income 2017'], q=2, labels = ['Low', 'High'])"
      ],
      "metadata": {
        "id": "hb2vvANfAo8t"
      },
      "execution_count": null,
      "outputs": []
    },
    {
      "cell_type": "code",
      "source": [
        "clustering_dataset['Categories operating income'] = categories_operating_income"
      ],
      "metadata": {
        "id": "D4EFHqdQAo8t"
      },
      "execution_count": null,
      "outputs": []
    },
    {
      "cell_type": "code",
      "source": [
        "categories_operating_income_low = clustering_dataset.loc[clustering_dataset['Categories operating income'] == 'Low', 'Ticker'].tolist()\n",
        "print(clustering_dataset.loc[clustering_dataset['Categories operating income'] == 'Low', 'Ticker'].tolist())"
      ],
      "metadata": {
        "colab": {
          "base_uri": "https://localhost:8080/"
        },
        "outputId": "5e027461-50f9-41c0-9e06-cb12751d7f9a",
        "id": "sB4NrBGKAo8t"
      },
      "execution_count": null,
      "outputs": [
        {
          "output_type": "stream",
          "name": "stdout",
          "text": [
            "['ADTN', 'AKAM', 'AMGN', 'ANSS', 'ATVI', 'BIIB', 'BSET', 'CDNS', 'CHSCP', 'CONN', 'COST', 'EXPE', 'FTNT', 'GILD', 'GOOGL', 'INTC', 'LULU', 'MSTR', 'MTEX', 'MYGN', 'NATI', 'NFLX', 'REGN', 'SGEN', 'SNPS', 'SRCL', 'TRIP', 'TXN', 'VIA', 'VRSK', 'WDC']\n"
          ]
        }
      ]
    },
    {
      "cell_type": "code",
      "source": [
        "categories_operating_income_high = clustering_dataset.loc[clustering_dataset['Categories operating income'] == 'High', 'Ticker'].tolist()\n",
        "print(clustering_dataset.loc[clustering_dataset['Categories operating income'] == 'High', 'Ticker'].tolist())"
      ],
      "metadata": {
        "colab": {
          "base_uri": "https://localhost:8080/"
        },
        "outputId": "9bff7fb6-6fad-4cd5-e5cc-c66fffc1ab39",
        "id": "wWebhhABAo8t"
      },
      "execution_count": null,
      "outputs": [
        {
          "output_type": "stream",
          "name": "stdout",
          "text": [
            "['AAPL', 'ADBE', 'ADSK', 'ALNY', 'AMZN', 'BJRI', 'CSCO', 'EXPD', 'GRMN', 'INTU', 'IRDM', 'JBHT', 'JBLU', 'LRCX', 'LXRX', 'MAT', 'MDLZ', 'MSFT', 'MU', 'NDAQ', 'NTAP', 'NVDA', 'OLED', 'SAVE', 'SCHN', 'SSNC', 'STX', 'SWKS', 'WYNN', 'ZEUS']\n"
          ]
        }
      ]
    },
    {
      "cell_type": "code",
      "source": [
        "plt.title('Net income 2017 / Operating income 2017 value distribution')\n",
        "plt.xlabel('Net income 2017 / Operating income 2017')\n",
        "plt.ylabel('Amount of companies')\n",
        "clustering_dataset['Net income 2017 / Operating income 2017'].hist(bins=70)"
      ],
      "metadata": {
        "colab": {
          "base_uri": "https://localhost:8080/"
        },
        "outputId": "571f7ca9-63ec-48c3-a092-c30230bd4c54",
        "id": "H4jS-nrMAo8t"
      },
      "execution_count": null,
      "outputs": [
        {
          "output_type": "execute_result",
          "data": {
            "text/plain": [
              "<Axes: title={'center': 'Net income 2017 / Operating income 2017 value distribution'}, xlabel='Net income 2017 / Operating income 2017', ylabel='Amount of companies'>"
            ]
          },
          "metadata": {},
          "execution_count": 402
        },
        {
          "output_type": "display_data",
          "data": {
            "text/plain": [
              "<Figure size 640x480 with 1 Axes>"
            ],
            "image/png": "[encoded data removed]"
          },
          "metadata": {}
        }
      ]
    },
    {
      "cell_type": "markdown",
      "source": [
        "#### Final classification"
      ],
      "metadata": {
        "id": "3mhzoChMFnp7"
      }
    },
    {
      "cell_type": "code",
      "source": [
        "strings = []\n",
        "for company in clustering_dataset['Ticker'].tolist():\n",
        "  string_company = \"\"\n",
        "  if company in categories_assets_low:\n",
        "    string_company += \"1\"\n",
        "  if company in categories_assets_middle:\n",
        "    string_company += \"2\"\n",
        "  if company in categories_assets_high:\n",
        "    string_company += \"3\"\n",
        "  if company in categories_shareholders_equity_low:\n",
        "    string_company += \"1\"\n",
        "  if company in categories_shareholders_equity_middle:\n",
        "    string_company += \"2\"\n",
        "  if company in categories_shareholders_equity_high:\n",
        "    string_company += \"3\"\n",
        "  if company in categories_operating_income_low:\n",
        "    string_company += \"1\"\n",
        "  if company in categories_operating_income_high:\n",
        "    string_company += \"2\"\n",
        "  strings.append(int(string_company))\n",
        "  if string_company in [\"111\", \"112\", \"121\", \"122\", \"211\", \"212\"]:\n",
        "    clusters.loc[clusters['Ticker'] == company, \"Cluster_2017\"] = 1\n",
        "  if string_company in [\"131\", \"132\", \"221\", \"222\", \"311\", \"312\"]:\n",
        "    clusters.loc[clusters['Ticker'] == company, \"Cluster_2017\"] = 2\n",
        "  if string_company in [\"332\", \"322\", \"232\", \"331\", \"321\", \"231\"]:\n",
        "    clusters.loc[clusters['Ticker'] == company, \"Cluster_2017\"] = 3\n",
        "  # if string_company in [\"11\", \"12\", \"21\"]:\n",
        "  #   clusters.loc[clusters['Ticker'] == company, \"Cluster_2017\"] = 1\n",
        "  # if string_company in [\"13\", \"22\", \"31\"]:\n",
        "  #   clusters.loc[clusters['Ticker'] == company, \"Cluster_2017\"] = 2\n",
        "  # if string_company in [\"23\", \"32\", \"33\"]:\n",
        "  #   clusters.loc[clusters['Ticker'] == company, \"Cluster_2017\"] = 3\n",
        "print(set(strings))\n"
      ],
      "metadata": {
        "colab": {
          "base_uri": "https://localhost:8080/"
        },
        "outputId": "46073ef1-bfd7-442a-9ba9-911e5bdb35bb",
        "id": "7y0AnbCPAo8t"
      },
      "execution_count": null,
      "outputs": [
        {
          "output_type": "stream",
          "name": "stdout",
          "text": [
            "{321, 322, 231, 232, 331, 332, 111, 112, 211, 121, 122, 221, 222}\n"
          ]
        }
      ]
    },
    {
      "cell_type": "code",
      "source": [
        "print('Amount of companies in first cluster (worst financial condition) -', len(clusters.loc[clusters['Cluster_2017'] == 1, 'Ticker'].tolist()))"
      ],
      "metadata": {
        "colab": {
          "base_uri": "https://localhost:8080/"
        },
        "outputId": "36f12ed1-8fae-41a8-8190-016bfd7e4c31",
        "id": "zXmN8VA1Ao8t"
      },
      "execution_count": null,
      "outputs": [
        {
          "output_type": "stream",
          "name": "stdout",
          "text": [
            "Amount of companies in first cluster (worst financial condition) - 24\n"
          ]
        }
      ]
    },
    {
      "cell_type": "code",
      "source": [
        "print('Amount of companies in second cluster (middle financial condition) -', len(clusters.loc[clusters['Cluster_2017'] == 2, 'Ticker'].tolist()))"
      ],
      "metadata": {
        "colab": {
          "base_uri": "https://localhost:8080/"
        },
        "outputId": "488234fd-fce3-4d42-b74d-a73ea7e1f987",
        "id": "7hA-O5FdAo8t"
      },
      "execution_count": null,
      "outputs": [
        {
          "output_type": "stream",
          "name": "stdout",
          "text": [
            "Amount of companies in second cluster (middle financial condition) - 11\n"
          ]
        }
      ]
    },
    {
      "cell_type": "code",
      "source": [
        "print('Amount of companies in third cluster (best financial condition) -', len(clusters.loc[clusters['Cluster_2017'] == 3, 'Ticker'].tolist()))"
      ],
      "metadata": {
        "colab": {
          "base_uri": "https://localhost:8080/"
        },
        "outputId": "b30f20a9-537b-464e-d624-5fb9feeb354b",
        "id": "esCUmclxAo8t"
      },
      "execution_count": null,
      "outputs": [
        {
          "output_type": "stream",
          "name": "stdout",
          "text": [
            "Amount of companies in third cluster (best financial condition) - 26\n"
          ]
        }
      ]
    },
    {
      "cell_type": "code",
      "source": [
        "clusters = clusters.reset_index()"
      ],
      "metadata": {
        "id": "VT6nO3dCAo8u"
      },
      "execution_count": null,
      "outputs": []
    },
    {
      "cell_type": "code",
      "source": [
        "print('Amount of companies, which have been at the same cluster for all 3 years', len(clusters.loc[clusters.iloc[:, 2:5].nunique(1).eq(1)]))"
      ],
      "metadata": {
        "colab": {
          "base_uri": "https://localhost:8080/"
        },
        "outputId": "9e48c893-1d67-4b95-9cbf-d2a71eae9fac",
        "id": "CzZJ8cP4Ao8u"
      },
      "execution_count": null,
      "outputs": [
        {
          "output_type": "stream",
          "name": "stdout",
          "text": [
            "Amount of companies, which have been at the same cluster for all 3 years 27\n"
          ]
        }
      ]
    },
    {
      "cell_type": "code",
      "source": [
        "len(clusters)"
      ],
      "metadata": {
        "colab": {
          "base_uri": "https://localhost:8080/"
        },
        "outputId": "83a79646-8e3b-4352-fbdc-8b3f66824270",
        "id": "z8nrHXdoAo8u"
      },
      "execution_count": null,
      "outputs": [
        {
          "output_type": "execute_result",
          "data": {
            "text/plain": [
              "61"
            ]
          },
          "metadata": {},
          "execution_count": 409
        }
      ]
    },
    {
      "cell_type": "code",
      "source": [
        "clusters"
      ],
      "metadata": {
        "colab": {
          "base_uri": "https://localhost:8080/",
          "height": 1000
        },
        "outputId": "4f4eb105-1798-476a-e5a7-9dea8219e8b1",
        "id": "tjcp3QpnAo8u"
      },
      "execution_count": null,
      "outputs": [
        {
          "output_type": "execute_result",
          "data": {
            "text/plain": [
              "    index Ticker  Cluster_2019  Cluster_2018  Cluster_2017\n",
              "0       0   AAPL           3.0           3.0           3.0\n",
              "1       2   ADBE           3.0           3.0           3.0\n",
              "2       4   ADSK           2.0           2.0           1.0\n",
              "3       5   ADTN           1.0           1.0           1.0\n",
              "4       7   AKAM           2.0           1.0           1.0\n",
              "5       8   ALNY           1.0           1.0           1.0\n",
              "6      13   AMGN           3.0           3.0           1.0\n",
              "7      14   AMZN           2.0           2.0           1.0\n",
              "8      15   ANSS           2.0           3.0           3.0\n",
              "9      17   ATVI           1.0           2.0           1.0\n",
              "10     19   BIIB           3.0           3.0           3.0\n",
              "11     20   BJRI           1.0           2.0           2.0\n",
              "12     25   BSET           1.0           1.0           2.0\n",
              "13     29   CDNS           3.0           3.0           3.0\n",
              "14     33  CHSCP           1.0           2.0           1.0\n",
              "15     36   CONN           1.0           1.0           1.0\n",
              "16     37   COST           2.0           2.0           3.0\n",
              "17     39   CSCO           3.0           1.0           2.0\n",
              "18     50   EXPD           3.0           3.0           3.0\n",
              "19     51   EXPE           1.0           1.0           1.0\n",
              "20     59   FTNT           3.0           3.0           1.0\n",
              "21     61   GILD           2.0           2.0           3.0\n",
              "22     62  GOOGL           2.0           3.0           2.0\n",
              "23     63   GRMN           3.0           3.0           3.0\n",
              "24     78   INTC           3.0           3.0           2.0\n",
              "25     79   INTU           3.0           3.0           3.0\n",
              "26     82   IRDM           1.0           1.0           2.0\n",
              "27     87   JBHT           2.0           2.0           3.0\n",
              "28     88   JBLU           1.0           1.0           3.0\n",
              "29    101   LRCX           3.0           3.0           3.0\n",
              "30    103   LULU           3.0           3.0           3.0\n",
              "31    104   LXRX           3.0           2.0           1.0\n",
              "32    106    MAT           1.0           1.0           1.0\n",
              "33    107   MDLZ           2.0           2.0           2.0\n",
              "34    110   MSFT           3.0           2.0           3.0\n",
              "35    111   MSTR           1.0           1.0           1.0\n",
              "36    112   MTEX           1.0           1.0           1.0\n",
              "37    113     MU           3.0           3.0           3.0\n",
              "38    114   MYGN           1.0           2.0           1.0\n",
              "39    115   NATI           2.0           2.0           1.0\n",
              "40    118   NDAQ           2.0           1.0           2.0\n",
              "41    121   NFLX           3.0           2.0           1.0\n",
              "42    124   NTAP           3.0           1.0           2.0\n",
              "43    126   NVDA           3.0           3.0           3.0\n",
              "44    128   OLED           2.0           1.0           3.0\n",
              "45    151   REGN           3.0           3.0           3.0\n",
              "46    158   SAVE           1.0           1.0           3.0\n",
              "47    161   SCHN           1.0           3.0           2.0\n",
              "48    162   SGEN           1.0           1.0           1.0\n",
              "49    163   SNPS           1.0           2.0           1.0\n",
              "50    166   SRCL           1.0           1.0           1.0\n",
              "51    167   SSNC           1.0           1.0           2.0\n",
              "52    168    STX           3.0           3.0           3.0\n",
              "53    169   SWKS           3.0           3.0           3.0\n",
              "54    173   TRIP           1.0           1.0           1.0\n",
              "55    178    TXN           3.0           3.0           3.0\n",
              "56    181    VIA           1.0           1.0           3.0\n",
              "57    185   VRSK           2.0           3.0           3.0\n",
              "58    188    WDC           1.0           1.0           1.0\n",
              "59    191   WYNN           1.0           3.0           3.0\n",
              "60    194   ZEUS           1.0           2.0           1.0"
            ],
            "text/html": [
              "\n",
              "  <div id=\"df-ed3963ab-6588-4a6c-a81d-70e74d4a34e5\" class=\"colab-df-container\">\n",
              "    <div>\n",
              "<style scoped>\n",
              "    .dataframe tbody tr th:only-of-type {\n",
              "        vertical-align: middle;\n",
              "    }\n",
              "\n",
              "    .dataframe tbody tr th {\n",
              "        vertical-align: top;\n",
              "    }\n",
              "\n",
              "    .dataframe thead th {\n",
              "        text-align: right;\n",
              "    }\n",
              "</style>\n",
              "<table border=\"1\" class=\"dataframe\">\n",
              "  <thead>\n",
              "    <tr style=\"text-align: right;\">\n",
              "      <th></th>\n",
              "      <th>index</th>\n",
              "      <th>Ticker</th>\n",
              "      <th>Cluster_2019</th>\n",
              "      <th>Cluster_2018</th>\n",
              "      <th>Cluster_2017</th>\n",
              "    </tr>\n",
              "  </thead>\n",
              "  <tbody>\n",
              "    <tr>\n",
              "      <th>0</th>\n",
              "      <td>0</td>\n",
              "      <td>AAPL</td>\n",
              "      <td>3.0</td>\n",
              "      <td>3.0</td>\n",
              "      <td>3.0</td>\n",
              "    </tr>\n",
              "    <tr>\n",
              "      <th>1</th>\n",
              "      <td>2</td>\n",
              "      <td>ADBE</td>\n",
              "      <td>3.0</td>\n",
              "      <td>3.0</td>\n",
              "      <td>3.0</td>\n",
              "    </tr>\n",
              "    <tr>\n",
              "      <th>2</th>\n",
              "      <td>4</td>\n",
              "      <td>ADSK</td>\n",
              "      <td>2.0</td>\n",
              "      <td>2.0</td>\n",
              "      <td>1.0</td>\n",
              "    </tr>\n",
              "    <tr>\n",
              "      <th>3</th>\n",
              "      <td>5</td>\n",
              "      <td>ADTN</td>\n",
              "      <td>1.0</td>\n",
              "      <td>1.0</td>\n",
              "      <td>1.0</td>\n",
              "    </tr>\n",
              "    <tr>\n",
              "      <th>4</th>\n",
              "      <td>7</td>\n",
              "      <td>AKAM</td>\n",
              "      <td>2.0</td>\n",
              "      <td>1.0</td>\n",
              "      <td>1.0</td>\n",
              "    </tr>\n",
              "    <tr>\n",
              "      <th>5</th>\n",
              "      <td>8</td>\n",
              "      <td>ALNY</td>\n",
              "      <td>1.0</td>\n",
              "      <td>1.0</td>\n",
              "      <td>1.0</td>\n",
              "    </tr>\n",
              "    <tr>\n",
              "      <th>6</th>\n",
              "      <td>13</td>\n",
              "      <td>AMGN</td>\n",
              "      <td>3.0</td>\n",
              "      <td>3.0</td>\n",
              "      <td>1.0</td>\n",
              "    </tr>\n",
              "    <tr>\n",
              "      <th>7</th>\n",
              "      <td>14</td>\n",
              "      <td>AMZN</td>\n",
              "      <td>2.0</td>\n",
              "      <td>2.0</td>\n",
              "      <td>1.0</td>\n",
              "    </tr>\n",
              "    <tr>\n",
              "      <th>8</th>\n",
              "      <td>15</td>\n",
              "      <td>ANSS</td>\n",
              "      <td>2.0</td>\n",
              "      <td>3.0</td>\n",
              "      <td>3.0</td>\n",
              "    </tr>\n",
              "    <tr>\n",
              "      <th>9</th>\n",
              "      <td>17</td>\n",
              "      <td>ATVI</td>\n",
              "      <td>1.0</td>\n",
              "      <td>2.0</td>\n",
              "      <td>1.0</td>\n",
              "    </tr>\n",
              "    <tr>\n",
              "      <th>10</th>\n",
              "      <td>19</td>\n",
              "      <td>BIIB</td>\n",
              "      <td>3.0</td>\n",
              "      <td>3.0</td>\n",
              "      <td>3.0</td>\n",
              "    </tr>\n",
              "    <tr>\n",
              "      <th>11</th>\n",
              "      <td>20</td>\n",
              "      <td>BJRI</td>\n",
              "      <td>1.0</td>\n",
              "      <td>2.0</td>\n",
              "      <td>2.0</td>\n",
              "    </tr>\n",
              "    <tr>\n",
              "      <th>12</th>\n",
              "      <td>25</td>\n",
              "      <td>BSET</td>\n",
              "      <td>1.0</td>\n",
              "      <td>1.0</td>\n",
              "      <td>2.0</td>\n",
              "    </tr>\n",
              "    <tr>\n",
              "      <th>13</th>\n",
              "      <td>29</td>\n",
              "      <td>CDNS</td>\n",
              "      <td>3.0</td>\n",
              "      <td>3.0</td>\n",
              "      <td>3.0</td>\n",
              "    </tr>\n",
              "    <tr>\n",
              "      <th>14</th>\n",
              "      <td>33</td>\n",
              "      <td>CHSCP</td>\n",
              "      <td>1.0</td>\n",
              "      <td>2.0</td>\n",
              "      <td>1.0</td>\n",
              "    </tr>\n",
              "    <tr>\n",
              "      <th>15</th>\n",
              "      <td>36</td>\n",
              "      <td>CONN</td>\n",
              "      <td>1.0</td>\n",
              "      <td>1.0</td>\n",
              "      <td>1.0</td>\n",
              "    </tr>\n",
              "    <tr>\n",
              "      <th>16</th>\n",
              "      <td>37</td>\n",
              "      <td>COST</td>\n",
              "      <td>2.0</td>\n",
              "      <td>2.0</td>\n",
              "      <td>3.0</td>\n",
              "    </tr>\n",
              "    <tr>\n",
              "      <th>17</th>\n",
              "      <td>39</td>\n",
              "      <td>CSCO</td>\n",
              "      <td>3.0</td>\n",
              "      <td>1.0</td>\n",
              "      <td>2.0</td>\n",
              "    </tr>\n",
              "    <tr>\n",
              "      <th>18</th>\n",
              "      <td>50</td>\n",
              "      <td>EXPD</td>\n",
              "      <td>3.0</td>\n",
              "      <td>3.0</td>\n",
              "      <td>3.0</td>\n",
              "    </tr>\n",
              "    <tr>\n",
              "      <th>19</th>\n",
              "      <td>51</td>\n",
              "      <td>EXPE</td>\n",
              "      <td>1.0</td>\n",
              "      <td>1.0</td>\n",
              "      <td>1.0</td>\n",
              "    </tr>\n",
              "    <tr>\n",
              "      <th>20</th>\n",
              "      <td>59</td>\n",
              "      <td>FTNT</td>\n",
              "      <td>3.0</td>\n",
              "      <td>3.0</td>\n",
              "      <td>1.0</td>\n",
              "    </tr>\n",
              "    <tr>\n",
              "      <th>21</th>\n",
              "      <td>61</td>\n",
              "      <td>GILD</td>\n",
              "      <td>2.0</td>\n",
              "      <td>2.0</td>\n",
              "      <td>3.0</td>\n",
              "    </tr>\n",
              "    <tr>\n",
              "      <th>22</th>\n",
              "      <td>62</td>\n",
              "      <td>GOOGL</td>\n",
              "      <td>2.0</td>\n",
              "      <td>3.0</td>\n",
              "      <td>2.0</td>\n",
              "    </tr>\n",
              "    <tr>\n",
              "      <th>23</th>\n",
              "      <td>63</td>\n",
              "      <td>GRMN</td>\n",
              "      <td>3.0</td>\n",
              "      <td>3.0</td>\n",
              "      <td>3.0</td>\n",
              "    </tr>\n",
              "    <tr>\n",
              "      <th>24</th>\n",
              "      <td>78</td>\n",
              "      <td>INTC</td>\n",
              "      <td>3.0</td>\n",
              "      <td>3.0</td>\n",
              "      <td>2.0</td>\n",
              "    </tr>\n",
              "    <tr>\n",
              "      <th>25</th>\n",
              "      <td>79</td>\n",
              "      <td>INTU</td>\n",
              "      <td>3.0</td>\n",
              "      <td>3.0</td>\n",
              "      <td>3.0</td>\n",
              "    </tr>\n",
              "    <tr>\n",
              "      <th>26</th>\n",
              "      <td>82</td>\n",
              "      <td>IRDM</td>\n",
              "      <td>1.0</td>\n",
              "      <td>1.0</td>\n",
              "      <td>2.0</td>\n",
              "    </tr>\n",
              "    <tr>\n",
              "      <th>27</th>\n",
              "      <td>87</td>\n",
              "      <td>JBHT</td>\n",
              "      <td>2.0</td>\n",
              "      <td>2.0</td>\n",
              "      <td>3.0</td>\n",
              "    </tr>\n",
              "    <tr>\n",
              "      <th>28</th>\n",
              "      <td>88</td>\n",
              "      <td>JBLU</td>\n",
              "      <td>1.0</td>\n",
              "      <td>1.0</td>\n",
              "      <td>3.0</td>\n",
              "    </tr>\n",
              "    <tr>\n",
              "      <th>29</th>\n",
              "      <td>101</td>\n",
              "      <td>LRCX</td>\n",
              "      <td>3.0</td>\n",
              "      <td>3.0</td>\n",
              "      <td>3.0</td>\n",
              "    </tr>\n",
              "    <tr>\n",
              "      <th>30</th>\n",
              "      <td>103</td>\n",
              "      <td>LULU</td>\n",
              "      <td>3.0</td>\n",
              "      <td>3.0</td>\n",
              "      <td>3.0</td>\n",
              "    </tr>\n",
              "    <tr>\n",
              "      <th>31</th>\n",
              "      <td>104</td>\n",
              "      <td>LXRX</td>\n",
              "      <td>3.0</td>\n",
              "      <td>2.0</td>\n",
              "      <td>1.0</td>\n",
              "    </tr>\n",
              "    <tr>\n",
              "      <th>32</th>\n",
              "      <td>106</td>\n",
              "      <td>MAT</td>\n",
              "      <td>1.0</td>\n",
              "      <td>1.0</td>\n",
              "      <td>1.0</td>\n",
              "    </tr>\n",
              "    <tr>\n",
              "      <th>33</th>\n",
              "      <td>107</td>\n",
              "      <td>MDLZ</td>\n",
              "      <td>2.0</td>\n",
              "      <td>2.0</td>\n",
              "      <td>2.0</td>\n",
              "    </tr>\n",
              "    <tr>\n",
              "      <th>34</th>\n",
              "      <td>110</td>\n",
              "      <td>MSFT</td>\n",
              "      <td>3.0</td>\n",
              "      <td>2.0</td>\n",
              "      <td>3.0</td>\n",
              "    </tr>\n",
              "    <tr>\n",
              "      <th>35</th>\n",
              "      <td>111</td>\n",
              "      <td>MSTR</td>\n",
              "      <td>1.0</td>\n",
              "      <td>1.0</td>\n",
              "      <td>1.0</td>\n",
              "    </tr>\n",
              "    <tr>\n",
              "      <th>36</th>\n",
              "      <td>112</td>\n",
              "      <td>MTEX</td>\n",
              "      <td>1.0</td>\n",
              "      <td>1.0</td>\n",
              "      <td>1.0</td>\n",
              "    </tr>\n",
              "    <tr>\n",
              "      <th>37</th>\n",
              "      <td>113</td>\n",
              "      <td>MU</td>\n",
              "      <td>3.0</td>\n",
              "      <td>3.0</td>\n",
              "      <td>3.0</td>\n",
              "    </tr>\n",
              "    <tr>\n",
              "      <th>38</th>\n",
              "      <td>114</td>\n",
              "      <td>MYGN</td>\n",
              "      <td>1.0</td>\n",
              "      <td>2.0</td>\n",
              "      <td>1.0</td>\n",
              "    </tr>\n",
              "    <tr>\n",
              "      <th>39</th>\n",
              "      <td>115</td>\n",
              "      <td>NATI</td>\n",
              "      <td>2.0</td>\n",
              "      <td>2.0</td>\n",
              "      <td>1.0</td>\n",
              "    </tr>\n",
              "    <tr>\n",
              "      <th>40</th>\n",
              "      <td>118</td>\n",
              "      <td>NDAQ</td>\n",
              "      <td>2.0</td>\n",
              "      <td>1.0</td>\n",
              "      <td>2.0</td>\n",
              "    </tr>\n",
              "    <tr>\n",
              "      <th>41</th>\n",
              "      <td>121</td>\n",
              "      <td>NFLX</td>\n",
              "      <td>3.0</td>\n",
              "      <td>2.0</td>\n",
              "      <td>1.0</td>\n",
              "    </tr>\n",
              "    <tr>\n",
              "      <th>42</th>\n",
              "      <td>124</td>\n",
              "      <td>NTAP</td>\n",
              "      <td>3.0</td>\n",
              "      <td>1.0</td>\n",
              "      <td>2.0</td>\n",
              "    </tr>\n",
              "    <tr>\n",
              "      <th>43</th>\n",
              "      <td>126</td>\n",
              "      <td>NVDA</td>\n",
              "      <td>3.0</td>\n",
              "      <td>3.0</td>\n",
              "      <td>3.0</td>\n",
              "    </tr>\n",
              "    <tr>\n",
              "      <th>44</th>\n",
              "      <td>128</td>\n",
              "      <td>OLED</td>\n",
              "      <td>2.0</td>\n",
              "      <td>1.0</td>\n",
              "      <td>3.0</td>\n",
              "    </tr>\n",
              "    <tr>\n",
              "      <th>45</th>\n",
              "      <td>151</td>\n",
              "      <td>REGN</td>\n",
              "      <td>3.0</td>\n",
              "      <td>3.0</td>\n",
              "      <td>3.0</td>\n",
              "    </tr>\n",
              "    <tr>\n",
              "      <th>46</th>\n",
              "      <td>158</td>\n",
              "      <td>SAVE</td>\n",
              "      <td>1.0</td>\n",
              "      <td>1.0</td>\n",
              "      <td>3.0</td>\n",
              "    </tr>\n",
              "    <tr>\n",
              "      <th>47</th>\n",
              "      <td>161</td>\n",
              "      <td>SCHN</td>\n",
              "      <td>1.0</td>\n",
              "      <td>3.0</td>\n",
              "      <td>2.0</td>\n",
              "    </tr>\n",
              "    <tr>\n",
              "      <th>48</th>\n",
              "      <td>162</td>\n",
              "      <td>SGEN</td>\n",
              "      <td>1.0</td>\n",
              "      <td>1.0</td>\n",
              "      <td>1.0</td>\n",
              "    </tr>\n",
              "    <tr>\n",
              "      <th>49</th>\n",
              "      <td>163</td>\n",
              "      <td>SNPS</td>\n",
              "      <td>1.0</td>\n",
              "      <td>2.0</td>\n",
              "      <td>1.0</td>\n",
              "    </tr>\n",
              "    <tr>\n",
              "      <th>50</th>\n",
              "      <td>166</td>\n",
              "      <td>SRCL</td>\n",
              "      <td>1.0</td>\n",
              "      <td>1.0</td>\n",
              "      <td>1.0</td>\n",
              "    </tr>\n",
              "    <tr>\n",
              "      <th>51</th>\n",
              "      <td>167</td>\n",
              "      <td>SSNC</td>\n",
              "      <td>1.0</td>\n",
              "      <td>1.0</td>\n",
              "      <td>2.0</td>\n",
              "    </tr>\n",
              "    <tr>\n",
              "      <th>52</th>\n",
              "      <td>168</td>\n",
              "      <td>STX</td>\n",
              "      <td>3.0</td>\n",
              "      <td>3.0</td>\n",
              "      <td>3.0</td>\n",
              "    </tr>\n",
              "    <tr>\n",
              "      <th>53</th>\n",
              "      <td>169</td>\n",
              "      <td>SWKS</td>\n",
              "      <td>3.0</td>\n",
              "      <td>3.0</td>\n",
              "      <td>3.0</td>\n",
              "    </tr>\n",
              "    <tr>\n",
              "      <th>54</th>\n",
              "      <td>173</td>\n",
              "      <td>TRIP</td>\n",
              "      <td>1.0</td>\n",
              "      <td>1.0</td>\n",
              "      <td>1.0</td>\n",
              "    </tr>\n",
              "    <tr>\n",
              "      <th>55</th>\n",
              "      <td>178</td>\n",
              "      <td>TXN</td>\n",
              "      <td>3.0</td>\n",
              "      <td>3.0</td>\n",
              "      <td>3.0</td>\n",
              "    </tr>\n",
              "    <tr>\n",
              "      <th>56</th>\n",
              "      <td>181</td>\n",
              "      <td>VIA</td>\n",
              "      <td>1.0</td>\n",
              "      <td>1.0</td>\n",
              "      <td>3.0</td>\n",
              "    </tr>\n",
              "    <tr>\n",
              "      <th>57</th>\n",
              "      <td>185</td>\n",
              "      <td>VRSK</td>\n",
              "      <td>2.0</td>\n",
              "      <td>3.0</td>\n",
              "      <td>3.0</td>\n",
              "    </tr>\n",
              "    <tr>\n",
              "      <th>58</th>\n",
              "      <td>188</td>\n",
              "      <td>WDC</td>\n",
              "      <td>1.0</td>\n",
              "      <td>1.0</td>\n",
              "      <td>1.0</td>\n",
              "    </tr>\n",
              "    <tr>\n",
              "      <th>59</th>\n",
              "      <td>191</td>\n",
              "      <td>WYNN</td>\n",
              "      <td>1.0</td>\n",
              "      <td>3.0</td>\n",
              "      <td>3.0</td>\n",
              "    </tr>\n",
              "    <tr>\n",
              "      <th>60</th>\n",
              "      <td>194</td>\n",
              "      <td>ZEUS</td>\n",
              "      <td>1.0</td>\n",
              "      <td>2.0</td>\n",
              "      <td>1.0</td>\n",
              "    </tr>\n",
              "  </tbody>\n",
              "</table>\n",
              "</div>\n",
              "    <div class=\"colab-df-buttons\">\n",
              "\n",
              "  <div class=\"colab-df-container\">\n",
              "    <button class=\"colab-df-convert\" onclick=\"convertToInteractive('df-ed3963ab-6588-4a6c-a81d-70e74d4a34e5')\"\n",
              "            title=\"Convert this dataframe to an interactive table.\"\n",
              "            style=\"display:none;\">\n",
              "\n",
              "  <svg xmlns=\"http://www.w3.org/2000/svg\" height=\"24px\" viewBox=\"0 -960 960 960\">\n",
              "    <path d=\"M120-120v-720h720v720H120Zm60-500h600v-160H180v160Zm220 220h160v-160H400v160Zm0 220h160v-160H400v160ZM180-400h160v-160H180v160Zm440 0h160v-160H620v160ZM180-180h160v-160H180v160Zm440 0h160v-160H620v160Z\"/>\n",
              "  </svg>\n",
              "    </button>\n",
              "\n",
              "  <style>\n",
              "    .colab-df-container {\n",
              "      display:flex;\n",
              "      gap: 12px;\n",
              "    }\n",
              "\n",
              "    .colab-df-convert {\n",
              "      background-color: #E8F0FE;\n",
              "      border: none;\n",
              "      border-radius: 50%;\n",
              "      cursor: pointer;\n",
              "      display: none;\n",
              "      fill: #1967D2;\n",
              "      height: 32px;\n",
              "      padding: 0 0 0 0;\n",
              "      width: 32px;\n",
              "    }\n",
              "\n",
              "    .colab-df-convert:hover {\n",
              "      background-color: #E2EBFA;\n",
              "      box-shadow: 0px 1px 2px rgba(60, 64, 67, 0.3), 0px 1px 3px 1px rgba(60, 64, 67, 0.15);\n",
              "      fill: #174EA6;\n",
              "    }\n",
              "\n",
              "    .colab-df-buttons div {\n",
              "      margin-bottom: 4px;\n",
              "    }\n",
              "\n",
              "    [theme=dark] .colab-df-convert {\n",
              "      background-color: #3B4455;\n",
              "      fill: #D2E3FC;\n",
              "    }\n",
              "\n",
              "    [theme=dark] .colab-df-convert:hover {\n",
              "      background-color: #434B5C;\n",
              "      box-shadow: 0px 1px 3px 1px rgba(0, 0, 0, 0.15);\n",
              "      filter: drop-shadow(0px 1px 2px rgba(0, 0, 0, 0.3));\n",
              "      fill: #FFFFFF;\n",
              "    }\n",
              "  </style>\n",
              "\n",
              "    <script>\n",
              "      const buttonEl =\n",
              "        document.querySelector('#df-ed3963ab-6588-4a6c-a81d-70e74d4a34e5 button.colab-df-convert');\n",
              "      buttonEl.style.display =\n",
              "        google.colab.kernel.accessAllowed ? 'block' : 'none';\n",
              "\n",
              "      async function convertToInteractive(key) {\n",
              "        const element = document.querySelector('#df-ed3963ab-6588-4a6c-a81d-70e74d4a34e5');\n",
              "        const dataTable =\n",
              "          await google.colab.kernel.invokeFunction('convertToInteractive',\n",
              "                                                    [key], {});\n",
              "        if (!dataTable) return;\n",
              "\n",
              "        const docLinkHtml = 'Like what you see? Visit the ' +\n",
              "          '<a target=\"_blank\" href=https://colab.research.google.com/notebooks/data_table.ipynb>data table notebook</a>'\n",
              "          + ' to learn more about interactive tables.';\n",
              "        element.innerHTML = '';\n",
              "        dataTable['output_type'] = 'display_data';\n",
              "        await google.colab.output.renderOutput(dataTable, element);\n",
              "        const docLink = document.createElement('div');\n",
              "        docLink.innerHTML = docLinkHtml;\n",
              "        element.appendChild(docLink);\n",
              "      }\n",
              "    </script>\n",
              "  </div>\n",
              "\n",
              "\n",
              "<div id=\"df-8baf1aa3-e54d-4011-a74a-669898950295\">\n",
              "  <button class=\"colab-df-quickchart\" onclick=\"quickchart('df-8baf1aa3-e54d-4011-a74a-669898950295')\"\n",
              "            title=\"Suggest charts.\"\n",
              "            style=\"display:none;\">\n",
              "\n",
              "<svg xmlns=\"http://www.w3.org/2000/svg\" height=\"24px\"viewBox=\"0 0 24 24\"\n",
              "     width=\"24px\">\n",
              "    <g>\n",
              "        <path d=\"M19 3H5c-1.1 0-2 .9-2 2v14c0 1.1.9 2 2 2h14c1.1 0 2-.9 2-2V5c0-1.1-.9-2-2-2zM9 17H7v-7h2v7zm4 0h-2V7h2v10zm4 0h-2v-4h2v4z\"/>\n",
              "    </g>\n",
              "</svg>\n",
              "  </button>\n",
              "\n",
              "<style>\n",
              "  .colab-df-quickchart {\n",
              "      --bg-color: #E8F0FE;\n",
              "      --fill-color: #1967D2;\n",
              "      --hover-bg-color: #E2EBFA;\n",
              "      --hover-fill-color: #174EA6;\n",
              "      --disabled-fill-color: #AAA;\n",
              "      --disabled-bg-color: #DDD;\n",
              "  }\n",
              "\n",
              "  [theme=dark] .colab-df-quickchart {\n",
              "      --bg-color: #3B4455;\n",
              "      --fill-color: #D2E3FC;\n",
              "      --hover-bg-color: #434B5C;\n",
              "      --hover-fill-color: #FFFFFF;\n",
              "      --disabled-bg-color: #3B4455;\n",
              "      --disabled-fill-color: #666;\n",
              "  }\n",
              "\n",
              "  .colab-df-quickchart {\n",
              "    background-color: var(--bg-color);\n",
              "    border: none;\n",
              "    border-radius: 50%;\n",
              "    cursor: pointer;\n",
              "    display: none;\n",
              "    fill: var(--fill-color);\n",
              "    height: 32px;\n",
              "    padding: 0;\n",
              "    width: 32px;\n",
              "  }\n",
              "\n",
              "  .colab-df-quickchart:hover {\n",
              "    background-color: var(--hover-bg-color);\n",
              "    box-shadow: 0 1px 2px rgba(60, 64, 67, 0.3), 0 1px 3px 1px rgba(60, 64, 67, 0.15);\n",
              "    fill: var(--button-hover-fill-color);\n",
              "  }\n",
              "\n",
              "  .colab-df-quickchart-complete:disabled,\n",
              "  .colab-df-quickchart-complete:disabled:hover {\n",
              "    background-color: var(--disabled-bg-color);\n",
              "    fill: var(--disabled-fill-color);\n",
              "    box-shadow: none;\n",
              "  }\n",
              "\n",
              "  .colab-df-spinner {\n",
              "    border: 2px solid var(--fill-color);\n",
              "    border-color: transparent;\n",
              "    border-bottom-color: var(--fill-color);\n",
              "    animation:\n",
              "      spin 1s steps(1) infinite;\n",
              "  }\n",
              "\n",
              "  @keyframes spin {\n",
              "    0% {\n",
              "      border-color: transparent;\n",
              "      border-bottom-color: var(--fill-color);\n",
              "      border-left-color: var(--fill-color);\n",
              "    }\n",
              "    20% {\n",
              "      border-color: transparent;\n",
              "      border-left-color: var(--fill-color);\n",
              "      border-top-color: var(--fill-color);\n",
              "    }\n",
              "    30% {\n",
              "      border-color: transparent;\n",
              "      border-left-color: var(--fill-color);\n",
              "      border-top-color: var(--fill-color);\n",
              "      border-right-color: var(--fill-color);\n",
              "    }\n",
              "    40% {\n",
              "      border-color: transparent;\n",
              "      border-right-color: var(--fill-color);\n",
              "      border-top-color: var(--fill-color);\n",
              "    }\n",
              "    60% {\n",
              "      border-color: transparent;\n",
              "      border-right-color: var(--fill-color);\n",
              "    }\n",
              "    80% {\n",
              "      border-color: transparent;\n",
              "      border-right-color: var(--fill-color);\n",
              "      border-bottom-color: var(--fill-color);\n",
              "    }\n",
              "    90% {\n",
              "      border-color: transparent;\n",
              "      border-bottom-color: var(--fill-color);\n",
              "    }\n",
              "  }\n",
              "</style>\n",
              "\n",
              "  <script>\n",
              "    async function quickchart(key) {\n",
              "      const quickchartButtonEl =\n",
              "        document.querySelector('#' + key + ' button');\n",
              "      quickchartButtonEl.disabled = true;  // To prevent multiple clicks.\n",
              "      quickchartButtonEl.classList.add('colab-df-spinner');\n",
              "      try {\n",
              "        const charts = await google.colab.kernel.invokeFunction(\n",
              "            'suggestCharts', [key], {});\n",
              "      } catch (error) {\n",
              "        console.error('Error during call to suggestCharts:', error);\n",
              "      }\n",
              "      quickchartButtonEl.classList.remove('colab-df-spinner');\n",
              "      quickchartButtonEl.classList.add('colab-df-quickchart-complete');\n",
              "    }\n",
              "    (() => {\n",
              "      let quickchartButtonEl =\n",
              "        document.querySelector('#df-8baf1aa3-e54d-4011-a74a-669898950295 button');\n",
              "      quickchartButtonEl.style.display =\n",
              "        google.colab.kernel.accessAllowed ? 'block' : 'none';\n",
              "    })();\n",
              "  </script>\n",
              "</div>\n",
              "    </div>\n",
              "  </div>\n"
            ]
          },
          "metadata": {},
          "execution_count": 410
        }
      ]
    },
    {
      "cell_type": "markdown",
      "source": [
        "## Companies' 3-d adjacency matrix (for 3 years)"
      ],
      "metadata": {
        "id": "g5aS9tWTF1Ad"
      }
    },
    {
      "cell_type": "code",
      "source": [
        "matrix = np.zeros((61, 61, 3))"
      ],
      "metadata": {
        "id": "h1opkFrnAo8u"
      },
      "execution_count": null,
      "outputs": []
    },
    {
      "cell_type": "code",
      "source": [
        "for year in range(0, 3):\n",
        "  for first_company in range(0, 61):\n",
        "    for second_company in range(0, 61):\n",
        "      if clusters.iloc[first_company, 4 - year] == clusters.iloc[second_company, 4 - year]:\n",
        "        matrix[first_company, second_company, year] = 1\n"
      ],
      "metadata": {
        "id": "scA-6igGAo8u"
      },
      "execution_count": null,
      "outputs": []
    },
    {
      "cell_type": "code",
      "source": [
        "print(matrix)"
      ],
      "metadata": {
        "colab": {
          "base_uri": "https://localhost:8080/"
        },
        "outputId": "335e4143-fcb4-4a5e-a41b-37e46e6de73e",
        "id": "bvuFJon_Ao8u"
      },
      "execution_count": null,
      "outputs": [
        {
          "output_type": "stream",
          "name": "stdout",
          "text": [
            "[[[1. 1. 1.]\n",
            "  [1. 1. 1.]\n",
            "  [0. 0. 0.]\n",
            "  ...\n",
            "  [0. 0. 0.]\n",
            "  [1. 1. 0.]\n",
            "  [0. 0. 0.]]\n",
            "\n",
            " [[1. 1. 1.]\n",
            "  [1. 1. 1.]\n",
            "  [0. 0. 0.]\n",
            "  ...\n",
            "  [0. 0. 0.]\n",
            "  [1. 1. 0.]\n",
            "  [0. 0. 0.]]\n",
            "\n",
            " [[0. 0. 0.]\n",
            "  [0. 0. 0.]\n",
            "  [1. 1. 1.]\n",
            "  ...\n",
            "  [1. 0. 0.]\n",
            "  [0. 0. 0.]\n",
            "  [1. 1. 0.]]\n",
            "\n",
            " ...\n",
            "\n",
            " [[0. 0. 0.]\n",
            "  [0. 0. 0.]\n",
            "  [1. 0. 0.]\n",
            "  ...\n",
            "  [1. 1. 1.]\n",
            "  [0. 0. 1.]\n",
            "  [1. 0. 1.]]\n",
            "\n",
            " [[1. 1. 0.]\n",
            "  [1. 1. 0.]\n",
            "  [0. 0. 0.]\n",
            "  ...\n",
            "  [0. 0. 1.]\n",
            "  [1. 1. 1.]\n",
            "  [0. 0. 1.]]\n",
            "\n",
            " [[0. 0. 0.]\n",
            "  [0. 0. 0.]\n",
            "  [1. 1. 0.]\n",
            "  ...\n",
            "  [1. 0. 1.]\n",
            "  [0. 0. 1.]\n",
            "  [1. 1. 1.]]]\n"
          ]
        }
      ]
    },
    {
      "cell_type": "code",
      "source": [
        "np.save('2_variant_financial_reports_relations_3_years', matrix)"
      ],
      "metadata": {
        "id": "FSykFhFEAo8u"
      },
      "execution_count": null,
      "outputs": []
    },
    {
      "cell_type": "code",
      "source": [
        "relational_matrix = np.load('2_variant_financial_reports_relations_3_years.npy')"
      ],
      "metadata": {
        "id": "fmXQBe6NSpRa"
      },
      "execution_count": null,
      "outputs": []
    },
    {
      "cell_type": "code",
      "source": [
        "relational_matrix.shape"
      ],
      "metadata": {
        "colab": {
          "base_uri": "https://localhost:8080/"
        },
        "id": "WFYIpgAgTUt2",
        "outputId": "f1aca08f-22b2-49d2-b558-48e2276b7510"
      },
      "execution_count": null,
      "outputs": [
        {
          "output_type": "execute_result",
          "data": {
            "text/plain": [
              "(61, 61, 3)"
            ]
          },
          "metadata": {},
          "execution_count": 140
        }
      ]
    },
    {
      "cell_type": "code",
      "source": [
        "relational_matrix = relational_matrix.sum(axis = 2)"
      ],
      "metadata": {
        "id": "i3wCT_a0TcuI"
      },
      "execution_count": null,
      "outputs": []
    },
    {
      "cell_type": "code",
      "source": [
        "relational_matrix.shape"
      ],
      "metadata": {
        "colab": {
          "base_uri": "https://localhost:8080/"
        },
        "id": "KTUnCBIdVNQ-",
        "outputId": "e30adb1b-c3c1-43c4-815d-c4cfdf970d7f"
      },
      "execution_count": null,
      "outputs": [
        {
          "output_type": "execute_result",
          "data": {
            "text/plain": [
              "(61, 61)"
            ]
          },
          "metadata": {},
          "execution_count": 142
        }
      ]
    },
    {
      "cell_type": "code",
      "source": [
        "relational_matrix"
      ],
      "metadata": {
        "colab": {
          "base_uri": "https://localhost:8080/"
        },
        "id": "yJXq2yZ_Wnbs",
        "outputId": "97437e77-325d-4184-824c-c8dc0b229a40"
      },
      "execution_count": null,
      "outputs": [
        {
          "output_type": "execute_result",
          "data": {
            "text/plain": [
              "array([[3., 3., 0., ..., 0., 2., 0.],\n",
              "       [3., 3., 0., ..., 0., 2., 0.],\n",
              "       [0., 0., 3., ..., 1., 0., 2.],\n",
              "       ...,\n",
              "       [0., 0., 1., ..., 3., 1., 2.],\n",
              "       [2., 2., 0., ..., 1., 3., 1.],\n",
              "       [0., 0., 2., ..., 2., 1., 3.]])"
            ]
          },
          "metadata": {},
          "execution_count": 143
        }
      ]
    },
    {
      "cell_type": "code",
      "source": [
        "len(relational_matrix[relational_matrix == 0])"
      ],
      "metadata": {
        "colab": {
          "base_uri": "https://localhost:8080/"
        },
        "id": "KRireZ3HVcSI",
        "outputId": "5286ad8f-05a3-4d60-cefd-58e416824e7e"
      },
      "execution_count": null,
      "outputs": [
        {
          "output_type": "execute_result",
          "data": {
            "text/plain": [
              "1348"
            ]
          },
          "metadata": {},
          "execution_count": 144
        }
      ]
    },
    {
      "cell_type": "code",
      "source": [
        "len(relational_matrix[relational_matrix == 1])"
      ],
      "metadata": {
        "colab": {
          "base_uri": "https://localhost:8080/"
        },
        "id": "d38DI9twWeiI",
        "outputId": "0119071a-28e5-420a-d723-52cdde760e16"
      },
      "execution_count": null,
      "outputs": [
        {
          "output_type": "execute_result",
          "data": {
            "text/plain": [
              "1214"
            ]
          },
          "metadata": {},
          "execution_count": 145
        }
      ]
    },
    {
      "cell_type": "code",
      "source": [
        "len(relational_matrix[relational_matrix == 3])"
      ],
      "metadata": {
        "colab": {
          "base_uri": "https://localhost:8080/"
        },
        "id": "xIZXNxMyWiyp",
        "outputId": "a6150140-fdfc-4753-b570-ddd85ae47316"
      },
      "execution_count": null,
      "outputs": [
        {
          "output_type": "execute_result",
          "data": {
            "text/plain": [
              "433"
            ]
          },
          "metadata": {},
          "execution_count": 146
        }
      ]
    },
    {
      "cell_type": "code",
      "source": [
        "len(relational_matrix[relational_matrix == 2])"
      ],
      "metadata": {
        "colab": {
          "base_uri": "https://localhost:8080/"
        },
        "id": "DsR_VoHBWz4t",
        "outputId": "5d42703a-c1e7-4450-a6b3-ee72fa9878fc"
      },
      "execution_count": null,
      "outputs": [
        {
          "output_type": "execute_result",
          "data": {
            "text/plain": [
              "726"
            ]
          },
          "metadata": {},
          "execution_count": 147
        }
      ]
    },
    {
      "cell_type": "code",
      "source": [
        "np.save('from_0_to_3_financial_reports_2d_relational_matrix', relational_matrix)"
      ],
      "metadata": {
        "id": "gfAOQpgwXHz-"
      },
      "execution_count": null,
      "outputs": []
    },
    {
      "cell_type": "code",
      "source": [
        "relational_matrix = np.load('from_0_to_3_financial_reports_2d_relational_matrix.npy')"
      ],
      "metadata": {
        "id": "jDa6OZETXfMy"
      },
      "execution_count": null,
      "outputs": []
    },
    {
      "cell_type": "code",
      "source": [
        "relational_matrix.shape"
      ],
      "metadata": {
        "colab": {
          "base_uri": "https://localhost:8080/"
        },
        "id": "4UMEP1jYXmzK",
        "outputId": "805a79ff-ea71-49da-e37f-e6734083ae1b"
      },
      "execution_count": null,
      "outputs": [
        {
          "output_type": "execute_result",
          "data": {
            "text/plain": [
              "(61, 61)"
            ]
          },
          "metadata": {},
          "execution_count": 150
        }
      ]
    },
    {
      "cell_type": "code",
      "source": [
        "relational_matrix"
      ],
      "metadata": {
        "colab": {
          "base_uri": "https://localhost:8080/"
        },
        "id": "xU7mv0nWXpzS",
        "outputId": "ffb957b7-371b-420a-94ff-922fa20e1848"
      },
      "execution_count": null,
      "outputs": [
        {
          "output_type": "execute_result",
          "data": {
            "text/plain": [
              "array([[3., 3., 0., ..., 0., 2., 0.],\n",
              "       [3., 3., 0., ..., 0., 2., 0.],\n",
              "       [0., 0., 3., ..., 1., 0., 2.],\n",
              "       ...,\n",
              "       [0., 0., 1., ..., 3., 1., 2.],\n",
              "       [2., 2., 0., ..., 1., 3., 1.],\n",
              "       [0., 0., 2., ..., 2., 1., 3.]])"
            ]
          },
          "metadata": {},
          "execution_count": 151
        }
      ]
    },
    {
      "cell_type": "code",
      "source": [
        "wiki_relation_tickers = pd.read_csv('2d_matrix_wiki_relation_tickers.csv')"
      ],
      "metadata": {
        "id": "4o4njmxQYZJ2",
        "colab": {
          "base_uri": "https://localhost:8080/",
          "height": 321
        },
        "outputId": "63f05fa9-1ab0-4150-fd52-047e4f55ac0b"
      },
      "execution_count": null,
      "outputs": [
        {
          "output_type": "error",
          "ename": "FileNotFoundError",
          "evalue": "ignored",
          "traceback": [
            "\u001b[0;31m---------------------------------------------------------------------------\u001b[0m",
            "\u001b[0;31mFileNotFoundError\u001b[0m                         Traceback (most recent call last)",
            "\u001b[0;32m<ipython-input-152-1540317a2db9>\u001b[0m in \u001b[0;36m<cell line: 1>\u001b[0;34m()\u001b[0m\n\u001b[0;32m----> 1\u001b[0;31m \u001b[0mwiki_relation_tickers\u001b[0m \u001b[0;34m=\u001b[0m \u001b[0mpd\u001b[0m\u001b[0;34m.\u001b[0m\u001b[0mread_csv\u001b[0m\u001b[0;34m(\u001b[0m\u001b[0;34m'2d_matrix_wiki_relation_tickers.csv'\u001b[0m\u001b[0;34m)\u001b[0m\u001b[0;34m\u001b[0m\u001b[0;34m\u001b[0m\u001b[0m\n\u001b[0m",
            "\u001b[0;32m/usr/local/lib/python3.10/dist-packages/pandas/util/_decorators.py\u001b[0m in \u001b[0;36mwrapper\u001b[0;34m(*args, **kwargs)\u001b[0m\n\u001b[1;32m    209\u001b[0m                 \u001b[0;32melse\u001b[0m\u001b[0;34m:\u001b[0m\u001b[0;34m\u001b[0m\u001b[0;34m\u001b[0m\u001b[0m\n\u001b[1;32m    210\u001b[0m                     \u001b[0mkwargs\u001b[0m\u001b[0;34m[\u001b[0m\u001b[0mnew_arg_name\u001b[0m\u001b[0;34m]\u001b[0m \u001b[0;34m=\u001b[0m \u001b[0mnew_arg_value\u001b[0m\u001b[0;34m\u001b[0m\u001b[0;34m\u001b[0m\u001b[0m\n\u001b[0;32m--> 211\u001b[0;31m             \u001b[0;32mreturn\u001b[0m \u001b[0mfunc\u001b[0m\u001b[0;34m(\u001b[0m\u001b[0;34m*\u001b[0m\u001b[0margs\u001b[0m\u001b[0;34m,\u001b[0m \u001b[0;34m**\u001b[0m\u001b[0mkwargs\u001b[0m\u001b[0;34m)\u001b[0m\u001b[0;34m\u001b[0m\u001b[0;34m\u001b[0m\u001b[0m\n\u001b[0m\u001b[1;32m    212\u001b[0m \u001b[0;34m\u001b[0m\u001b[0m\n\u001b[1;32m    213\u001b[0m         \u001b[0;32mreturn\u001b[0m \u001b[0mcast\u001b[0m\u001b[0;34m(\u001b[0m\u001b[0mF\u001b[0m\u001b[0;34m,\u001b[0m \u001b[0mwrapper\u001b[0m\u001b[0;34m)\u001b[0m\u001b[0;34m\u001b[0m\u001b[0;34m\u001b[0m\u001b[0m\n",
            "\u001b[0;32m/usr/local/lib/python3.10/dist-packages/pandas/util/_decorators.py\u001b[0m in \u001b[0;36mwrapper\u001b[0;34m(*args, **kwargs)\u001b[0m\n\u001b[1;32m    329\u001b[0m                     \u001b[0mstacklevel\u001b[0m\u001b[0;34m=\u001b[0m\u001b[0mfind_stack_level\u001b[0m\u001b[0;34m(\u001b[0m\u001b[0;34m)\u001b[0m\u001b[0;34m,\u001b[0m\u001b[0;34m\u001b[0m\u001b[0;34m\u001b[0m\u001b[0m\n\u001b[1;32m    330\u001b[0m                 )\n\u001b[0;32m--> 331\u001b[0;31m             \u001b[0;32mreturn\u001b[0m \u001b[0mfunc\u001b[0m\u001b[0;34m(\u001b[0m\u001b[0;34m*\u001b[0m\u001b[0margs\u001b[0m\u001b[0;34m,\u001b[0m \u001b[0;34m**\u001b[0m\u001b[0mkwargs\u001b[0m\u001b[0;34m)\u001b[0m\u001b[0;34m\u001b[0m\u001b[0;34m\u001b[0m\u001b[0m\n\u001b[0m\u001b[1;32m    332\u001b[0m \u001b[0;34m\u001b[0m\u001b[0m\n\u001b[1;32m    333\u001b[0m         \u001b[0;31m# error: \"Callable[[VarArg(Any), KwArg(Any)], Any]\" has no\u001b[0m\u001b[0;34m\u001b[0m\u001b[0;34m\u001b[0m\u001b[0m\n",
            "\u001b[0;32m/usr/local/lib/python3.10/dist-packages/pandas/io/parsers/readers.py\u001b[0m in \u001b[0;36mread_csv\u001b[0;34m(filepath_or_buffer, sep, delimiter, header, names, index_col, usecols, squeeze, prefix, mangle_dupe_cols, dtype, engine, converters, true_values, false_values, skipinitialspace, skiprows, skipfooter, nrows, na_values, keep_default_na, na_filter, verbose, skip_blank_lines, parse_dates, infer_datetime_format, keep_date_col, date_parser, dayfirst, cache_dates, iterator, chunksize, compression, thousands, decimal, lineterminator, quotechar, quoting, doublequote, escapechar, comment, encoding, encoding_errors, dialect, error_bad_lines, warn_bad_lines, on_bad_lines, delim_whitespace, low_memory, memory_map, float_precision, storage_options)\u001b[0m\n\u001b[1;32m    948\u001b[0m     \u001b[0mkwds\u001b[0m\u001b[0;34m.\u001b[0m\u001b[0mupdate\u001b[0m\u001b[0;34m(\u001b[0m\u001b[0mkwds_defaults\u001b[0m\u001b[0;34m)\u001b[0m\u001b[0;34m\u001b[0m\u001b[0;34m\u001b[0m\u001b[0m\n\u001b[1;32m    949\u001b[0m \u001b[0;34m\u001b[0m\u001b[0m\n\u001b[0;32m--> 950\u001b[0;31m     \u001b[0;32mreturn\u001b[0m \u001b[0m_read\u001b[0m\u001b[0;34m(\u001b[0m\u001b[0mfilepath_or_buffer\u001b[0m\u001b[0;34m,\u001b[0m \u001b[0mkwds\u001b[0m\u001b[0;34m)\u001b[0m\u001b[0;34m\u001b[0m\u001b[0;34m\u001b[0m\u001b[0m\n\u001b[0m\u001b[1;32m    951\u001b[0m \u001b[0;34m\u001b[0m\u001b[0m\n\u001b[1;32m    952\u001b[0m \u001b[0;34m\u001b[0m\u001b[0m\n",
            "\u001b[0;32m/usr/local/lib/python3.10/dist-packages/pandas/io/parsers/readers.py\u001b[0m in \u001b[0;36m_read\u001b[0;34m(filepath_or_buffer, kwds)\u001b[0m\n\u001b[1;32m    603\u001b[0m \u001b[0;34m\u001b[0m\u001b[0m\n\u001b[1;32m    604\u001b[0m     \u001b[0;31m# Create the parser.\u001b[0m\u001b[0;34m\u001b[0m\u001b[0;34m\u001b[0m\u001b[0m\n\u001b[0;32m--> 605\u001b[0;31m     \u001b[0mparser\u001b[0m \u001b[0;34m=\u001b[0m \u001b[0mTextFileReader\u001b[0m\u001b[0;34m(\u001b[0m\u001b[0mfilepath_or_buffer\u001b[0m\u001b[0;34m,\u001b[0m \u001b[0;34m**\u001b[0m\u001b[0mkwds\u001b[0m\u001b[0;34m)\u001b[0m\u001b[0;34m\u001b[0m\u001b[0;34m\u001b[0m\u001b[0m\n\u001b[0m\u001b[1;32m    606\u001b[0m \u001b[0;34m\u001b[0m\u001b[0m\n\u001b[1;32m    607\u001b[0m     \u001b[0;32mif\u001b[0m \u001b[0mchunksize\u001b[0m \u001b[0;32mor\u001b[0m \u001b[0miterator\u001b[0m\u001b[0;34m:\u001b[0m\u001b[0;34m\u001b[0m\u001b[0;34m\u001b[0m\u001b[0m\n",
            "\u001b[0;32m/usr/local/lib/python3.10/dist-packages/pandas/io/parsers/readers.py\u001b[0m in \u001b[0;36m__init__\u001b[0;34m(self, f, engine, **kwds)\u001b[0m\n\u001b[1;32m   1440\u001b[0m \u001b[0;34m\u001b[0m\u001b[0m\n\u001b[1;32m   1441\u001b[0m         \u001b[0mself\u001b[0m\u001b[0;34m.\u001b[0m\u001b[0mhandles\u001b[0m\u001b[0;34m:\u001b[0m \u001b[0mIOHandles\u001b[0m \u001b[0;34m|\u001b[0m \u001b[0;32mNone\u001b[0m \u001b[0;34m=\u001b[0m \u001b[0;32mNone\u001b[0m\u001b[0;34m\u001b[0m\u001b[0;34m\u001b[0m\u001b[0m\n\u001b[0;32m-> 1442\u001b[0;31m         \u001b[0mself\u001b[0m\u001b[0;34m.\u001b[0m\u001b[0m_engine\u001b[0m \u001b[0;34m=\u001b[0m \u001b[0mself\u001b[0m\u001b[0;34m.\u001b[0m\u001b[0m_make_engine\u001b[0m\u001b[0;34m(\u001b[0m\u001b[0mf\u001b[0m\u001b[0;34m,\u001b[0m \u001b[0mself\u001b[0m\u001b[0;34m.\u001b[0m\u001b[0mengine\u001b[0m\u001b[0;34m)\u001b[0m\u001b[0;34m\u001b[0m\u001b[0;34m\u001b[0m\u001b[0m\n\u001b[0m\u001b[1;32m   1443\u001b[0m \u001b[0;34m\u001b[0m\u001b[0m\n\u001b[1;32m   1444\u001b[0m     \u001b[0;32mdef\u001b[0m \u001b[0mclose\u001b[0m\u001b[0;34m(\u001b[0m\u001b[0mself\u001b[0m\u001b[0;34m)\u001b[0m \u001b[0;34m->\u001b[0m \u001b[0;32mNone\u001b[0m\u001b[0;34m:\u001b[0m\u001b[0;34m\u001b[0m\u001b[0;34m\u001b[0m\u001b[0m\n",
            "\u001b[0;32m/usr/local/lib/python3.10/dist-packages/pandas/io/parsers/readers.py\u001b[0m in \u001b[0;36m_make_engine\u001b[0;34m(self, f, engine)\u001b[0m\n\u001b[1;32m   1733\u001b[0m                 \u001b[0;32mif\u001b[0m \u001b[0;34m\"b\"\u001b[0m \u001b[0;32mnot\u001b[0m \u001b[0;32min\u001b[0m \u001b[0mmode\u001b[0m\u001b[0;34m:\u001b[0m\u001b[0;34m\u001b[0m\u001b[0;34m\u001b[0m\u001b[0m\n\u001b[1;32m   1734\u001b[0m                     \u001b[0mmode\u001b[0m \u001b[0;34m+=\u001b[0m \u001b[0;34m\"b\"\u001b[0m\u001b[0;34m\u001b[0m\u001b[0;34m\u001b[0m\u001b[0m\n\u001b[0;32m-> 1735\u001b[0;31m             self.handles = get_handle(\n\u001b[0m\u001b[1;32m   1736\u001b[0m                 \u001b[0mf\u001b[0m\u001b[0;34m,\u001b[0m\u001b[0;34m\u001b[0m\u001b[0;34m\u001b[0m\u001b[0m\n\u001b[1;32m   1737\u001b[0m                 \u001b[0mmode\u001b[0m\u001b[0;34m,\u001b[0m\u001b[0;34m\u001b[0m\u001b[0;34m\u001b[0m\u001b[0m\n",
            "\u001b[0;32m/usr/local/lib/python3.10/dist-packages/pandas/io/common.py\u001b[0m in \u001b[0;36mget_handle\u001b[0;34m(path_or_buf, mode, encoding, compression, memory_map, is_text, errors, storage_options)\u001b[0m\n\u001b[1;32m    854\u001b[0m         \u001b[0;32mif\u001b[0m \u001b[0mioargs\u001b[0m\u001b[0;34m.\u001b[0m\u001b[0mencoding\u001b[0m \u001b[0;32mand\u001b[0m \u001b[0;34m\"b\"\u001b[0m \u001b[0;32mnot\u001b[0m \u001b[0;32min\u001b[0m \u001b[0mioargs\u001b[0m\u001b[0;34m.\u001b[0m\u001b[0mmode\u001b[0m\u001b[0;34m:\u001b[0m\u001b[0;34m\u001b[0m\u001b[0;34m\u001b[0m\u001b[0m\n\u001b[1;32m    855\u001b[0m             \u001b[0;31m# Encoding\u001b[0m\u001b[0;34m\u001b[0m\u001b[0;34m\u001b[0m\u001b[0m\n\u001b[0;32m--> 856\u001b[0;31m             handle = open(\n\u001b[0m\u001b[1;32m    857\u001b[0m                 \u001b[0mhandle\u001b[0m\u001b[0;34m,\u001b[0m\u001b[0;34m\u001b[0m\u001b[0;34m\u001b[0m\u001b[0m\n\u001b[1;32m    858\u001b[0m                 \u001b[0mioargs\u001b[0m\u001b[0;34m.\u001b[0m\u001b[0mmode\u001b[0m\u001b[0;34m,\u001b[0m\u001b[0;34m\u001b[0m\u001b[0;34m\u001b[0m\u001b[0m\n",
            "\u001b[0;31mFileNotFoundError\u001b[0m: [Errno 2] No such file or directory: '2d_matrix_wiki_relation_tickers.csv'"
          ]
        }
      ]
    },
    {
      "cell_type": "code",
      "source": [
        "wiki_relation_tickers"
      ],
      "metadata": {
        "colab": {
          "base_uri": "https://localhost:8080/",
          "height": 176
        },
        "id": "-m_eY-6tbgd6",
        "outputId": "f81300f3-baaf-44a0-e562-9e0ab842b544"
      },
      "execution_count": null,
      "outputs": [
        {
          "output_type": "error",
          "ename": "NameError",
          "evalue": "ignored",
          "traceback": [
            "\u001b[0;31m---------------------------------------------------------------------------\u001b[0m",
            "\u001b[0;31mNameError\u001b[0m                                 Traceback (most recent call last)",
            "\u001b[0;32m<ipython-input-153-a238f8497e94>\u001b[0m in \u001b[0;36m<cell line: 1>\u001b[0;34m()\u001b[0m\n\u001b[0;32m----> 1\u001b[0;31m \u001b[0mwiki_relation_tickers\u001b[0m\u001b[0;34m\u001b[0m\u001b[0;34m\u001b[0m\u001b[0m\n\u001b[0m",
            "\u001b[0;31mNameError\u001b[0m: name 'wiki_relation_tickers' is not defined"
          ]
        }
      ]
    },
    {
      "cell_type": "code",
      "source": [
        "for i in range(0, 61):\n",
        "  if wiki_relation_tickers['0'].tolist()[i] != clusters.Ticker.tolist()[i]:\n",
        "      print(False)\n",
        "print(True)"
      ],
      "metadata": {
        "colab": {
          "base_uri": "https://localhost:8080/"
        },
        "id": "FefOOr4pcALl",
        "outputId": "7bfd4f52-c04b-4ae1-f83d-9a579df65bce"
      },
      "execution_count": null,
      "outputs": [
        {
          "output_type": "stream",
          "name": "stdout",
          "text": [
            "True\n"
          ]
        }
      ]
    },
    {
      "cell_type": "markdown",
      "source": [
        "## Classic Clustering algorithms"
      ],
      "metadata": {
        "id": "blU0iNmcF-Hd"
      }
    },
    {
      "cell_type": "code",
      "source": [
        "reports_list = []\n",
        "for ticker in economic_reports_dataset.index.tolist():\n",
        "  company_report_statement = [economic_reports_dataset.at[ticker, 'Net income 2019'] / economic_reports_dataset.at[ticker, 'Total assets 2019'],\n",
        "                              economic_reports_dataset.at[ticker, 'Net income 2019'] / economic_reports_dataset.at[ticker, 'Total shareholders\\' equity 2019'],\n",
        "                              economic_reports_dataset.at[ticker, 'Net income 2019'] / economic_reports_dataset.at[ticker, 'Operating income 2019']]\n",
        "  reports_list.append(company_report_statement)\n"
      ],
      "metadata": {
        "id": "edtXcgUhISMp"
      },
      "execution_count": null,
      "outputs": []
    },
    {
      "cell_type": "code",
      "source": [
        "reports_list = np.array(reports_list)"
      ],
      "metadata": {
        "id": "LQklGdiWdm8D"
      },
      "execution_count": null,
      "outputs": []
    },
    {
      "cell_type": "code",
      "source": [
        "#pca= PCA(n_components=2, random_state=42)\n",
        "#X_pca = pca.fit_transform(reports_list)\n",
        "distance_metrics = []\n",
        "number_of_clusters = []\n",
        "for n_clusters in range(2, 51, 2):\n",
        "    k_means_clustering = KMeans(n_clusters=n_clusters)\n",
        "    k_means_clustering.fit(reports_list)\n",
        "    y_pred = k_means_clustering.predict(reports_list)\n",
        "    distance = calculate_metric(reports_list, y_pred, k_means_clustering, n_clusters)\n",
        "    distance_metrics.append(distance)\n",
        "    number_of_clusters.append(n_clusters)\n",
        "    print(n_clusters)"
      ],
      "metadata": {
        "colab": {
          "base_uri": "https://localhost:8080/"
        },
        "id": "I1TZeyWVm3v-",
        "outputId": "cd0d5ddc-bf4f-4e85-e309-062b91bfe565"
      },
      "execution_count": null,
      "outputs": [
        {
          "output_type": "stream",
          "name": "stdout",
          "text": [
            "2\n",
            "4\n",
            "6\n",
            "8\n",
            "10\n",
            "12\n",
            "14\n",
            "16\n",
            "18\n",
            "20\n",
            "22\n",
            "24\n",
            "26\n",
            "28\n",
            "30\n",
            "32\n",
            "34\n",
            "36\n",
            "38\n",
            "40\n",
            "42\n",
            "44\n",
            "46\n",
            "48\n",
            "50\n"
          ]
        }
      ]
    },
    {
      "cell_type": "code",
      "source": [
        "plt.figure(figsize=(9, 6))\n",
        "plt.plot(number_of_clusters, distance_metrics, linewidth=3)\n",
        "plt.title('Dependence of the distortion on number of clusters')\n",
        "plt.xlabel('Number of clusters')\n",
        "plt.ylabel('Distortion')\n",
        "plt.scatter(6, distance_metrics[2], color='red', s=60, marker='o')\n",
        "plt.savefig('distortion')"
      ],
      "metadata": {
        "colab": {
          "base_uri": "https://localhost:8080/",
          "height": 557
        },
        "id": "fBEvSyvynhIX",
        "outputId": "5ef09579-f7c8-411f-f543-a8f5170ac30d"
      },
      "execution_count": null,
      "outputs": [
        {
          "output_type": "display_data",
          "data": {
            "text/plain": [
              "<Figure size 900x600 with 1 Axes>"
            ],
            "image/png": "[encoded data removed]"
          },
          "metadata": {}
        }
      ]
    },
    {
      "cell_type": "code",
      "source": [
        "from sklearn.metrics import silhouette_score\n",
        "silhouette_metrics = []\n",
        "number_of_clusters = []\n",
        "for n_clusters in range(2, 51):\n",
        "    k_means_clustering = KMeans(n_clusters=n_clusters)\n",
        "    y_pred = k_means_clustering.fit_predict(reports_list)\n",
        "    score = silhouette_score(reports_list, y_pred)\n",
        "    silhouette_metrics.append(score)\n",
        "    number_of_clusters.append(n_clusters)\n",
        "    print(n_clusters)"
      ],
      "metadata": {
        "colab": {
          "base_uri": "https://localhost:8080/"
        },
        "id": "nkkWKpo6Xh5h",
        "outputId": "2a649eb4-6c75-4ea3-b8ec-1b56cb7c1fce"
      },
      "execution_count": null,
      "outputs": [
        {
          "output_type": "stream",
          "name": "stdout",
          "text": [
            "2\n",
            "3\n",
            "4\n",
            "5\n",
            "6\n",
            "7\n",
            "8\n",
            "9\n",
            "10\n",
            "11\n",
            "12\n",
            "13\n",
            "14\n",
            "15\n",
            "16\n",
            "17\n",
            "18\n",
            "19\n",
            "20\n",
            "21\n",
            "22\n",
            "23\n",
            "24\n",
            "25\n",
            "26\n",
            "27\n",
            "28\n",
            "29\n",
            "30\n",
            "31\n",
            "32\n",
            "33\n",
            "34\n",
            "35\n",
            "36\n",
            "37\n",
            "38\n",
            "39\n",
            "40\n",
            "41\n",
            "42\n",
            "43\n",
            "44\n",
            "45\n",
            "46\n",
            "47\n",
            "48\n",
            "49\n",
            "50\n"
          ]
        }
      ]
    },
    {
      "cell_type": "code",
      "source": [
        "optimal_number_of_clusters = silhouette_metrics.index(max(silhouette_metrics)) + 2"
      ],
      "metadata": {
        "id": "axyZYN0MYNFf"
      },
      "execution_count": null,
      "outputs": []
    },
    {
      "cell_type": "code",
      "source": [
        "print(optimal_number_of_clusters)"
      ],
      "metadata": {
        "colab": {
          "base_uri": "https://localhost:8080/"
        },
        "id": "cAIVccGtYdz9",
        "outputId": "77a765ec-996f-42bb-eb73-14ee253a7cd4"
      },
      "execution_count": null,
      "outputs": [
        {
          "output_type": "stream",
          "name": "stdout",
          "text": [
            "2\n"
          ]
        }
      ]
    },
    {
      "cell_type": "code",
      "source": [
        "plt.figure(figsize=(9, 6))\n",
        "plt.plot(number_of_clusters, silhouette_metrics, linewidth=3)\n",
        "plt.title('Dependence of the Silhouette score on number of clusters')\n",
        "plt.xlabel('Number of clusters')\n",
        "plt.ylabel('Silhouette score')\n",
        "plt.savefig('silhouette')"
      ],
      "metadata": {
        "colab": {
          "base_uri": "https://localhost:8080/",
          "height": 557
        },
        "id": "MT2sswA8scHn",
        "outputId": "a367fb4e-47ae-4fbb-ad48-112af3deada0"
      },
      "execution_count": null,
      "outputs": [
        {
          "output_type": "display_data",
          "data": {
            "text/plain": [
              "<Figure size 900x600 with 1 Axes>"
            ],
            "image/png": "[encoded data removed]"
          },
          "metadata": {}
        }
      ]
    },
    {
      "cell_type": "code",
      "source": [
        "from sklearn.cluster import KMeans\n",
        "model = KMeans(n_clusters=2)\n",
        "y_pred_all = model.fit_predict(reports_list)"
      ],
      "metadata": {
        "id": "1Ba5ZXVmges_"
      },
      "execution_count": null,
      "outputs": []
    },
    {
      "cell_type": "code",
      "source": [
        "silhouette_score(reports_list, y_pred_all)"
      ],
      "metadata": {
        "colab": {
          "base_uri": "https://localhost:8080/"
        },
        "id": "U9zB8M8LWFXR",
        "outputId": "604bea6f-d823-4137-ec6b-5f02d9c89aa6"
      },
      "execution_count": null,
      "outputs": [
        {
          "output_type": "execute_result",
          "data": {
            "text/plain": [
              "0.9274285262936574"
            ]
          },
          "metadata": {},
          "execution_count": 286
        }
      ]
    },
    {
      "cell_type": "code",
      "source": [
        "y_pred_all"
      ],
      "metadata": {
        "colab": {
          "base_uri": "https://localhost:8080/"
        },
        "id": "NxQFBXt6g80x",
        "outputId": "af504fe2-18b3-4e41-e3ac-e586b4923e1d"
      },
      "execution_count": null,
      "outputs": [
        {
          "output_type": "execute_result",
          "data": {
            "text/plain": [
              "array([1, 1, 1, 1, 1, 1, 1, 1, 1, 1, 1, 1, 1, 1, 1, 1, 1, 1, 1, 1, 1, 1,\n",
              "       1, 1, 1, 1, 0, 1, 1, 1, 1, 1, 1, 1, 1, 0, 1, 1, 1, 1, 1, 1, 1, 1,\n",
              "       1, 1, 1, 1, 1, 1, 1, 1, 1, 1, 1, 1, 1, 1, 1, 1, 1], dtype=int32)"
            ]
          },
          "metadata": {},
          "execution_count": 287
        }
      ]
    },
    {
      "cell_type": "code",
      "source": [
        "print(economic_reports_dataset.loc[y_pred_all == 0, 'Ticker'])\n",
        "print('Length:', economic_reports_dataset.loc[y_pred_all == 0, 'Ticker'].shape[0])"
      ],
      "metadata": {
        "colab": {
          "base_uri": "https://localhost:8080/"
        },
        "id": "GMMP59WznzCJ",
        "outputId": "24cfdb14-e5dc-4ff8-e17c-403a2827537e"
      },
      "execution_count": null,
      "outputs": [
        {
          "output_type": "stream",
          "name": "stdout",
          "text": [
            "82     IRDM\n",
            "111    MSTR\n",
            "Name: Ticker, dtype: object\n",
            "Length: 2\n"
          ]
        }
      ]
    },
    {
      "cell_type": "code",
      "source": [
        "print(economic_reports_dataset.loc[y_pred_all == 1, 'Ticker'])\n",
        "print('Length:', economic_reports_dataset.loc[y_pred_all == 1, 'Ticker'].shape[0])"
      ],
      "metadata": {
        "colab": {
          "base_uri": "https://localhost:8080/"
        },
        "id": "WR6NceimoqO4",
        "outputId": "a01ea914-0e9f-43af-9afe-357258d5ece2"
      },
      "execution_count": null,
      "outputs": [
        {
          "output_type": "stream",
          "name": "stdout",
          "text": [
            "0       AAPL\n",
            "2       ADBE\n",
            "4       ADSK\n",
            "5       ADTN\n",
            "7       AKAM\n",
            "8       ALNY\n",
            "13      AMGN\n",
            "14      AMZN\n",
            "15      ANSS\n",
            "17      ATVI\n",
            "19      BIIB\n",
            "20      BJRI\n",
            "25      BSET\n",
            "29      CDNS\n",
            "33     CHSCP\n",
            "36      CONN\n",
            "37      COST\n",
            "39      CSCO\n",
            "50      EXPD\n",
            "51      EXPE\n",
            "59      FTNT\n",
            "61      GILD\n",
            "62     GOOGL\n",
            "63      GRMN\n",
            "78      INTC\n",
            "79      INTU\n",
            "87      JBHT\n",
            "88      JBLU\n",
            "101     LRCX\n",
            "103     LULU\n",
            "104     LXRX\n",
            "106      MAT\n",
            "107     MDLZ\n",
            "110     MSFT\n",
            "112     MTEX\n",
            "113       MU\n",
            "114     MYGN\n",
            "115     NATI\n",
            "118     NDAQ\n",
            "121     NFLX\n",
            "124     NTAP\n",
            "126     NVDA\n",
            "128     OLED\n",
            "151     REGN\n",
            "158     SAVE\n",
            "161     SCHN\n",
            "162     SGEN\n",
            "163     SNPS\n",
            "166     SRCL\n",
            "167     SSNC\n",
            "168      STX\n",
            "169     SWKS\n",
            "173     TRIP\n",
            "178      TXN\n",
            "181      VIA\n",
            "185     VRSK\n",
            "188      WDC\n",
            "191     WYNN\n",
            "194     ZEUS\n",
            "Name: Ticker, dtype: object\n",
            "Length: 59\n"
          ]
        }
      ]
    },
    {
      "cell_type": "code",
      "source": [
        "print(economic_reports_dataset.loc[y_pred_all == 2, 'Ticker'])\n",
        "print('Length:', economic_reports_dataset.loc[y_pred_all == 2, 'Ticker'].shape[0])"
      ],
      "metadata": {
        "colab": {
          "base_uri": "https://localhost:8080/"
        },
        "id": "jsiAA5xKov1w",
        "outputId": "0caaae93-fab5-4990-d98b-8ca77aee02c0"
      },
      "execution_count": null,
      "outputs": [
        {
          "output_type": "stream",
          "name": "stdout",
          "text": [
            "82    IRDM\n",
            "Name: Ticker, dtype: object\n",
            "Length: 1\n"
          ]
        }
      ]
    },
    {
      "cell_type": "code",
      "source": [
        "print(economic_reports_dataset.loc[y_pred_all == 3, 'Ticker'])\n",
        "print('Length:', economic_reports_dataset.loc[y_pred_all == 3, 'Ticker'].shape[0])"
      ],
      "metadata": {
        "colab": {
          "base_uri": "https://localhost:8080/"
        },
        "id": "m5MC0MajozCa",
        "outputId": "99f5ca1e-f3b0-432d-869a-5ec4234763d0"
      },
      "execution_count": null,
      "outputs": [
        {
          "output_type": "stream",
          "name": "stdout",
          "text": [
            "106    MAT\n",
            "Name: Ticker, dtype: object\n",
            "Length: 1\n"
          ]
        }
      ]
    },
    {
      "cell_type": "code",
      "source": [
        "print(economic_reports_dataset.loc[y_pred_all == 4, 'Ticker'])\n",
        "print('Length:', economic_reports_dataset.loc[y_pred_all == 4, 'Ticker'].shape[0])"
      ],
      "metadata": {
        "colab": {
          "base_uri": "https://localhost:8080/"
        },
        "id": "6iWdXB8no2bo",
        "outputId": "99e5c545-179d-4e0b-eb6e-dfd4eee27623"
      },
      "execution_count": null,
      "outputs": [
        {
          "output_type": "stream",
          "name": "stdout",
          "text": [
            "4     ADSK\n",
            "25    BSET\n",
            "29    CDNS\n",
            "Name: Ticker, dtype: object\n",
            "Length: 3\n"
          ]
        }
      ]
    },
    {
      "cell_type": "code",
      "source": [
        "print(economic_reports_dataset.loc[y_pred_all == 5, 'Ticker'])\n",
        "print('Length:', economic_reports_dataset.loc[y_pred_all == 5, 'Ticker'].shape[0])"
      ],
      "metadata": {
        "colab": {
          "base_uri": "https://localhost:8080/"
        },
        "id": "LlbyP5FCo5bx",
        "outputId": "24553d06-15fc-415c-c42e-b9b2abbbce4e"
      },
      "execution_count": null,
      "outputs": [
        {
          "output_type": "stream",
          "name": "stdout",
          "text": [
            "188    WDC\n",
            "Name: Ticker, dtype: object\n",
            "Length: 1\n"
          ]
        }
      ]
    },
    {
      "cell_type": "code",
      "source": [
        "print(economic_reports_dataset.loc[y_pred_all == 6, 'Ticker'])\n",
        "print('Length:', economic_reports_dataset.loc[y_pred_all == 6, 'Ticker'].shape[0])"
      ],
      "metadata": {
        "colab": {
          "base_uri": "https://localhost:8080/"
        },
        "id": "uijBXfc8o9Kr",
        "outputId": "aff1718e-9dfa-4ebf-dc34-48221cc29c21"
      },
      "execution_count": null,
      "outputs": [
        {
          "output_type": "stream",
          "name": "stdout",
          "text": [
            "0      AAPL\n",
            "13     AMGN\n",
            "104    LXRX\n",
            "124    NTAP\n",
            "168     STX\n",
            "178     TXN\n",
            "Name: Ticker, dtype: object\n",
            "Length: 6\n"
          ]
        }
      ]
    },
    {
      "cell_type": "code",
      "source": [
        "print(economic_reports_dataset.loc[y_pred_all == 7, 'Ticker'])\n",
        "print('Length:', economic_reports_dataset.loc[y_pred_all == 7, 'Ticker'].shape[0])"
      ],
      "metadata": {
        "colab": {
          "base_uri": "https://localhost:8080/"
        },
        "id": "ETz2DdUtpAep",
        "outputId": "ef3f74cd-43d3-4482-a677-6276b4f325da"
      },
      "execution_count": null,
      "outputs": [
        {
          "output_type": "stream",
          "name": "stdout",
          "text": [
            "2       ADBE\n",
            "7       AKAM\n",
            "14      AMZN\n",
            "15      ANSS\n",
            "17      ATVI\n",
            "19      BIIB\n",
            "20      BJRI\n",
            "33     CHSCP\n",
            "37      COST\n",
            "39      CSCO\n",
            "50      EXPD\n",
            "59      FTNT\n",
            "61      GILD\n",
            "62     GOOGL\n",
            "63      GRMN\n",
            "78      INTC\n",
            "79      INTU\n",
            "101     LRCX\n",
            "103     LULU\n",
            "107     MDLZ\n",
            "110     MSFT\n",
            "113       MU\n",
            "115     NATI\n",
            "118     NDAQ\n",
            "121     NFLX\n",
            "126     NVDA\n",
            "128     OLED\n",
            "151     REGN\n",
            "163     SNPS\n",
            "169     SWKS\n",
            "Name: Ticker, dtype: object\n",
            "Length: 30\n"
          ]
        }
      ]
    },
    {
      "cell_type": "code",
      "source": [
        "print(economic_reports_dataset.loc[y_pred_all == 8, 'Ticker'])\n",
        "print('Length:', economic_reports_dataset.loc[y_pred_all == 8, 'Ticker'].shape[0])"
      ],
      "metadata": {
        "colab": {
          "base_uri": "https://localhost:8080/"
        },
        "id": "nk4PMKyrpDfT",
        "outputId": "ffd72d95-b018-4985-c00c-d2761d58abcd"
      },
      "execution_count": null,
      "outputs": [
        {
          "output_type": "stream",
          "name": "stdout",
          "text": [
            "29    CDNS\n",
            "Name: Ticker, dtype: object\n",
            "Length: 1\n"
          ]
        }
      ]
    },
    {
      "cell_type": "code",
      "source": [
        "print(economic_reports_dataset.loc[y_pred_all == 9, 'Ticker'])\n",
        "print('Length:', economic_reports_dataset.loc[y_pred_all == 9, 'Ticker'].shape[0])"
      ],
      "metadata": {
        "colab": {
          "base_uri": "https://localhost:8080/"
        },
        "id": "qOvcOJ1opF-V",
        "outputId": "1d378bf8-d7e0-48b8-b65b-b4e9a9c10f6b"
      },
      "execution_count": null,
      "outputs": [
        {
          "output_type": "stream",
          "name": "stdout",
          "text": [
            "5      ADTN\n",
            "8      ALNY\n",
            "166    SRCL\n",
            "Name: Ticker, dtype: object\n",
            "Length: 3\n"
          ]
        }
      ]
    },
    {
      "cell_type": "code",
      "source": [
        "eps_values = []\n",
        "silhouette_metrics = []\n",
        "for x in range(10, 0, -1):\n",
        "    eps = 1 / (11 - x)\n",
        "    clustering = DBSCAN(eps=eps).fit(reports_list)\n",
        "    score = silhouette_score(reports_list, clustering.labels_)\n",
        "    silhouette_metrics.append(score)\n",
        "    eps_values.append(eps)"
      ],
      "metadata": {
        "id": "tEysw1jfd9f9"
      },
      "execution_count": null,
      "outputs": []
    },
    {
      "cell_type": "code",
      "source": [
        "optimal_eps = eps_values[silhouette_metrics.index(max(silhouette_metrics))]\n",
        "print(optimal_eps)"
      ],
      "metadata": {
        "colab": {
          "base_uri": "https://localhost:8080/"
        },
        "id": "kJP0-Pk5d61J",
        "outputId": "2c57f8e1-33ae-4dd6-ae64-e2054c70b2e3"
      },
      "execution_count": null,
      "outputs": [
        {
          "output_type": "stream",
          "name": "stdout",
          "text": [
            "1.0\n"
          ]
        }
      ]
    },
    {
      "cell_type": "code",
      "source": [
        "eps_values"
      ],
      "metadata": {
        "colab": {
          "base_uri": "https://localhost:8080/"
        },
        "id": "RywvVnWDvKbT",
        "outputId": "0588f28c-53f7-44e4-afc6-56d87de06412"
      },
      "execution_count": null,
      "outputs": [
        {
          "output_type": "execute_result",
          "data": {
            "text/plain": [
              "[1.0,\n",
              " 0.5,\n",
              " 0.3333333333333333,\n",
              " 0.25,\n",
              " 0.2,\n",
              " 0.16666666666666666,\n",
              " 0.14285714285714285,\n",
              " 0.125,\n",
              " 0.1111111111111111,\n",
              " 0.1]"
            ]
          },
          "metadata": {},
          "execution_count": 319
        }
      ]
    },
    {
      "cell_type": "code",
      "source": [
        "silhouette_metrics"
      ],
      "metadata": {
        "colab": {
          "base_uri": "https://localhost:8080/"
        },
        "id": "hmgpD0rWvOhi",
        "outputId": "2c82c4e4-0f0c-4e08-ff8f-03f767246519"
      },
      "execution_count": null,
      "outputs": [
        {
          "output_type": "execute_result",
          "data": {
            "text/plain": [
              "[0.8304534157834442,\n",
              " 0.7657858890397526,\n",
              " 0.6452434872737995,\n",
              " 0.5851157880040703,\n",
              " 0.4699889252572638,\n",
              " 0.44245761237333414,\n",
              " 0.3004956246752137,\n",
              " 0.24445822733756536,\n",
              " 0.13361371381033682,\n",
              " 0.04901704345336717]"
            ]
          },
          "metadata": {},
          "execution_count": 320
        }
      ]
    },
    {
      "cell_type": "code",
      "source": [
        "clustering = DBSCAN(eps=1).fit(reports_list)\n",
        "clustering.labels_"
      ],
      "metadata": {
        "colab": {
          "base_uri": "https://localhost:8080/"
        },
        "id": "xKDGzjvL5CmN",
        "outputId": "1db4a9b9-ceb8-456f-a785-115162862149"
      },
      "execution_count": null,
      "outputs": [
        {
          "output_type": "execute_result",
          "data": {
            "text/plain": [
              "array([ 0,  0, -1,  0,  0,  0,  0,  0,  0,  0,  0,  0, -1,  0,  0,  0,  0,\n",
              "        0,  0,  0,  0,  0,  0,  0,  0,  0, -1,  0,  0,  0,  0,  0, -1,  0,\n",
              "        0, -1,  0,  0,  0,  0,  0,  0,  0,  0,  0,  0,  0,  0,  0,  0,  0,\n",
              "        0,  0,  0,  0,  0,  0,  0, -1,  0,  0])"
            ]
          },
          "metadata": {},
          "execution_count": 321
        }
      ]
    },
    {
      "cell_type": "code",
      "source": [
        "silhouette_score(reports_list, clustering.labels_)"
      ],
      "metadata": {
        "colab": {
          "base_uri": "https://localhost:8080/"
        },
        "id": "OxhHHOvYfIiw",
        "outputId": "79bc05e2-f187-4061-a571-f92027adbb70"
      },
      "execution_count": null,
      "outputs": [
        {
          "output_type": "execute_result",
          "data": {
            "text/plain": [
              "0.8304534157834442"
            ]
          },
          "metadata": {},
          "execution_count": 322
        }
      ]
    },
    {
      "cell_type": "code",
      "source": [
        "plt.figure(figsize=(9, 6))\n",
        "plt.plot(eps_values, silhouette_metrics, linewidth=3)\n",
        "plt.title('Dependence of the Silhouette score on eps parameter')\n",
        "plt.xlabel('eps values')\n",
        "plt.ylabel('Silhouette score')\n",
        "plt.savefig('eps')"
      ],
      "metadata": {
        "colab": {
          "base_uri": "https://localhost:8080/",
          "height": 557
        },
        "id": "Jx94saxeupf2",
        "outputId": "f7fa81c3-03f7-4a18-ef70-1b99180e0353"
      },
      "execution_count": null,
      "outputs": [
        {
          "output_type": "display_data",
          "data": {
            "text/plain": [
              "<Figure size 900x600 with 1 Axes>"
            ],
            "image/png": "[encoded data removed]"
          },
          "metadata": {}
        }
      ]
    }
  ]
}